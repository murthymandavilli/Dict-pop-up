{
  "nbformat": 4,
  "nbformat_minor": 0,
  "metadata": {
    "colab": {
      "name": "COVID-19_until_June10_JHU.ipynb",
      "provenance": [],
      "private_outputs": true,
      "authorship_tag": "ABX9TyNZUsGmObtblJ1e1+oI6tSh",
      "include_colab_link": true
    },
    "kernelspec": {
      "name": "python3",
      "display_name": "Python 3"
    }
  },
  "cells": [
    {
      "cell_type": "markdown",
      "metadata": {
        "id": "view-in-github",
        "colab_type": "text"
      },
      "source": [
        "<a href=\"https://colab.research.google.com/github/suryamandavilli/COVID-19-June-10/blob/master/COVID_19_until_June10_JHU.ipynb\" target=\"_parent\"><img src=\"https://colab.research.google.com/assets/colab-badge.svg\" alt=\"Open In Colab\"/></a>"
      ]
    },
    {
      "cell_type": "code",
      "metadata": {
        "id": "dVOYG5THuNf6",
        "colab_type": "code",
        "colab": {}
      },
      "source": [
        "import pandas as pd\n",
        "import numpy as np\n",
        "import seaborn as sns\n",
        "import matplotlib.pyplot as plt\n",
        "%matlplotlib inline"
      ],
      "execution_count": 0,
      "outputs": []
    },
    {
      "cell_type": "code",
      "metadata": {
        "id": "E1J8BRxfvQaA",
        "colab_type": "code",
        "colab": {}
      },
      "source": [
        "import plotly.graph_objects as go"
      ],
      "execution_count": 0,
      "outputs": []
    },
    {
      "cell_type": "code",
      "metadata": {
        "id": "XCwrrx71ves_",
        "colab_type": "code",
        "colab": {}
      },
      "source": [
        "import plotly.express as px"
      ],
      "execution_count": 0,
      "outputs": []
    },
    {
      "cell_type": "code",
      "metadata": {
        "id": "nNeOgwINv3IH",
        "colab_type": "code",
        "colab": {}
      },
      "source": [
        "con_df = pd.read_csv('time_series_covid19_confirmed_global.csv')\n",
        "dt_df = pd.read_csv('time_series_covid19_deaths_global.csv')\n",
        "rc_df = pd.read_csv('time_series_covid19_recovered_global.csv')\n",
        "cou_df = pd.read_csv('https://raw.githubusercontent.com/CSSEGISandData/COVID-19/web-data/data/cases_country.csv')"
      ],
      "execution_count": 0,
      "outputs": []
    },
    {
      "cell_type": "code",
      "metadata": {
        "id": "OwKmh6nI5qki",
        "colab_type": "code",
        "colab": {}
      },
      "source": [
        "print(con_df.shape)"
      ],
      "execution_count": 0,
      "outputs": []
    },
    {
      "cell_type": "code",
      "metadata": {
        "id": "7_m2nuI85yDG",
        "colab_type": "code",
        "colab": {}
      },
      "source": [
        "print(dt_df.shape)"
      ],
      "execution_count": 0,
      "outputs": []
    },
    {
      "cell_type": "code",
      "metadata": {
        "id": "T-0KHxSi55Y_",
        "colab_type": "code",
        "colab": {}
      },
      "source": [
        "print(rc_df.shape)"
      ],
      "execution_count": 0,
      "outputs": []
    },
    {
      "cell_type": "code",
      "metadata": {
        "id": "kFjr2R9957t2",
        "colab_type": "code",
        "colab": {}
      },
      "source": [
        "con_df.columns"
      ],
      "execution_count": 0,
      "outputs": []
    },
    {
      "cell_type": "code",
      "metadata": {
        "id": "pLpyG1aT7kAe",
        "colab_type": "code",
        "colab": {}
      },
      "source": [
        "dt_df.columns"
      ],
      "execution_count": 0,
      "outputs": []
    },
    {
      "cell_type": "code",
      "metadata": {
        "id": "NNRZgi-s7zz-",
        "colab_type": "code",
        "colab": {}
      },
      "source": [
        "rc_df.columns"
      ],
      "execution_count": 0,
      "outputs": []
    },
    {
      "cell_type": "code",
      "metadata": {
        "id": "aKY8I8H-Aw0r",
        "colab_type": "code",
        "colab": {}
      },
      "source": [
        "cou_df.columns"
      ],
      "execution_count": 0,
      "outputs": []
    },
    {
      "cell_type": "code",
      "metadata": {
        "id": "nkKRcADR73bP",
        "colab_type": "code",
        "colab": {}
      },
      "source": [
        "for col in con_df.columns:\n",
        "  print(col)"
      ],
      "execution_count": 0,
      "outputs": []
    },
    {
      "cell_type": "code",
      "metadata": {
        "id": "E4aaG38DBpxF",
        "colab_type": "code",
        "colab": {}
      },
      "source": [
        "for col in cou_df.columns:\n",
        "  print(col)"
      ],
      "execution_count": 0,
      "outputs": []
    },
    {
      "cell_type": "code",
      "metadata": {
        "id": "q5I5VGbvA90X",
        "colab_type": "code",
        "colab": {}
      },
      "source": [
        "global_data = cou_df.copy().drop(['Lat','Long_','Last_Update','Country_Region'], axis=1)\n",
        "global_summary = pd.DataFrame(global_data.sum()).transpose()\n",
        "global_summary.style.format(\"{:,.0f}\")"
      ],
      "execution_count": 0,
      "outputs": []
    },
    {
      "cell_type": "code",
      "metadata": {
        "id": "g1DdZte1Cytg",
        "colab_type": "code",
        "colab": {}
      },
      "source": [
        "con_df_ts = con_df.copy().drop(['Lat','Long','Province/State','Country/Region'], axis=1)\n",
        "con_df_ts_summary = con_df_ts.sum()\n",
        "con_df_ts_summary"
      ],
      "execution_count": 0,
      "outputs": []
    },
    {
      "cell_type": "code",
      "metadata": {
        "id": "NAYXqm8POTqK",
        "colab_type": "code",
        "colab": {}
      },
      "source": [
        "fig = go.Figure(data=go.Scatter(x=con_df_ts_summary.index, y = con_df_ts_summary.values, \n",
        "                                mode='lines+markers'))\n",
        "fig.update_layout(title='Total Coronavirus Confirmed Cases (Globally)',\n",
        "                                  yaxis_title='Confirmed Cases', xaxis_tickangle = 315 )\n",
        "fig.show()\n"
      ],
      "execution_count": 0,
      "outputs": []
    },
    {
      "cell_type": "code",
      "metadata": {
        "id": "RODaXBAuRcFv",
        "colab_type": "code",
        "colab": {}
      },
      "source": [
        "new_con_df = con_df.copy().drop(['Lat','Long','Province/State','Country/Region'], axis=1).sum()\n",
        "new_dt_df = dt_df.copy().drop(['Lat','Long','Province/State','Country/Region'], axis=1).sum()\n",
        "new_rc_df = rc_df.copy().drop(['Lat','Long','Province/State','Country/Region'], axis=1).sum()\n",
        "\n",
        "#There is no timeseries data for Active cases, therefore it needs to be engineered separately\n",
        "active_agg_ts = pd.Series(data=np.array([xl - x2 - x3 for (xl, x2, x3) \n",
        "                            in zip(new_con_df.values,new_dt_df.values, new_rc_df.values)]),index = new_con_df.index)"
      ],
      "execution_count": 0,
      "outputs": []
    },
    {
      "cell_type": "code",
      "metadata": {
        "id": "6srlN58rnKK3",
        "colab_type": "code",
        "colab": {}
      },
      "source": [
        "def drawplot(ts_array, ts_label, title, colors, mode_size, line_size, xaxis_title, yaxis_title,\n",
        "              tickangle = 0,)\n",
        "fig2 = go.Figure()\n",
        "for index, ts in enumerate(ts_array):\n",
        "  fig.add_trace(trace, row=None, col=None, secondary_y=None)\n",
        "  "
      ],
      "execution_count": 0,
      "outputs": []
    },
    {
      "cell_type": "code",
      "metadata": {
        "id": "gKFPvRlG9DtI",
        "colab_type": "code",
        "colab": {}
      },
      "source": [
        "color_arr = px.colors.qualitative.Dark24\n",
        "ts_array = [new_con_df, active_agg_ts, new_rc_df, new_dt_df]\n",
        "labels = ['Confirmed','Active','Recovered','Deaths']\n",
        "colors = [color_arr[5],color_arr[0],color_arr[2],color_arr[3]]\n",
        "mode_size = [8,8,12,8]\n",
        "line_size = [2,2,4,2]"
      ],
      "execution_count": 0,
      "outputs": []
    },
    {
      "cell_type": "code",
      "metadata": {
        "id": "-VVXfNrv9oUG",
        "colab_type": "code",
        "colab": {}
      },
      "source": [
        ""
      ],
      "execution_count": 0,
      "outputs": []
    },
    {
      "cell_type": "code",
      "metadata": {
        "id": "uFxs0ZjU_aqf",
        "colab_type": "code",
        "colab": {}
      },
      "source": [
        ""
      ],
      "execution_count": 0,
      "outputs": []
    }
  ]
}