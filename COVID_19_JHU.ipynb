{
  "nbformat": 4,
  "nbformat_minor": 0,
  "metadata": {
    "colab": {
      "name": "COVID-19-JHU.ipynb",
      "provenance": [],
      "private_outputs": true,
      "authorship_tag": "ABX9TyNQwjY70EPfatvkaJLiBJ+D",
      "include_colab_link": true
    },
    "kernelspec": {
      "name": "python3",
      "display_name": "Python 3"
    }
  },
  "cells": [
    {
      "cell_type": "markdown",
      "metadata": {
        "id": "view-in-github",
        "colab_type": "text"
      },
      "source": [
        "<a href=\"https://colab.research.google.com/github/suryamandavilli/COVID-19-June-10/blob/master/COVID_19_JHU.ipynb\" target=\"_parent\"><img src=\"https://colab.research.google.com/assets/colab-badge.svg\" alt=\"Open In Colab\"/></a>"
      ]
    },
    {
      "cell_type": "code",
      "metadata": {
        "id": "dVOYG5THuNf6",
        "colab_type": "code",
        "colab": {}
      },
      "source": [
        "import pandas as pd\n",
        "import numpy as np\n",
        "import seaborn as sns\n",
        "import matplotlib.pyplot as plt"
      ],
      "execution_count": 0,
      "outputs": []
    },
    {
      "cell_type": "code",
      "metadata": {
        "id": "E1J8BRxfvQaA",
        "colab_type": "code",
        "colab": {}
      },
      "source": [
        "import plotly.graph_objects as go"
      ],
      "execution_count": 0,
      "outputs": []
    },
    {
      "cell_type": "code",
      "metadata": {
        "id": "XCwrrx71ves_",
        "colab_type": "code",
        "colab": {}
      },
      "source": [
        "import plotly.express as px"
      ],
      "execution_count": 0,
      "outputs": []
    },
    {
      "cell_type": "code",
      "metadata": {
        "id": "nNeOgwINv3IH",
        "colab_type": "code",
        "colab": {}
      },
      "source": [
        "con_df = pd.read_csv('time_series_covid19_confirmed_global.csv')\n",
        "dt_df = pd.read_csv('time_series_covid19_deaths_global.csv')\n",
        "rc_df = pd.read_csv('time_series_covid19_recovered_global.csv')\n",
        "cou_df = pd.read_csv('https://raw.githubusercontent.com/CSSEGISandData/COVID-19/web-data/data/cases_country.csv')"
      ],
      "execution_count": 0,
      "outputs": []
    },
    {
      "cell_type": "code",
      "metadata": {
        "id": "OwKmh6nI5qki",
        "colab_type": "code",
        "colab": {}
      },
      "source": [
        "print(con_df.shape)"
      ],
      "execution_count": 0,
      "outputs": []
    },
    {
      "cell_type": "code",
      "metadata": {
        "id": "7_m2nuI85yDG",
        "colab_type": "code",
        "colab": {}
      },
      "source": [
        "print(dt_df.shape)"
      ],
      "execution_count": 0,
      "outputs": []
    },
    {
      "cell_type": "code",
      "metadata": {
        "id": "T-0KHxSi55Y_",
        "colab_type": "code",
        "colab": {}
      },
      "source": [
        "print(rc_df.shape)"
      ],
      "execution_count": 0,
      "outputs": []
    },
    {
      "cell_type": "code",
      "metadata": {
        "id": "kFjr2R9957t2",
        "colab_type": "code",
        "colab": {}
      },
      "source": [
        "con_df.columns"
      ],
      "execution_count": 0,
      "outputs": []
    },
    {
      "cell_type": "code",
      "metadata": {
        "id": "pLpyG1aT7kAe",
        "colab_type": "code",
        "colab": {}
      },
      "source": [
        "dt_df.columns"
      ],
      "execution_count": 0,
      "outputs": []
    },
    {
      "cell_type": "code",
      "metadata": {
        "id": "NNRZgi-s7zz-",
        "colab_type": "code",
        "colab": {}
      },
      "source": [
        "rc_df.columns"
      ],
      "execution_count": 0,
      "outputs": []
    },
    {
      "cell_type": "code",
      "metadata": {
        "id": "aKY8I8H-Aw0r",
        "colab_type": "code",
        "colab": {}
      },
      "source": [
        "cou_df.columns"
      ],
      "execution_count": 0,
      "outputs": []
    },
    {
      "cell_type": "code",
      "metadata": {
        "id": "nkKRcADR73bP",
        "colab_type": "code",
        "colab": {}
      },
      "source": [
        "for col in con_df.columns:\n",
        "  print(col)"
      ],
      "execution_count": 0,
      "outputs": []
    },
    {
      "cell_type": "code",
      "metadata": {
        "id": "E4aaG38DBpxF",
        "colab_type": "code",
        "colab": {}
      },
      "source": [
        "for col in cou_df.columns:\n",
        "  print(col)"
      ],
      "execution_count": 0,
      "outputs": []
    },
    {
      "cell_type": "code",
      "metadata": {
        "id": "q5I5VGbvA90X",
        "colab_type": "code",
        "colab": {}
      },
      "source": [
        "global_data = cou_df.copy().drop(['Lat','Long_','Last_Update','Country_Region'], axis=1)\n",
        "global_summary = pd.DataFrame(global_data.sum()).transpose()\n",
        "global_summary.style.format(\"{:,.0f}\")"
      ],
      "execution_count": 0,
      "outputs": []
    },
    {
      "cell_type": "code",
      "metadata": {
        "id": "g1DdZte1Cytg",
        "colab_type": "code",
        "colab": {}
      },
      "source": [
        "con_df_ts = con_df.copy().drop(['Lat','Long','Province/State','Country/Region'], axis=1)\n",
        "con_df_ts_summary = con_df_ts.sum()\n",
        "con_df_ts_summary"
      ],
      "execution_count": 0,
      "outputs": []
    },
    {
      "cell_type": "code",
      "metadata": {
        "id": "NAYXqm8POTqK",
        "colab_type": "code",
        "colab": {}
      },
      "source": [
        "fig = go.Figure(data=go.Scatter(x=con_df_ts_summary.index, y = con_df_ts_summary.values, \n",
        "                                mode='lines+markers'))\n",
        "fig.update_layout(title='Total Coronavirus Confirmed Cases (Globally)',\n",
        "                                  yaxis_title='Confirmed Cases', xaxis_tickangle = 315 )\n",
        "fig.show()"
      ],
      "execution_count": 0,
      "outputs": []
    },
    {
      "cell_type": "code",
      "metadata": {
        "id": "RODaXBAuRcFv",
        "colab_type": "code",
        "colab": {}
      },
      "source": [
        "new_con_df = con_df.copy().drop(['Lat','Long','Province/State','Country/Region'], axis=1).sum()\n",
        "new_dt_df = dt_df.copy().drop(['Lat','Long','Province/State','Country/Region'], axis=1).sum()\n",
        "new_rc_df = rc_df.copy().drop(['Lat','Long','Province/State','Country/Region'], axis=1).sum()\n",
        "\n",
        "#There is no timeseries data for Active cases, therefore it needs to be engineered separately\n",
        "active_agg_ts = pd.Series(data=np.array([xl - x2 - x3 for (xl, x2, x3) \n",
        "                            in zip(new_con_df.values,new_dt_df.values, new_rc_df.values)]),index = new_con_df.index)"
      ],
      "execution_count": 0,
      "outputs": []
    },
    {
      "cell_type": "code",
      "metadata": {
        "id": "6srlN58rnKK3",
        "colab_type": "code",
        "colab": {}
      },
      "source": [
        "def draw_plot(ts_array, ts_label, title, colors, mode_size, line_size, x_axis_title , y_axis_title, tickangle = 0, yaxis_type = \"\", additional_annotations=[]):\n",
        "    # initialize figure\n",
        "    fig = go.Figure()\n",
        "    # add all traces\n",
        "    for index, ts in enumerate(ts_array):\n",
        "        fig.add_trace(go.Scatter(x=ts.index,\n",
        "                                 y = ts.values,\n",
        "                                 name = ts_label[index],\n",
        "                                 line=dict(color=colors[index], width=line_size[index]),connectgaps=True,))\n",
        "    # base x_axis prop.\n",
        "    x_axis_dict = dict(showline=True, \n",
        "                       showgrid=True, \n",
        "                       showticklabels=True, \n",
        "                       linecolor='rgb(204, 204, 204)', \n",
        "                       linewidth=2,\n",
        "                       ticks='outside',\n",
        "                       tickfont=dict(family='Arial',size=12,color='rgb(82, 82, 82)',))\n",
        "    # setting x_axis params\n",
        "    if x_axis_title:\n",
        "        x_axis_dict['title'] = x_axis_title\n",
        "    \n",
        "    if tickangle > 0:\n",
        "        x_axis_dict['tickangle'] = tickangle\n",
        "    \n",
        "    # base y_axis prop.\n",
        "    y_axis_dict = dict(showline = True,\n",
        "                       showgrid = True,\n",
        "                       showticklabels=True,\n",
        "                       linecolor='rgb(204, 204, 204)',\n",
        "                       linewidth=2,)\n",
        "    # setting y_axis params\n",
        "    if yaxis_type != \"\":\n",
        "        y_axis_dict['type'] = yaxis_type\n",
        "    \n",
        "    if y_axis_title:\n",
        "        y_axis_dict['title'] = y_axis_title\n",
        "        \n",
        "#     # uncomment legend if you want to move the legend around\n",
        "#     legend= dict(x=1,\n",
        "#                  y=1,\n",
        "#                  traceorder=\"normal\",\n",
        "#                  font=dict(family=\"sans-serif\",size=12,color=\"black\"),\n",
        "#                  bgcolor=\"LightSteelBlue\",\n",
        "#                  bordercolor=\"Black\",\n",
        "#                  borderwidth=2)\n",
        "\n",
        "#updating the layout\n",
        "    fig.update_layout(xaxis = x_axis_dict,\n",
        "                      yaxis = y_axis_dict,\n",
        "                      autosize=True,\n",
        "                      margin=dict(autoexpand=False,l=100,r=20,t=110,),\n",
        "                      showlegend=True,\n",
        "#                       legend = legend\n",
        "                     )\n",
        "\n",
        "    # base annotations for any graph\n",
        "    annotations = []\n",
        "    # Title\n",
        "    annotations.append(dict(xref='paper', yref='paper', x=0.0, y=1.05, xanchor='left', yanchor='bottom',\n",
        "                                  text=title,\n",
        "                                  font=dict(family='Arial',size=16,color='rgb(37,37,37)'),showarrow=False))\n",
        "    # adding annotations in params\n",
        "    if len(additional_annotations) > 0:\n",
        "        annotations.append(additional_annotations)\n",
        "    \n",
        "    #updating the layout\n",
        "    fig.update_layout(annotations=annotations)\n",
        "\n",
        "    return fig"
      ],
      "execution_count": 0,
      "outputs": []
    },
    {
      "cell_type": "code",
      "metadata": {
        "id": "LoSLAOp5Y-sX",
        "colab_type": "code",
        "colab": {}
      },
      "source": [
        "new_con_df = con_df.copy().drop(['Lat','Long','Province/State','Country/Region'], axis=1).sum()\n",
        "new_dt_df = dt_df.copy().drop(['Lat','Long','Province/State','Country/Region'], axis=1).sum()\n",
        "new_rc_df = rc_df.copy().drop(['Lat','Long','Province/State','Country/Region'], axis=1).sum()\n",
        "\n",
        "#There is no timeseries data for Active cases, therefore it needs to be engineered separately\n",
        "active_agg_ts = pd.Series(data=np.array([xl - x2 - x3 for (xl, x2, x3) \n",
        "                            in zip(new_con_df.values,new_dt_df.values, new_rc_df.values)]),index = new_con_df.index)"
      ],
      "execution_count": 0,
      "outputs": []
    },
    {
      "cell_type": "code",
      "metadata": {
        "id": "gKFPvRlG9DtI",
        "colab_type": "code",
        "colab": {}
      },
      "source": [
        "color_arr = px.colors.qualitative.Dark24\n",
        "ts_array = [new_con_df, active_agg_ts, new_rc_df, new_dt_df]\n",
        "labels = ['Confirmed', 'Active', 'Recovered', 'Deaths']\n",
        "colors = [color_arr[5],  color_arr[0], color_arr[2], color_arr[3]]\n",
        "mode_size = [8, 8, 12, 8]\n",
        "line_size = [2, 2, 4, 2]\n",
        "\n",
        "# Calling the draw_plot function defined above\n",
        "fig_2 = draw_plot(ts_array = ts_array, \n",
        "                  ts_label = labels , \n",
        "                  title = \"Covid-19 Case Status(22nd Jan to Last Updated)\",\n",
        "                  colors = colors, mode_size = mode_size, \n",
        "                  line_size = line_size , \n",
        "                  x_axis_title = \"Date\" , \n",
        "                  y_axis_title = \"Case Count\", \n",
        "                  tickangle = 315, \n",
        "                  yaxis_type = \"\", additional_annotations=[])\n",
        "\n",
        "fig_2.show()"
      ],
      "execution_count": 0,
      "outputs": []
    },
    {
      "cell_type": "code",
      "metadata": {
        "id": "-VVXfNrv9oUG",
        "colab_type": "code",
        "colab": {}
      },
      "source": [
        "cou_df.copy().drop(\n",
        "    ['Lat','Long_','Last_Update'],axis =1).sort_values('Confirmed', ascending= False).reset_index(drop=True).style.bar(\n",
        "    align=\"left\",width=98,color='#d65f5f')"
      ],
      "execution_count": 0,
      "outputs": []
    },
    {
      "cell_type": "code",
      "metadata": {
        "id": "uFxs0ZjU_aqf",
        "colab_type": "code",
        "colab": {}
      },
      "source": [
        "\n",
        "\n",
        "con_India_ts = con_df[con_df['Country/Region']==\"India\"]\n",
        "con_India_ts = con_India_ts.drop(\n",
        "    ['Lat','Long','Country/Region','Province/State'],axis =1).reset_index(drop=True).sum()\n",
        "\n",
        "dt_India_ts = dt_df[dt_df['Country/Region']==\"India\"]\n",
        "dt_India_ts = dt_India_ts.drop(\n",
        "    ['Lat','Long','Country/Region','Province/State'],axis =1).reset_index(drop=True).sum()\n",
        "\n",
        "rc_India_ts = rc_df[rc_df['Country/Region']==\"India\"]\n",
        "rc_India_ts = rc_India_ts.drop(\n",
        "    ['Lat','Long','Country/Region','Province/State'],axis =1).reset_index(drop=True).sum()\n",
        "\n",
        "active_India_ts = pd.Series(\n",
        "    data=np.array(\n",
        "        [x1 - x2 - x3  for (x1, x2, x3) in zip(\n",
        "            con_India_ts.values,dt_India_ts.values, rc_India_ts.values)\n",
        "        ] \n",
        "    ), \n",
        "    index= con_India_ts.index\n",
        ")"
      ],
      "execution_count": 0,
      "outputs": []
    },
    {
      "cell_type": "code",
      "metadata": {
        "id": "-bNRFKZ9cGju",
        "colab_type": "code",
        "colab": {}
      },
      "source": [
        "ts_array = [con_India_ts, active_India_ts, rc_India_ts, dt_India_ts]\n",
        "labels = ['Confirmed', 'Active', 'Recovered', 'Deaths']\n",
        "colors = [color_arr[5],  color_arr[0], color_arr[2], color_arr[3]]\n",
        "mode_size = [8, 8, 12, 8]\n",
        "line_size = [2, 2, 4, 2]\n",
        "\n",
        "# Calling the draw_plot function defined above\n",
        "fig_3 = draw_plot(ts_array = ts_array, \n",
        "                  ts_label = labels , \n",
        "                  title = \"Covid-19 Case Trend in INDIA\",\n",
        "                  colors = colors, mode_size = mode_size, \n",
        "                  line_size = line_size , \n",
        "                  x_axis_title = \"Date\" , \n",
        "                  y_axis_title = \"Case Count\", \n",
        "                  tickangle = 315, \n",
        "                  yaxis_type = \"\", additional_annotations=[])\n",
        "\n",
        "fig_3.show()"
      ],
      "execution_count": 0,
      "outputs": []
    },
    {
      "cell_type": "code",
      "metadata": {
        "id": "FpoBFC0ncdj0",
        "colab_type": "code",
        "colab": {}
      },
      "source": [
        "#Transmission in India from \n",
        "ts_array = [con_India_ts[52:], active_India_ts[52:], rc_India_ts[52:], dt_India_ts[52:]]\n",
        "fig_4 = draw_plot(ts_array = ts_array, \n",
        "                  ts_label = labels , \n",
        "                  title = \"Covid-19 Transmission Timeline in INDIA - 14/03/2020 Onwards\",\n",
        "                  colors = colors, mode_size = mode_size, \n",
        "                  line_size = line_size , \n",
        "                  x_axis_title = \"Date\" , \n",
        "                  y_axis_title = \"Case Count\", \n",
        "                  tickangle = 315, \n",
        "                  yaxis_type = \"\", additional_annotations=[])\n",
        "\n",
        "fig_4.show()"
      ],
      "execution_count": 0,
      "outputs": []
    },
    {
      "cell_type": "markdown",
      "metadata": {
        "id": "Tr-XB267eXR3",
        "colab_type": "text"
      },
      "source": [
        "**Inference**\n",
        "\n",
        "As we see, there is a sharp upturn in cases from May 01, 2020. This means the Lockdown 2.0 which was announced on Apr 15 has led to less physical distancing, letting people to come out has hampered the public health situation in the country. The situations got worse from then and on 29th May, 2020 the country has got double the number of cases it usually got hitherto. The Unlock 1.0 is showing the worst results as more and more people are getting infected."
      ]
    },
    {
      "cell_type": "markdown",
      "metadata": {
        "id": "PCsaf0IngKil",
        "colab_type": "text"
      },
      "source": [
        "# SIR Model"
      ]
    },
    {
      "cell_type": "code",
      "metadata": {
        "id": "JWMG7Bxdh6Ia",
        "colab_type": "code",
        "colab": {}
      },
      "source": [
        "# Imports required\n",
        "from scipy.integrate import solve_ivp\n",
        "from scipy.optimize import minimize\n",
        "import matplotlib.pyplot as plt\n",
        "from datetime import timedelta, datetime"
      ],
      "execution_count": 0,
      "outputs": []
    },
    {
      "cell_type": "code",
      "metadata": {
        "id": "As6YYZU_eNWp",
        "colab_type": "code",
        "colab": {}
      },
      "source": [
        "START_DATE = {\n",
        "  'Italy': '1/31/20',\n",
        "  'India': '1/30/20'\n",
        "}\n",
        "class Learner(object):\n",
        "    def __init__(self, country, loss, start_date ='1/22/20', predict_range=150,s_0=100000, i_0=2, r_0=10):\n",
        "        self.country = country\n",
        "        self.loss = loss\n",
        "        self.start_date = start_date\n",
        "        self.predict_range = predict_range\n",
        "        self.s_0 = s_0\n",
        "        self.i_0 = i_0\n",
        "        self.r_0 = r_0\n",
        "\n",
        "    def load_confirmed(self, country):\n",
        "        df = pd.read_csv('time_series_covid19_confirmed_global.csv')\n",
        "        df = df.drop(['Province/State'],axis =1)\n",
        "        country_df = df[df['Country/Region'] == country]\n",
        "        return country_df.iloc[0].loc[self.start_date:]\n",
        "\n",
        "\n",
        "    def load_recovered(self, country):\n",
        "        df = pd.read_csv('time_series_covid19_recovered_global.csv')\n",
        "        df = df.drop(['Province/State'],axis =1)\n",
        "        country_df = df[df['Country/Region'] == country]\n",
        "        return country_df.iloc[0].loc[self.start_date:]\n",
        "\n",
        "\n",
        "    def load_dead(self, country):\n",
        "        df = pd.read_csv('time_series_covid19_deaths_global.csv')\n",
        "        df = df.drop(['Province/State'],axis =1)\n",
        "        country_df = df[df['Country/Region'] == country]\n",
        "        return country_df.iloc[0].loc[self.start_date:]\n",
        "    \n",
        "\n",
        "    def extend_index(self, index, new_size):\n",
        "        values = index.values\n",
        "        current = datetime.strptime(index[-1], '%m/%d/%y')\n",
        "        while len(values) < new_size:\n",
        "            current = current + timedelta(days=1)\n",
        "            values = np.append(values, datetime.strftime(current, '%m/%d/%y'))\n",
        "        return values\n",
        "\n",
        "    def predict(self, beta, gamma, data, recovered, death, country, s_0, i_0, r_0):\n",
        "        \"\"\"\n",
        "        Predict how the number of people in each compartment can be changed through time toward the future.\n",
        "        The model is formulated with the given beta and gamma.\n",
        "        \"\"\"\n",
        "        new_index = self.extend_index(data.index, self.predict_range)\n",
        "        size = len(new_index)\n",
        "        def SIR(t, y):\n",
        "            S = y[0]\n",
        "            I = y[1]\n",
        "            R = y[2]\n",
        "            return [-beta*S*I, beta*S*I-gamma*I, gamma*I]\n",
        "        extended_actual = np.concatenate((data.values, [None] * (size - len(data.values))))\n",
        "        extended_recovered = np.concatenate((recovered.values, [None] * (size - len(recovered.values))))\n",
        "        extended_death = np.concatenate((death.values, [None] * (size - len(death.values))))\n",
        "        return new_index, extended_actual, extended_recovered, extended_death, solve_ivp(SIR, [0, size], [s_0,i_0,r_0], t_eval=np.arange(0, size, 1))\n",
        "    \n",
        "    def train(self):\n",
        "        \"\"\"\n",
        "        Run the optimization to estimate the beta and gamma fitting the given confirmed cases.\n",
        "        \"\"\"\n",
        "        recovered = self.load_recovered(self.country)\n",
        "        death = self.load_dead(self.country)\n",
        "        data = (self.load_confirmed(self.country) - recovered - death)\n",
        "        \n",
        "        optimal = minimize(\n",
        "            loss, \n",
        "            [0.001, 0.001], \n",
        "            args=(data, recovered, self.s_0, self.i_0, self.r_0), \n",
        "            method='L-BFGS-B', \n",
        "            bounds=[(0.00000001, 0.4), (0.00000001, 0.4)]\n",
        "        )\n",
        "        print(optimal)\n",
        "        beta, gamma = optimal.x\n",
        "        new_index, extended_actual, extended_recovered, extended_death, prediction = self.predict(beta, gamma, data, recovered, death, self.country, self.s_0, self.i_0, self.r_0)\n",
        "        df = pd.DataFrame({'Infected data': extended_actual, 'Recovered data': extended_recovered, 'Death data': extended_death, 'Susceptible': prediction.y[0], 'Infected': prediction.y[1], 'Recovered': prediction.y[2]}, index=new_index)\n",
        "        df.to_csv(f\"{self.country}.csv\")\n",
        "        fig, ax = plt.subplots(figsize=(15, 10))\n",
        "        ax.set_title(self.country)\n",
        "        df.plot(ax=ax)\n",
        "        print(f\"country={self.country}, beta={beta:.8f}, gamma={gamma:.8f}, r_0:{(beta/gamma):.8f}\")\n",
        "        fig.savefig(f\"{self.country}.png\")\n",
        "        \n",
        "        return df, fig"
      ],
      "execution_count": 0,
      "outputs": []
    },
    {
      "cell_type": "code",
      "metadata": {
        "id": "vYb3Mt2WhTJ1",
        "colab_type": "code",
        "colab": {}
      },
      "source": [
        "def loss(point, data, recovered, s_0, i_0, r_0):\n",
        "    size = len(data)\n",
        "    beta, gamma = point\n",
        "    def SIR(t, y):\n",
        "        S = y[0]\n",
        "        I = y[1]\n",
        "        R = y[2]\n",
        "        return [-beta*S*I, beta*S*I-gamma*I, gamma*I]\n",
        "    solution = solve_ivp(SIR, [0, size], [s_0,i_0,r_0], t_eval=np.arange(0, size, 1), vectorized=True)\n",
        "    l1 = np.sqrt(np.mean((solution.y[1] - data)**2))\n",
        "    l2 = np.sqrt(np.mean((solution.y[2] - recovered)**2))\n",
        "    alpha = 0.1\n",
        "    return alpha * l1 + (1 - alpha) * l2"
      ],
      "execution_count": 0,
      "outputs": []
    },
    {
      "cell_type": "code",
      "metadata": {
        "id": "_6lDTdIshai8",
        "colab_type": "code",
        "colab": {}
      },
      "source": [
        "italy_learner = Learner(country=\"Italy\", loss= loss )"
      ],
      "execution_count": 0,
      "outputs": []
    },
    {
      "cell_type": "code",
      "metadata": {
        "id": "OZ53--ghhgi0",
        "colab_type": "code",
        "colab": {}
      },
      "source": [
        "italy_df, italy_fig = italy_learner.train()"
      ],
      "execution_count": 0,
      "outputs": []
    },
    {
      "cell_type": "code",
      "metadata": {
        "id": "LIc6kLTgjVNx",
        "colab_type": "code",
        "colab": {}
      },
      "source": [
        "# SIR Model for India\n",
        "india_learner = Learner(country=\"India\", loss= loss, i_0= 3)"
      ],
      "execution_count": 0,
      "outputs": []
    },
    {
      "cell_type": "code",
      "metadata": {
        "id": "jMESMztzjhUc",
        "colab_type": "code",
        "colab": {}
      },
      "source": [
        "india_sir , india_sir_fig = india_learner.train()"
      ],
      "execution_count": 0,
      "outputs": []
    },
    {
      "cell_type": "code",
      "metadata": {
        "id": "BaYXeShvjiJ8",
        "colab_type": "code",
        "colab": {}
      },
      "source": [
        ""
      ],
      "execution_count": 0,
      "outputs": []
    }
  ]
}