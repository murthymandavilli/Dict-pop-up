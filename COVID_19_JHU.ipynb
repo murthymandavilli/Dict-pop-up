{
  "nbformat": 4,
  "nbformat_minor": 0,
  "metadata": {
    "colab": {
      "name": "COVID-19-JHU.ipynb",
      "provenance": [],
      "authorship_tag": "ABX9TyN4Zc6Wej8ctJDuJcURcS2Y",
      "include_colab_link": true
    },
    "kernelspec": {
      "name": "python3",
      "display_name": "Python 3"
    }
  },
  "cells": [
    {
      "cell_type": "markdown",
      "metadata": {
        "id": "view-in-github",
        "colab_type": "text"
      },
      "source": [
        "<a href=\"https://colab.research.google.com/github/suryamandavilli/COVID-19/blob/master/COVID_19_JHU.ipynb\" target=\"_parent\"><img src=\"https://colab.research.google.com/assets/colab-badge.svg\" alt=\"Open In Colab\"/></a>"
      ]
    },
    {
      "cell_type": "code",
      "metadata": {
        "id": "dVOYG5THuNf6",
        "colab_type": "code",
        "colab": {}
      },
      "source": [
        "import pandas as pd\n",
        "import numpy as np\n",
        "import seaborn as sns\n",
        "import matplotlib.pyplot as plt"
      ],
      "execution_count": 0,
      "outputs": []
    },
    {
      "cell_type": "code",
      "metadata": {
        "id": "E1J8BRxfvQaA",
        "colab_type": "code",
        "colab": {}
      },
      "source": [
        "import plotly.graph_objects as go"
      ],
      "execution_count": 0,
      "outputs": []
    },
    {
      "cell_type": "code",
      "metadata": {
        "id": "XCwrrx71ves_",
        "colab_type": "code",
        "colab": {}
      },
      "source": [
        "import plotly.express as px"
      ],
      "execution_count": 0,
      "outputs": []
    },
    {
      "cell_type": "code",
      "metadata": {
        "id": "nNeOgwINv3IH",
        "colab_type": "code",
        "colab": {}
      },
      "source": [
        "con_df = pd.read_csv('time_series_covid19_confirmed_global.csv')\n",
        "dt_df = pd.read_csv('time_series_covid19_deaths_global.csv')\n",
        "rc_df = pd.read_csv('time_series_covid19_recovered_global.csv')\n",
        "cou_df = pd.read_csv('https://raw.githubusercontent.com/CSSEGISandData/COVID-19/web-data/data/cases_country.csv')"
      ],
      "execution_count": 0,
      "outputs": []
    },
    {
      "cell_type": "code",
      "metadata": {
        "id": "OwKmh6nI5qki",
        "colab_type": "code",
        "colab": {}
      },
      "source": [
        "print(con_df.shape)"
      ],
      "execution_count": 0,
      "outputs": []
    },
    {
      "cell_type": "code",
      "metadata": {
        "id": "7_m2nuI85yDG",
        "colab_type": "code",
        "colab": {}
      },
      "source": [
        "print(dt_df.shape)"
      ],
      "execution_count": 0,
      "outputs": []
    },
    {
      "cell_type": "code",
      "metadata": {
        "id": "T-0KHxSi55Y_",
        "colab_type": "code",
        "colab": {}
      },
      "source": [
        "print(rc_df.shape)"
      ],
      "execution_count": 0,
      "outputs": []
    },
    {
      "cell_type": "code",
      "metadata": {
        "id": "kFjr2R9957t2",
        "colab_type": "code",
        "colab": {}
      },
      "source": [
        "con_df.columns"
      ],
      "execution_count": 0,
      "outputs": []
    },
    {
      "cell_type": "code",
      "metadata": {
        "id": "pLpyG1aT7kAe",
        "colab_type": "code",
        "colab": {}
      },
      "source": [
        "dt_df.columns"
      ],
      "execution_count": 0,
      "outputs": []
    },
    {
      "cell_type": "code",
      "metadata": {
        "id": "NNRZgi-s7zz-",
        "colab_type": "code",
        "colab": {}
      },
      "source": [
        "rc_df.columns"
      ],
      "execution_count": 0,
      "outputs": []
    },
    {
      "cell_type": "code",
      "metadata": {
        "id": "aKY8I8H-Aw0r",
        "colab_type": "code",
        "colab": {}
      },
      "source": [
        "cou_df.columns"
      ],
      "execution_count": 0,
      "outputs": []
    },
    {
      "cell_type": "code",
      "metadata": {
        "id": "nkKRcADR73bP",
        "colab_type": "code",
        "colab": {}
      },
      "source": [
        "for col in con_df.columns:\n",
        "  print(col)"
      ],
      "execution_count": 0,
      "outputs": []
    },
    {
      "cell_type": "code",
      "metadata": {
        "id": "E4aaG38DBpxF",
        "colab_type": "code",
        "colab": {}
      },
      "source": [
        "for col in cou_df.columns:\n",
        "  print(col)"
      ],
      "execution_count": 0,
      "outputs": []
    },
    {
      "cell_type": "code",
      "metadata": {
        "id": "q5I5VGbvA90X",
        "colab_type": "code",
        "colab": {}
      },
      "source": [
        "global_data = cou_df.copy().drop(['Lat','Long_','Last_Update','Country_Region'], axis=1)\n",
        "global_summary = pd.DataFrame(global_data.sum()).transpose()\n",
        "global_summary.style.format(\"{:,.0f}\")"
      ],
      "execution_count": 0,
      "outputs": []
    },
    {
      "cell_type": "code",
      "metadata": {
        "id": "g1DdZte1Cytg",
        "colab_type": "code",
        "colab": {}
      },
      "source": [
        "con_df_ts = con_df.copy().drop(['Lat','Long','Province/State','Country/Region'], axis=1)\n",
        "con_df_ts_summary = con_df_ts.sum()\n",
        "con_df_ts_summary"
      ],
      "execution_count": 0,
      "outputs": []
    },
    {
      "cell_type": "code",
      "metadata": {
        "id": "NAYXqm8POTqK",
        "colab_type": "code",
        "colab": {}
      },
      "source": [
        "fig = go.Figure(data=go.Scatter(x=con_df_ts_summary.index, y = con_df_ts_summary.values, \n",
        "                                mode='lines+markers'))\n",
        "fig.update_layout(title='Total Coronavirus Confirmed Cases (Globally)',\n",
        "                                  yaxis_title='Confirmed Cases', xaxis_tickangle = 315 )\n",
        "fig.show()"
      ],
      "execution_count": 0,
      "outputs": []
    },
    {
      "cell_type": "code",
      "metadata": {
        "id": "RODaXBAuRcFv",
        "colab_type": "code",
        "colab": {}
      },
      "source": [
        "new_con_df = con_df.copy().drop(['Lat','Long','Province/State','Country/Region'], axis=1).sum()\n",
        "new_dt_df = dt_df.copy().drop(['Lat','Long','Province/State','Country/Region'], axis=1).sum()\n",
        "new_rc_df = rc_df.copy().drop(['Lat','Long','Province/State','Country/Region'], axis=1).sum()\n",
        "\n",
        "#There is no timeseries data for Active cases, therefore it needs to be engineered separately\n",
        "active_agg_ts = pd.Series(data=np.array([xl - x2 - x3 for (xl, x2, x3) \n",
        "                            in zip(new_con_df.values,new_dt_df.values, new_rc_df.values)]),index = new_con_df.index)"
      ],
      "execution_count": 0,
      "outputs": []
    },
    {
      "cell_type": "code",
      "metadata": {
        "id": "6srlN58rnKK3",
        "colab_type": "code",
        "colab": {}
      },
      "source": [
        "def draw_plot(ts_array, ts_label, title, colors, mode_size, line_size, x_axis_title , y_axis_title, tickangle = 0, yaxis_type = \"\", additional_annotations=[]):\n",
        "    # initialize figure\n",
        "    fig = go.Figure()\n",
        "    # add all traces\n",
        "    for index, ts in enumerate(ts_array):\n",
        "        fig.add_trace(go.Scatter(x=ts.index,\n",
        "                                 y = ts.values,\n",
        "                                 name = ts_label[index],\n",
        "                                 line=dict(color=colors[index], width=line_size[index]),connectgaps=True,))\n",
        "    # base x_axis prop.\n",
        "    x_axis_dict = dict(showline=True, \n",
        "                       showgrid=True, \n",
        "                       showticklabels=True, \n",
        "                       linecolor='rgb(204, 204, 204)', \n",
        "                       linewidth=2,\n",
        "                       ticks='outside',\n",
        "                       tickfont=dict(family='Arial',size=12,color='rgb(82, 82, 82)',))\n",
        "    # setting x_axis params\n",
        "    if x_axis_title:\n",
        "        x_axis_dict['title'] = x_axis_title\n",
        "    \n",
        "    if tickangle > 0:\n",
        "        x_axis_dict['tickangle'] = tickangle\n",
        "    \n",
        "    # base y_axis prop.\n",
        "    y_axis_dict = dict(showline = True,\n",
        "                       showgrid = True,\n",
        "                       showticklabels=True,\n",
        "                       linecolor='rgb(204, 204, 204)',\n",
        "                       linewidth=2,)\n",
        "    # setting y_axis params\n",
        "    if yaxis_type != \"\":\n",
        "        y_axis_dict['type'] = yaxis_type\n",
        "    \n",
        "    if y_axis_title:\n",
        "        y_axis_dict['title'] = y_axis_title\n",
        "        \n",
        "#     # uncomment legend if you want to move the legend around\n",
        "#     legend= dict(x=1,\n",
        "#                  y=1,\n",
        "#                  traceorder=\"normal\",\n",
        "#                  font=dict(family=\"sans-serif\",size=12,color=\"black\"),\n",
        "#                  bgcolor=\"LightSteelBlue\",\n",
        "#                  bordercolor=\"Black\",\n",
        "#                  borderwidth=2)\n",
        "\n",
        "#updating the layout\n",
        "    fig.update_layout(xaxis = x_axis_dict,\n",
        "                      yaxis = y_axis_dict,\n",
        "                      autosize=True,\n",
        "                      margin=dict(autoexpand=False,l=100,r=20,t=110,),\n",
        "                      showlegend=True,\n",
        "#                       legend = legend\n",
        "                     )\n",
        "\n",
        "    # base annotations for any graph\n",
        "    annotations = []\n",
        "    # Title\n",
        "    annotations.append(dict(xref='paper', yref='paper', x=0.0, y=1.05, xanchor='left', yanchor='bottom',\n",
        "                                  text=title,\n",
        "                                  font=dict(family='Arial',size=16,color='rgb(37,37,37)'),showarrow=False))\n",
        "    # adding annotations in params\n",
        "    if len(additional_annotations) > 0:\n",
        "        annotations.append(additional_annotations)\n",
        "    \n",
        "    #updating the layout\n",
        "    fig.update_layout(annotations=annotations)\n",
        "\n",
        "    return fig"
      ],
      "execution_count": 0,
      "outputs": []
    },
    {
      "cell_type": "code",
      "metadata": {
        "id": "LoSLAOp5Y-sX",
        "colab_type": "code",
        "colab": {}
      },
      "source": [
        "new_con_df = con_df.copy().drop(['Lat','Long','Province/State','Country/Region'], axis=1).sum()\n",
        "new_dt_df = dt_df.copy().drop(['Lat','Long','Province/State','Country/Region'], axis=1).sum()\n",
        "new_rc_df = rc_df.copy().drop(['Lat','Long','Province/State','Country/Region'], axis=1).sum()\n",
        "\n",
        "#There is no timeseries data for Active cases, therefore it needs to be engineered separately\n",
        "active_agg_ts = pd.Series(data=np.array([xl - x2 - x3 for (xl, x2, x3) \n",
        "                            in zip(new_con_df.values,new_dt_df.values, new_rc_df.values)]),index = new_con_df.index)"
      ],
      "execution_count": 0,
      "outputs": []
    },
    {
      "cell_type": "code",
      "metadata": {
        "id": "gKFPvRlG9DtI",
        "colab_type": "code",
        "colab": {
          "base_uri": "https://localhost:8080/",
          "height": 542
        },
        "outputId": "61cd2a0c-3fb2-49c7-e744-c40127e16d36"
      },
      "source": [
        "color_arr = px.colors.qualitative.Dark24\n",
        "ts_array = [new_con_df, active_agg_ts, new_rc_df, new_dt_df]\n",
        "labels = ['Confirmed', 'Active', 'Recovered', 'Deaths']\n",
        "colors = [color_arr[5],  color_arr[0], color_arr[2], color_arr[3]]\n",
        "mode_size = [8, 8, 12, 8]\n",
        "line_size = [2, 2, 4, 2]\n",
        "\n",
        "# Calling the draw_plot function defined above\n",
        "fig_2 = draw_plot(ts_array = ts_array, \n",
        "                  ts_label = labels , \n",
        "                  title = \"Covid-19 Case Status(22nd Jan to Last Updated)\",\n",
        "                  colors = colors, mode_size = mode_size, \n",
        "                  line_size = line_size , \n",
        "                  x_axis_title = \"Date\" , \n",
        "                  y_axis_title = \"Case Count\", \n",
        "                  tickangle = 315, \n",
        "                  yaxis_type = \"\", additional_annotations=[])\n",
        "\n",
        "fig_2.show()"
      ],
      "execution_count": 79,
      "outputs": [
        {
          "output_type": "display_data",
          "data": {
            "text/html": [
              "<html>\n",
              "<head><meta charset=\"utf-8\" /></head>\n",
              "<body>\n",
              "    <div>\n",
              "            <script src=\"https://cdnjs.cloudflare.com/ajax/libs/mathjax/2.7.5/MathJax.js?config=TeX-AMS-MML_SVG\"></script><script type=\"text/javascript\">if (window.MathJax) {MathJax.Hub.Config({SVG: {font: \"STIX-Web\"}});}</script>\n",
              "                <script type=\"text/javascript\">window.PlotlyConfig = {MathJaxConfig: 'local'};</script>\n",
              "        <script src=\"https://cdn.plot.ly/plotly-latest.min.js\"></script>    \n",
              "            <div id=\"e46eae27-e0d6-4569-8979-5d03adad9be4\" class=\"plotly-graph-div\" style=\"height:525px; width:100%;\"></div>\n",
              "            <script type=\"text/javascript\">\n",
              "                \n",
              "                    window.PLOTLYENV=window.PLOTLYENV || {};\n",
              "                    \n",
              "                if (document.getElementById(\"e46eae27-e0d6-4569-8979-5d03adad9be4\")) {\n",
              "                    Plotly.newPlot(\n",
              "                        'e46eae27-e0d6-4569-8979-5d03adad9be4',\n",
              "                        [{\"connectgaps\": true, \"line\": {\"color\": \"#222A2A\", \"width\": 2}, \"name\": \"Confirmed\", \"type\": \"scatter\", \"x\": [\"1/22/20\", \"1/23/20\", \"1/24/20\", \"1/25/20\", \"1/26/20\", \"1/27/20\", \"1/28/20\", \"1/29/20\", \"1/30/20\", \"1/31/20\", \"2/1/20\", \"2/2/20\", \"2/3/20\", \"2/4/20\", \"2/5/20\", \"2/6/20\", \"2/7/20\", \"2/8/20\", \"2/9/20\", \"2/10/20\", \"2/11/20\", \"2/12/20\", \"2/13/20\", \"2/14/20\", \"2/15/20\", \"2/16/20\", \"2/17/20\", \"2/18/20\", \"2/19/20\", \"2/20/20\", \"2/21/20\", \"2/22/20\", \"2/23/20\", \"2/24/20\", \"2/25/20\", \"2/26/20\", \"2/27/20\", \"2/28/20\", \"2/29/20\", \"3/1/20\", \"3/2/20\", \"3/3/20\", \"3/4/20\", \"3/5/20\", \"3/6/20\", \"3/7/20\", \"3/8/20\", \"3/9/20\", \"3/10/20\", \"3/11/20\", \"3/12/20\", \"3/13/20\", \"3/14/20\", \"3/15/20\", \"3/16/20\", \"3/17/20\", \"3/18/20\", \"3/19/20\", \"3/20/20\", \"3/21/20\", \"3/22/20\", \"3/23/20\", \"3/24/20\", \"3/25/20\", \"3/26/20\", \"3/27/20\", \"3/28/20\", \"3/29/20\", \"3/30/20\", \"3/31/20\", \"4/1/20\", \"4/2/20\", \"4/3/20\", \"4/4/20\", \"4/5/20\", \"4/6/20\", \"4/7/20\", \"4/8/20\", \"4/9/20\", \"4/10/20\", \"4/11/20\", \"4/12/20\", \"4/13/20\", \"4/14/20\", \"4/15/20\", \"4/16/20\", \"4/17/20\", \"4/18/20\", \"4/19/20\", \"4/20/20\", \"4/21/20\", \"4/22/20\", \"4/23/20\", \"4/24/20\", \"4/25/20\", \"4/26/20\", \"4/27/20\", \"4/28/20\", \"4/29/20\", \"4/30/20\", \"5/1/20\", \"5/2/20\", \"5/3/20\", \"5/4/20\", \"5/5/20\", \"5/6/20\", \"5/7/20\", \"5/8/20\", \"5/9/20\", \"5/10/20\", \"5/11/20\", \"5/12/20\", \"5/13/20\", \"5/14/20\", \"5/15/20\", \"5/16/20\", \"5/17/20\", \"5/18/20\", \"5/19/20\", \"5/20/20\", \"5/21/20\", \"5/22/20\", \"5/23/20\", \"5/24/20\", \"5/25/20\", \"5/26/20\", \"5/27/20\", \"5/28/20\", \"5/29/20\", \"5/30/20\", \"5/31/20\", \"6/1/20\", \"6/2/20\", \"6/3/20\", \"6/4/20\", \"6/5/20\", \"6/6/20\", \"6/7/20\", \"6/8/20\", \"6/9/20\", \"6/10/20\", \"6/11/20\", \"6/12/20\", \"6/13/20\"], \"y\": [555, 654, 941, 1434, 2118, 2927, 5578, 6166, 8234, 9927, 12038, 16787, 19881, 23892, 27635, 30794, 34391, 37120, 40150, 42762, 44802, 45221, 60368, 66885, 69030, 71224, 73258, 75136, 75639, 76197, 76819, 78572, 78958, 79525, 80372, 81346, 82704, 84070, 85967, 88325, 90262, 92795, 95075, 97844, 101761, 105782, 109754, 113536, 118375, 125704, 130909, 145204, 156283, 167022, 181452, 196917, 216161, 243084, 272698, 304844, 337597, 378381, 418569, 468155, 530138, 594178, 661544, 720695, 783580, 858317, 933905, 1014713, 1097193, 1177447, 1251123, 1322598, 1397537, 1481490, 1567423, 1659674, 1737813, 1836615, 1906692, 1977287, 2057584, 2153578, 2242537, 2316073, 2398423, 2472264, 2546905, 2622750, 2711635, 2799064, 2884420, 2958352, 3027215, 3101078, 3176596, 3261450, 3349915, 3432050, 3511157, 3587874, 3668635, 3760836, 3851895, 3945002, 4030363, 4108270, 4184838, 4268247, 4353211, 4451126, 4548549, 4641727, 4721968, 4810315, 4906193, 5005761, 5112366, 5220585, 5321022, 5417354, 5504324, 5599216, 5702113, 5820253, 5941938, 6070884, 6178860, 6275246, 6387849, 6519164, 6642853, 6776126, 6902650, 7015739, 7119355, 7242692, 7376333, 7514724, 7632802, 7766952]}, {\"connectgaps\": true, \"line\": {\"color\": \"#2E91E5\", \"width\": 2}, \"name\": \"Active\", \"type\": \"scatter\", \"x\": [\"1/22/20\", \"1/23/20\", \"1/24/20\", \"1/25/20\", \"1/26/20\", \"1/27/20\", \"1/28/20\", \"1/29/20\", \"1/30/20\", \"1/31/20\", \"2/1/20\", \"2/2/20\", \"2/3/20\", \"2/4/20\", \"2/5/20\", \"2/6/20\", \"2/7/20\", \"2/8/20\", \"2/9/20\", \"2/10/20\", \"2/11/20\", \"2/12/20\", \"2/13/20\", \"2/14/20\", \"2/15/20\", \"2/16/20\", \"2/17/20\", \"2/18/20\", \"2/19/20\", \"2/20/20\", \"2/21/20\", \"2/22/20\", \"2/23/20\", \"2/24/20\", \"2/25/20\", \"2/26/20\", \"2/27/20\", \"2/28/20\", \"2/29/20\", \"3/1/20\", \"3/2/20\", \"3/3/20\", \"3/4/20\", \"3/5/20\", \"3/6/20\", \"3/7/20\", \"3/8/20\", \"3/9/20\", \"3/10/20\", \"3/11/20\", \"3/12/20\", \"3/13/20\", \"3/14/20\", \"3/15/20\", \"3/16/20\", \"3/17/20\", \"3/18/20\", \"3/19/20\", \"3/20/20\", \"3/21/20\", \"3/22/20\", \"3/23/20\", \"3/24/20\", \"3/25/20\", \"3/26/20\", \"3/27/20\", \"3/28/20\", \"3/29/20\", \"3/30/20\", \"3/31/20\", \"4/1/20\", \"4/2/20\", \"4/3/20\", \"4/4/20\", \"4/5/20\", \"4/6/20\", \"4/7/20\", \"4/8/20\", \"4/9/20\", \"4/10/20\", \"4/11/20\", \"4/12/20\", \"4/13/20\", \"4/14/20\", \"4/15/20\", \"4/16/20\", \"4/17/20\", \"4/18/20\", \"4/19/20\", \"4/20/20\", \"4/21/20\", \"4/22/20\", \"4/23/20\", \"4/24/20\", \"4/25/20\", \"4/26/20\", \"4/27/20\", \"4/28/20\", \"4/29/20\", \"4/30/20\", \"5/1/20\", \"5/2/20\", \"5/3/20\", \"5/4/20\", \"5/5/20\", \"5/6/20\", \"5/7/20\", \"5/8/20\", \"5/9/20\", \"5/10/20\", \"5/11/20\", \"5/12/20\", \"5/13/20\", \"5/14/20\", \"5/15/20\", \"5/16/20\", \"5/17/20\", \"5/18/20\", \"5/19/20\", \"5/20/20\", \"5/21/20\", \"5/22/20\", \"5/23/20\", \"5/24/20\", \"5/25/20\", \"5/26/20\", \"5/27/20\", \"5/28/20\", \"5/29/20\", \"5/30/20\", \"5/31/20\", \"6/1/20\", \"6/2/20\", \"6/3/20\", \"6/4/20\", \"6/5/20\", \"6/6/20\", \"6/7/20\", \"6/8/20\", \"6/9/20\", \"6/10/20\", \"6/11/20\", \"6/12/20\", \"6/13/20\"], \"y\": [510, 606, 879, 1353, 2010, 2784, 5340, 5907, 7920, 9492, 11495, 15953, 18832, 22548, 25947, 28673, 31661, 33698, 36000, 37803, 39006, 38953, 52702, 57304, 57969, 58589, 58807, 58777, 57396, 55773, 55678, 53228, 53095, 51669, 49759, 48192, 46613, 44487, 43244, 42613, 41575, 41407, 40651, 40701, 42437, 43865, 45259, 47056, 49708, 54092, 57673, 69543, 77831, 84520, 96216, 108123, 123989, 148169, 173857, 200037, 224876, 263277, 291558, 332588, 383205, 434968, 490158, 536376, 579676, 636091, 691061, 748545, 809616, 863626, 918476, 967487, 1011135, 1059680, 1112691, 1175880, 1221751, 1295450, 1332638, 1371249, 1406614, 1464509, 1518483, 1561666, 1607831, 1654272, 1686992, 1725709, 1779051, 1810107, 1861491, 1903087, 1939592, 1973827, 2000294, 2014482, 2059461, 2095492, 2138608, 2177168, 2215602, 2255301, 2301154, 2352394, 2379795, 2420683, 2446646, 2487398, 2511300, 2564206, 2608455, 2640890, 2676849, 2708991, 2747895, 2783729, 2834260, 2828535, 2870021, 2908066, 2930142, 2965596, 2999917, 3046504, 3086168, 3140530, 3169317, 3207279, 3211062, 3257536, 3306022, 3365317, 3415827, 3471073, 3419347, 3455563, 3504460, 3552567, 3594131, 3638912]}, {\"connectgaps\": true, \"line\": {\"color\": \"#1CA71C\", \"width\": 4}, \"name\": \"Recovered\", \"type\": \"scatter\", \"x\": [\"1/22/20\", \"1/23/20\", \"1/24/20\", \"1/25/20\", \"1/26/20\", \"1/27/20\", \"1/28/20\", \"1/29/20\", \"1/30/20\", \"1/31/20\", \"2/1/20\", \"2/2/20\", \"2/3/20\", \"2/4/20\", \"2/5/20\", \"2/6/20\", \"2/7/20\", \"2/8/20\", \"2/9/20\", \"2/10/20\", \"2/11/20\", \"2/12/20\", \"2/13/20\", \"2/14/20\", \"2/15/20\", \"2/16/20\", \"2/17/20\", \"2/18/20\", \"2/19/20\", \"2/20/20\", \"2/21/20\", \"2/22/20\", \"2/23/20\", \"2/24/20\", \"2/25/20\", \"2/26/20\", \"2/27/20\", \"2/28/20\", \"2/29/20\", \"3/1/20\", \"3/2/20\", \"3/3/20\", \"3/4/20\", \"3/5/20\", \"3/6/20\", \"3/7/20\", \"3/8/20\", \"3/9/20\", \"3/10/20\", \"3/11/20\", \"3/12/20\", \"3/13/20\", \"3/14/20\", \"3/15/20\", \"3/16/20\", \"3/17/20\", \"3/18/20\", \"3/19/20\", \"3/20/20\", \"3/21/20\", \"3/22/20\", \"3/23/20\", \"3/24/20\", \"3/25/20\", \"3/26/20\", \"3/27/20\", \"3/28/20\", \"3/29/20\", \"3/30/20\", \"3/31/20\", \"4/1/20\", \"4/2/20\", \"4/3/20\", \"4/4/20\", \"4/5/20\", \"4/6/20\", \"4/7/20\", \"4/8/20\", \"4/9/20\", \"4/10/20\", \"4/11/20\", \"4/12/20\", \"4/13/20\", \"4/14/20\", \"4/15/20\", \"4/16/20\", \"4/17/20\", \"4/18/20\", \"4/19/20\", \"4/20/20\", \"4/21/20\", \"4/22/20\", \"4/23/20\", \"4/24/20\", \"4/25/20\", \"4/26/20\", \"4/27/20\", \"4/28/20\", \"4/29/20\", \"4/30/20\", \"5/1/20\", \"5/2/20\", \"5/3/20\", \"5/4/20\", \"5/5/20\", \"5/6/20\", \"5/7/20\", \"5/8/20\", \"5/9/20\", \"5/10/20\", \"5/11/20\", \"5/12/20\", \"5/13/20\", \"5/14/20\", \"5/15/20\", \"5/16/20\", \"5/17/20\", \"5/18/20\", \"5/19/20\", \"5/20/20\", \"5/21/20\", \"5/22/20\", \"5/23/20\", \"5/24/20\", \"5/25/20\", \"5/26/20\", \"5/27/20\", \"5/28/20\", \"5/29/20\", \"5/30/20\", \"5/31/20\", \"6/1/20\", \"6/2/20\", \"6/3/20\", \"6/4/20\", \"6/5/20\", \"6/6/20\", \"6/7/20\", \"6/8/20\", \"6/9/20\", \"6/10/20\", \"6/11/20\", \"6/12/20\", \"6/13/20\"], \"y\": [28, 30, 36, 39, 52, 61, 107, 126, 143, 222, 284, 472, 623, 852, 1124, 1487, 2011, 2616, 3244, 3946, 4683, 5150, 6295, 8058, 9395, 10865, 12583, 14352, 16121, 18177, 18890, 22886, 23394, 25227, 27905, 30384, 33277, 36711, 39782, 42716, 45602, 48228, 51170, 53796, 55865, 58359, 60694, 62493, 64404, 67002, 68323, 70250, 72621, 76031, 78085, 80837, 83320, 84957, 87402, 91666, 97881, 98346, 107985, 113768, 122133, 130902, 139396, 148863, 164300, 177786, 192876, 209917, 225364, 245777, 259616, 276249, 299637, 328353, 353689, 375508, 401755, 421158, 448324, 473417, 510084, 540912, 567032, 590955, 622609, 644611, 679438, 709867, 738658, 788691, 816470, 845073, 872876, 906142, 948310, 1013281, 1051512, 1092429, 1124752, 1158816, 1195421, 1241339, 1280836, 1317358, 1370907, 1404501, 1451495, 1488530, 1544372, 1584107, 1632096, 1688687, 1729573, 1782471, 1834636, 1893549, 1944814, 2053465, 2108436, 2163876, 2227599, 2282813, 2346206, 2413063, 2490390, 2560862, 2637170, 2692065, 2796188, 2875330, 2945359, 3014515, 3086717, 3141810, 3293408, 3375668, 3454807, 3540696, 3613277, 3698304]}, {\"connectgaps\": true, \"line\": {\"color\": \"#FB0D0D\", \"width\": 2}, \"name\": \"Deaths\", \"type\": \"scatter\", \"x\": [\"1/22/20\", \"1/23/20\", \"1/24/20\", \"1/25/20\", \"1/26/20\", \"1/27/20\", \"1/28/20\", \"1/29/20\", \"1/30/20\", \"1/31/20\", \"2/1/20\", \"2/2/20\", \"2/3/20\", \"2/4/20\", \"2/5/20\", \"2/6/20\", \"2/7/20\", \"2/8/20\", \"2/9/20\", \"2/10/20\", \"2/11/20\", \"2/12/20\", \"2/13/20\", \"2/14/20\", \"2/15/20\", \"2/16/20\", \"2/17/20\", \"2/18/20\", \"2/19/20\", \"2/20/20\", \"2/21/20\", \"2/22/20\", \"2/23/20\", \"2/24/20\", \"2/25/20\", \"2/26/20\", \"2/27/20\", \"2/28/20\", \"2/29/20\", \"3/1/20\", \"3/2/20\", \"3/3/20\", \"3/4/20\", \"3/5/20\", \"3/6/20\", \"3/7/20\", \"3/8/20\", \"3/9/20\", \"3/10/20\", \"3/11/20\", \"3/12/20\", \"3/13/20\", \"3/14/20\", \"3/15/20\", \"3/16/20\", \"3/17/20\", \"3/18/20\", \"3/19/20\", \"3/20/20\", \"3/21/20\", \"3/22/20\", \"3/23/20\", \"3/24/20\", \"3/25/20\", \"3/26/20\", \"3/27/20\", \"3/28/20\", \"3/29/20\", \"3/30/20\", \"3/31/20\", \"4/1/20\", \"4/2/20\", \"4/3/20\", \"4/4/20\", \"4/5/20\", \"4/6/20\", \"4/7/20\", \"4/8/20\", \"4/9/20\", \"4/10/20\", \"4/11/20\", \"4/12/20\", \"4/13/20\", \"4/14/20\", \"4/15/20\", \"4/16/20\", \"4/17/20\", \"4/18/20\", \"4/19/20\", \"4/20/20\", \"4/21/20\", \"4/22/20\", \"4/23/20\", \"4/24/20\", \"4/25/20\", \"4/26/20\", \"4/27/20\", \"4/28/20\", \"4/29/20\", \"4/30/20\", \"5/1/20\", \"5/2/20\", \"5/3/20\", \"5/4/20\", \"5/5/20\", \"5/6/20\", \"5/7/20\", \"5/8/20\", \"5/9/20\", \"5/10/20\", \"5/11/20\", \"5/12/20\", \"5/13/20\", \"5/14/20\", \"5/15/20\", \"5/16/20\", \"5/17/20\", \"5/18/20\", \"5/19/20\", \"5/20/20\", \"5/21/20\", \"5/22/20\", \"5/23/20\", \"5/24/20\", \"5/25/20\", \"5/26/20\", \"5/27/20\", \"5/28/20\", \"5/29/20\", \"5/30/20\", \"5/31/20\", \"6/1/20\", \"6/2/20\", \"6/3/20\", \"6/4/20\", \"6/5/20\", \"6/6/20\", \"6/7/20\", \"6/8/20\", \"6/9/20\", \"6/10/20\", \"6/11/20\", \"6/12/20\", \"6/13/20\"], \"y\": [17, 18, 26, 42, 56, 82, 131, 133, 171, 213, 259, 362, 426, 492, 564, 634, 719, 806, 906, 1013, 1113, 1118, 1371, 1523, 1666, 1770, 1868, 2007, 2122, 2247, 2251, 2458, 2469, 2629, 2708, 2770, 2814, 2872, 2941, 2996, 3085, 3160, 3254, 3347, 3459, 3558, 3801, 3987, 4263, 4610, 4913, 5411, 5831, 6471, 7151, 7957, 8852, 9958, 11439, 13141, 14840, 16758, 19026, 21799, 24800, 28308, 31990, 35456, 39604, 44440, 49968, 56251, 62213, 68044, 73031, 78862, 86765, 93457, 101043, 108286, 114307, 120007, 125730, 132621, 140886, 148157, 157022, 163452, 167983, 173381, 180475, 187174, 193926, 200266, 206459, 210192, 214747, 221109, 227992, 233687, 238942, 244129, 247797, 251890, 257612, 264196, 269905, 275250, 279661, 283086, 286697, 292319, 297539, 302813, 307998, 312150, 315546, 318853, 323662, 328483, 333292, 338585, 342565, 345412, 346583, 350807, 355990, 360686, 365380, 369492, 372373, 375902, 380599, 386298, 391472, 396294, 400106, 402856, 406600, 411461, 417066, 421461, 425394, 429736]}],\n",
              "                        {\"annotations\": [{\"font\": {\"color\": \"rgb(37,37,37)\", \"family\": \"Arial\", \"size\": 16}, \"showarrow\": false, \"text\": \"Covid-19 Case Status(22nd Jan to Last Updated)\", \"x\": 0.0, \"xanchor\": \"left\", \"xref\": \"paper\", \"y\": 1.05, \"yanchor\": \"bottom\", \"yref\": \"paper\"}], \"autosize\": true, \"margin\": {\"autoexpand\": false, \"l\": 100, \"r\": 20, \"t\": 110}, \"showlegend\": true, \"template\": {\"data\": {\"bar\": [{\"error_x\": {\"color\": \"#2a3f5f\"}, \"error_y\": {\"color\": \"#2a3f5f\"}, \"marker\": {\"line\": {\"color\": \"#E5ECF6\", \"width\": 0.5}}, \"type\": \"bar\"}], \"barpolar\": [{\"marker\": {\"line\": {\"color\": \"#E5ECF6\", \"width\": 0.5}}, \"type\": \"barpolar\"}], \"carpet\": [{\"aaxis\": {\"endlinecolor\": \"#2a3f5f\", \"gridcolor\": \"white\", \"linecolor\": \"white\", \"minorgridcolor\": \"white\", \"startlinecolor\": \"#2a3f5f\"}, \"baxis\": {\"endlinecolor\": \"#2a3f5f\", \"gridcolor\": \"white\", \"linecolor\": \"white\", \"minorgridcolor\": \"white\", \"startlinecolor\": \"#2a3f5f\"}, \"type\": \"carpet\"}], \"choropleth\": [{\"colorbar\": {\"outlinewidth\": 0, \"ticks\": \"\"}, \"type\": \"choropleth\"}], \"contour\": [{\"colorbar\": {\"outlinewidth\": 0, \"ticks\": \"\"}, \"colorscale\": [[0.0, \"#0d0887\"], [0.1111111111111111, \"#46039f\"], [0.2222222222222222, \"#7201a8\"], [0.3333333333333333, \"#9c179e\"], [0.4444444444444444, \"#bd3786\"], [0.5555555555555556, \"#d8576b\"], [0.6666666666666666, \"#ed7953\"], [0.7777777777777778, \"#fb9f3a\"], [0.8888888888888888, \"#fdca26\"], [1.0, \"#f0f921\"]], \"type\": \"contour\"}], \"contourcarpet\": [{\"colorbar\": {\"outlinewidth\": 0, \"ticks\": \"\"}, \"type\": \"contourcarpet\"}], \"heatmap\": [{\"colorbar\": {\"outlinewidth\": 0, \"ticks\": \"\"}, \"colorscale\": [[0.0, \"#0d0887\"], [0.1111111111111111, \"#46039f\"], [0.2222222222222222, \"#7201a8\"], [0.3333333333333333, \"#9c179e\"], [0.4444444444444444, \"#bd3786\"], [0.5555555555555556, \"#d8576b\"], [0.6666666666666666, \"#ed7953\"], [0.7777777777777778, \"#fb9f3a\"], [0.8888888888888888, \"#fdca26\"], [1.0, \"#f0f921\"]], \"type\": \"heatmap\"}], \"heatmapgl\": [{\"colorbar\": {\"outlinewidth\": 0, \"ticks\": \"\"}, \"colorscale\": [[0.0, \"#0d0887\"], [0.1111111111111111, \"#46039f\"], [0.2222222222222222, \"#7201a8\"], [0.3333333333333333, \"#9c179e\"], [0.4444444444444444, \"#bd3786\"], [0.5555555555555556, \"#d8576b\"], [0.6666666666666666, \"#ed7953\"], [0.7777777777777778, \"#fb9f3a\"], [0.8888888888888888, \"#fdca26\"], [1.0, \"#f0f921\"]], \"type\": \"heatmapgl\"}], \"histogram\": [{\"marker\": {\"colorbar\": {\"outlinewidth\": 0, \"ticks\": \"\"}}, \"type\": \"histogram\"}], \"histogram2d\": [{\"colorbar\": {\"outlinewidth\": 0, \"ticks\": \"\"}, \"colorscale\": [[0.0, \"#0d0887\"], [0.1111111111111111, \"#46039f\"], [0.2222222222222222, \"#7201a8\"], [0.3333333333333333, \"#9c179e\"], [0.4444444444444444, \"#bd3786\"], [0.5555555555555556, \"#d8576b\"], [0.6666666666666666, \"#ed7953\"], [0.7777777777777778, \"#fb9f3a\"], [0.8888888888888888, \"#fdca26\"], [1.0, \"#f0f921\"]], \"type\": \"histogram2d\"}], \"histogram2dcontour\": [{\"colorbar\": {\"outlinewidth\": 0, \"ticks\": \"\"}, \"colorscale\": [[0.0, \"#0d0887\"], [0.1111111111111111, \"#46039f\"], [0.2222222222222222, \"#7201a8\"], [0.3333333333333333, \"#9c179e\"], [0.4444444444444444, \"#bd3786\"], [0.5555555555555556, \"#d8576b\"], [0.6666666666666666, \"#ed7953\"], [0.7777777777777778, \"#fb9f3a\"], [0.8888888888888888, \"#fdca26\"], [1.0, \"#f0f921\"]], \"type\": \"histogram2dcontour\"}], \"mesh3d\": [{\"colorbar\": {\"outlinewidth\": 0, \"ticks\": \"\"}, \"type\": \"mesh3d\"}], \"parcoords\": [{\"line\": {\"colorbar\": {\"outlinewidth\": 0, \"ticks\": \"\"}}, \"type\": \"parcoords\"}], \"pie\": [{\"automargin\": true, \"type\": \"pie\"}], \"scatter\": [{\"marker\": {\"colorbar\": {\"outlinewidth\": 0, \"ticks\": \"\"}}, \"type\": \"scatter\"}], \"scatter3d\": [{\"line\": {\"colorbar\": {\"outlinewidth\": 0, \"ticks\": \"\"}}, \"marker\": {\"colorbar\": {\"outlinewidth\": 0, \"ticks\": \"\"}}, \"type\": \"scatter3d\"}], \"scattercarpet\": [{\"marker\": {\"colorbar\": {\"outlinewidth\": 0, \"ticks\": \"\"}}, \"type\": \"scattercarpet\"}], \"scattergeo\": [{\"marker\": {\"colorbar\": {\"outlinewidth\": 0, \"ticks\": \"\"}}, \"type\": \"scattergeo\"}], \"scattergl\": [{\"marker\": {\"colorbar\": {\"outlinewidth\": 0, \"ticks\": \"\"}}, \"type\": \"scattergl\"}], \"scattermapbox\": [{\"marker\": {\"colorbar\": {\"outlinewidth\": 0, \"ticks\": \"\"}}, \"type\": \"scattermapbox\"}], \"scatterpolar\": [{\"marker\": {\"colorbar\": {\"outlinewidth\": 0, \"ticks\": \"\"}}, \"type\": \"scatterpolar\"}], \"scatterpolargl\": [{\"marker\": {\"colorbar\": {\"outlinewidth\": 0, \"ticks\": \"\"}}, \"type\": \"scatterpolargl\"}], \"scatterternary\": [{\"marker\": {\"colorbar\": {\"outlinewidth\": 0, \"ticks\": \"\"}}, \"type\": \"scatterternary\"}], \"surface\": [{\"colorbar\": {\"outlinewidth\": 0, \"ticks\": \"\"}, \"colorscale\": [[0.0, \"#0d0887\"], [0.1111111111111111, \"#46039f\"], [0.2222222222222222, \"#7201a8\"], [0.3333333333333333, \"#9c179e\"], [0.4444444444444444, \"#bd3786\"], [0.5555555555555556, \"#d8576b\"], [0.6666666666666666, \"#ed7953\"], [0.7777777777777778, \"#fb9f3a\"], [0.8888888888888888, \"#fdca26\"], [1.0, \"#f0f921\"]], \"type\": \"surface\"}], \"table\": [{\"cells\": {\"fill\": {\"color\": \"#EBF0F8\"}, \"line\": {\"color\": \"white\"}}, \"header\": {\"fill\": {\"color\": \"#C8D4E3\"}, \"line\": {\"color\": \"white\"}}, \"type\": \"table\"}]}, \"layout\": {\"annotationdefaults\": {\"arrowcolor\": \"#2a3f5f\", \"arrowhead\": 0, \"arrowwidth\": 1}, \"coloraxis\": {\"colorbar\": {\"outlinewidth\": 0, \"ticks\": \"\"}}, \"colorscale\": {\"diverging\": [[0, \"#8e0152\"], [0.1, \"#c51b7d\"], [0.2, \"#de77ae\"], [0.3, \"#f1b6da\"], [0.4, \"#fde0ef\"], [0.5, \"#f7f7f7\"], [0.6, \"#e6f5d0\"], [0.7, \"#b8e186\"], [0.8, \"#7fbc41\"], [0.9, \"#4d9221\"], [1, \"#276419\"]], \"sequential\": [[0.0, \"#0d0887\"], [0.1111111111111111, \"#46039f\"], [0.2222222222222222, \"#7201a8\"], [0.3333333333333333, \"#9c179e\"], [0.4444444444444444, \"#bd3786\"], [0.5555555555555556, \"#d8576b\"], [0.6666666666666666, \"#ed7953\"], [0.7777777777777778, \"#fb9f3a\"], [0.8888888888888888, \"#fdca26\"], [1.0, \"#f0f921\"]], \"sequentialminus\": [[0.0, \"#0d0887\"], [0.1111111111111111, \"#46039f\"], [0.2222222222222222, \"#7201a8\"], [0.3333333333333333, \"#9c179e\"], [0.4444444444444444, \"#bd3786\"], [0.5555555555555556, \"#d8576b\"], [0.6666666666666666, \"#ed7953\"], [0.7777777777777778, \"#fb9f3a\"], [0.8888888888888888, \"#fdca26\"], [1.0, \"#f0f921\"]]}, \"colorway\": [\"#636efa\", \"#EF553B\", \"#00cc96\", \"#ab63fa\", \"#FFA15A\", \"#19d3f3\", \"#FF6692\", \"#B6E880\", \"#FF97FF\", \"#FECB52\"], \"font\": {\"color\": \"#2a3f5f\"}, \"geo\": {\"bgcolor\": \"white\", \"lakecolor\": \"white\", \"landcolor\": \"#E5ECF6\", \"showlakes\": true, \"showland\": true, \"subunitcolor\": \"white\"}, \"hoverlabel\": {\"align\": \"left\"}, \"hovermode\": \"closest\", \"mapbox\": {\"style\": \"light\"}, \"paper_bgcolor\": \"white\", \"plot_bgcolor\": \"#E5ECF6\", \"polar\": {\"angularaxis\": {\"gridcolor\": \"white\", \"linecolor\": \"white\", \"ticks\": \"\"}, \"bgcolor\": \"#E5ECF6\", \"radialaxis\": {\"gridcolor\": \"white\", \"linecolor\": \"white\", \"ticks\": \"\"}}, \"scene\": {\"xaxis\": {\"backgroundcolor\": \"#E5ECF6\", \"gridcolor\": \"white\", \"gridwidth\": 2, \"linecolor\": \"white\", \"showbackground\": true, \"ticks\": \"\", \"zerolinecolor\": \"white\"}, \"yaxis\": {\"backgroundcolor\": \"#E5ECF6\", \"gridcolor\": \"white\", \"gridwidth\": 2, \"linecolor\": \"white\", \"showbackground\": true, \"ticks\": \"\", \"zerolinecolor\": \"white\"}, \"zaxis\": {\"backgroundcolor\": \"#E5ECF6\", \"gridcolor\": \"white\", \"gridwidth\": 2, \"linecolor\": \"white\", \"showbackground\": true, \"ticks\": \"\", \"zerolinecolor\": \"white\"}}, \"shapedefaults\": {\"line\": {\"color\": \"#2a3f5f\"}}, \"ternary\": {\"aaxis\": {\"gridcolor\": \"white\", \"linecolor\": \"white\", \"ticks\": \"\"}, \"baxis\": {\"gridcolor\": \"white\", \"linecolor\": \"white\", \"ticks\": \"\"}, \"bgcolor\": \"#E5ECF6\", \"caxis\": {\"gridcolor\": \"white\", \"linecolor\": \"white\", \"ticks\": \"\"}}, \"title\": {\"x\": 0.05}, \"xaxis\": {\"automargin\": true, \"gridcolor\": \"white\", \"linecolor\": \"white\", \"ticks\": \"\", \"title\": {\"standoff\": 15}, \"zerolinecolor\": \"white\", \"zerolinewidth\": 2}, \"yaxis\": {\"automargin\": true, \"gridcolor\": \"white\", \"linecolor\": \"white\", \"ticks\": \"\", \"title\": {\"standoff\": 15}, \"zerolinecolor\": \"white\", \"zerolinewidth\": 2}}}, \"xaxis\": {\"linecolor\": \"rgb(204, 204, 204)\", \"linewidth\": 2, \"showgrid\": true, \"showline\": true, \"showticklabels\": true, \"tickangle\": -45, \"tickfont\": {\"color\": \"rgb(82, 82, 82)\", \"family\": \"Arial\", \"size\": 12}, \"ticks\": \"outside\", \"title\": {\"text\": \"Date\"}}, \"yaxis\": {\"linecolor\": \"rgb(204, 204, 204)\", \"linewidth\": 2, \"showgrid\": true, \"showline\": true, \"showticklabels\": true, \"title\": {\"text\": \"Case Count\"}}},\n",
              "                        {\"responsive\": true}\n",
              "                    ).then(function(){\n",
              "                            \n",
              "var gd = document.getElementById('e46eae27-e0d6-4569-8979-5d03adad9be4');\n",
              "var x = new MutationObserver(function (mutations, observer) {{\n",
              "        var display = window.getComputedStyle(gd).display;\n",
              "        if (!display || display === 'none') {{\n",
              "            console.log([gd, 'removed!']);\n",
              "            Plotly.purge(gd);\n",
              "            observer.disconnect();\n",
              "        }}\n",
              "}});\n",
              "\n",
              "// Listen for the removal of the full notebook cells\n",
              "var notebookContainer = gd.closest('#notebook-container');\n",
              "if (notebookContainer) {{\n",
              "    x.observe(notebookContainer, {childList: true});\n",
              "}}\n",
              "\n",
              "// Listen for the clearing of the current output cell\n",
              "var outputEl = gd.closest('.output');\n",
              "if (outputEl) {{\n",
              "    x.observe(outputEl, {childList: true});\n",
              "}}\n",
              "\n",
              "                        })\n",
              "                };\n",
              "                \n",
              "            </script>\n",
              "        </div>\n",
              "</body>\n",
              "</html>"
            ]
          },
          "metadata": {
            "tags": []
          }
        }
      ]
    },
    {
      "cell_type": "code",
      "metadata": {
        "id": "-VVXfNrv9oUG",
        "colab_type": "code",
        "colab": {}
      },
      "source": [
        "cou_df.copy().drop(\n",
        "    ['Lat','Long_','Last_Update'],axis =1).sort_values('Confirmed', ascending= False).reset_index(drop=True).style.bar(\n",
        "    align=\"left\",width=98,color='#d65f5f')"
      ],
      "execution_count": 0,
      "outputs": []
    },
    {
      "cell_type": "code",
      "metadata": {
        "id": "uFxs0ZjU_aqf",
        "colab_type": "code",
        "colab": {}
      },
      "source": [
        "\n",
        "\n",
        "con_India_ts = con_df[con_df['Country/Region']==\"India\"]\n",
        "con_India_ts = con_India_ts.drop(\n",
        "    ['Lat','Long','Country/Region','Province/State'],axis =1).reset_index(drop=True).sum()\n",
        "\n",
        "dt_India_ts = dt_df[dt_df['Country/Region']==\"India\"]\n",
        "dt_India_ts = dt_India_ts.drop(\n",
        "    ['Lat','Long','Country/Region','Province/State'],axis =1).reset_index(drop=True).sum()\n",
        "\n",
        "rc_India_ts = rc_df[rc_df['Country/Region']==\"India\"]\n",
        "rc_India_ts = rc_India_ts.drop(\n",
        "    ['Lat','Long','Country/Region','Province/State'],axis =1).reset_index(drop=True).sum()\n",
        "\n",
        "active_India_ts = pd.Series(\n",
        "    data=np.array(\n",
        "        [x1 - x2 - x3  for (x1, x2, x3) in zip(\n",
        "            con_India_ts.values,dt_India_ts.values, rc_India_ts.values)\n",
        "        ] \n",
        "    ), \n",
        "    index= con_India_ts.index\n",
        ")"
      ],
      "execution_count": 0,
      "outputs": []
    },
    {
      "cell_type": "code",
      "metadata": {
        "id": "-bNRFKZ9cGju",
        "colab_type": "code",
        "colab": {}
      },
      "source": [
        "ts_array = [con_India_ts, active_India_ts, rc_India_ts, dt_India_ts]\n",
        "labels = ['Confirmed', 'Active', 'Recovered', 'Deaths']\n",
        "colors = [color_arr[5],  color_arr[0], color_arr[2], color_arr[3]]\n",
        "mode_size = [8, 8, 12, 8]\n",
        "line_size = [2, 2, 4, 2]\n",
        "\n",
        "# Calling the draw_plot function defined above\n",
        "fig_3 = draw_plot(ts_array = ts_array, \n",
        "                  ts_label = labels , \n",
        "                  title = \"Covid-19 Case Trend in INDIA\",\n",
        "                  colors = colors, mode_size = mode_size, \n",
        "                  line_size = line_size , \n",
        "                  x_axis_title = \"Date\" , \n",
        "                  y_axis_title = \"Case Count\", \n",
        "                  tickangle = 315, \n",
        "                  yaxis_type = \"\", additional_annotations=[])\n",
        "\n",
        "fig_3.show()"
      ],
      "execution_count": 0,
      "outputs": []
    },
    {
      "cell_type": "code",
      "metadata": {
        "id": "FpoBFC0ncdj0",
        "colab_type": "code",
        "colab": {}
      },
      "source": [
        "#Transmission in India from \n",
        "ts_array = [con_India_ts[52:], active_India_ts[52:], rc_India_ts[52:], dt_India_ts[52:]]\n",
        "fig_4 = draw_plot(ts_array = ts_array, \n",
        "                  ts_label = labels , \n",
        "                  title = \"Covid-19 Transmission Timeline in INDIA - 14/03/2020 Onwards\",\n",
        "                  colors = colors, mode_size = mode_size, \n",
        "                  line_size = line_size , \n",
        "                  x_axis_title = \"Date\" , \n",
        "                  y_axis_title = \"Case Count\", \n",
        "                  tickangle = 315, \n",
        "                  yaxis_type = \"\", additional_annotations=[])\n",
        "\n",
        "fig_4.show()"
      ],
      "execution_count": 0,
      "outputs": []
    },
    {
      "cell_type": "markdown",
      "metadata": {
        "id": "Tr-XB267eXR3",
        "colab_type": "text"
      },
      "source": [
        "**Inference**\n",
        "\n",
        "As we see, there is a sharp upturn in cases from May 01, 2020. This means the Lockdown 2.0 which was announced on Apr 15 has led to less physical distancing, letting people to come out has hampered the public health situation in the country. The situations got worse from then and on 29th May, 2020 the country has got double the number of cases it usually got hitherto. The Unlock 1.0 is showing the worst results as more and more people are getting infected."
      ]
    },
    {
      "cell_type": "markdown",
      "metadata": {
        "id": "PCsaf0IngKil",
        "colab_type": "text"
      },
      "source": [
        "# SIR Model"
      ]
    },
    {
      "cell_type": "code",
      "metadata": {
        "id": "JWMG7Bxdh6Ia",
        "colab_type": "code",
        "colab": {}
      },
      "source": [
        "# Imports required\n",
        "from scipy.integrate import solve_ivp\n",
        "from scipy.optimize import minimize\n",
        "import matplotlib.pyplot as plt\n",
        "from datetime import timedelta, datetime"
      ],
      "execution_count": 0,
      "outputs": []
    },
    {
      "cell_type": "code",
      "metadata": {
        "id": "As6YYZU_eNWp",
        "colab_type": "code",
        "colab": {}
      },
      "source": [
        "START_DATE = {\n",
        "  'Italy': '1/31/20',\n",
        "  'India': '1/30/20'\n",
        "}\n",
        "class Learner(object):\n",
        "    def __init__(self, country, loss, start_date ='1/22/20', predict_range=150,s_0=100000, i_0=2, r_0=10):\n",
        "        self.country = country\n",
        "        self.loss = loss\n",
        "        self.start_date = start_date\n",
        "        self.predict_range = predict_range\n",
        "        self.s_0 = s_0\n",
        "        self.i_0 = i_0\n",
        "        self.r_0 = r_0\n",
        "\n",
        "    def load_confirmed(self, country):\n",
        "        df = pd.read_csv('time_series_covid19_confirmed_global.csv')\n",
        "        df = df.drop(['Province/State'],axis =1)\n",
        "        country_df = df[df['Country/Region'] == country]\n",
        "        return country_df.iloc[0].loc[self.start_date:]\n",
        "\n",
        "\n",
        "    def load_recovered(self, country):\n",
        "        df = pd.read_csv('time_series_covid19_recovered_global.csv')\n",
        "        df = df.drop(['Province/State'],axis =1)\n",
        "        country_df = df[df['Country/Region'] == country]\n",
        "        return country_df.iloc[0].loc[self.start_date:]\n",
        "\n",
        "\n",
        "    def load_dead(self, country):\n",
        "        df = pd.read_csv('time_series_covid19_deaths_global.csv')\n",
        "        df = df.drop(['Province/State'],axis =1)\n",
        "        country_df = df[df['Country/Region'] == country]\n",
        "        return country_df.iloc[0].loc[self.start_date:]\n",
        "    \n",
        "\n",
        "    def extend_index(self, index, new_size):\n",
        "        values = index.values\n",
        "        current = datetime.strptime(index[-1], '%m/%d/%y')\n",
        "        while len(values) < new_size:\n",
        "            current = current + timedelta(days=1)\n",
        "            values = np.append(values, datetime.strftime(current, '%m/%d/%y'))\n",
        "        return values\n",
        "\n",
        "    def predict(self, beta, gamma, data, recovered, death, country, s_0, i_0, r_0):\n",
        "        \"\"\"\n",
        "        Predict how the number of people in each compartment can be changed through time toward the future.\n",
        "        The model is formulated with the given beta and gamma.\n",
        "        \"\"\"\n",
        "        new_index = self.extend_index(data.index, self.predict_range)\n",
        "        size = len(new_index)\n",
        "        def SIR(t, y):\n",
        "            S = y[0]\n",
        "            I = y[1]\n",
        "            R = y[2]\n",
        "            return [-beta*S*I, beta*S*I-gamma*I, gamma*I]\n",
        "        extended_actual = np.concatenate((data.values, [None] * (size - len(data.values))))\n",
        "        extended_recovered = np.concatenate((recovered.values, [None] * (size - len(recovered.values))))\n",
        "        extended_death = np.concatenate((death.values, [None] * (size - len(death.values))))\n",
        "        return new_index, extended_actual, extended_recovered, extended_death, solve_ivp(SIR, [0, size], [s_0,i_0,r_0], t_eval=np.arange(0, size, 1))\n",
        "    \n",
        "    def train(self):\n",
        "        \"\"\"\n",
        "        Run the optimization to estimate the beta and gamma fitting the given confirmed cases.\n",
        "        \"\"\"\n",
        "        recovered = self.load_recovered(self.country)\n",
        "        death = self.load_dead(self.country)\n",
        "        data = (self.load_confirmed(self.country) - recovered - death)\n",
        "        \n",
        "        optimal = minimize(\n",
        "            loss, \n",
        "            [0.001, 0.001], \n",
        "            args=(data, recovered, self.s_0, self.i_0, self.r_0), \n",
        "            method='L-BFGS-B', \n",
        "            bounds=[(0.00000001, 0.4), (0.00000001, 0.4)]\n",
        "        )\n",
        "        print(optimal)\n",
        "        beta, gamma = optimal.x\n",
        "        new_index, extended_actual, extended_recovered, extended_death, prediction = self.predict(beta, gamma, data, recovered, death, self.country, self.s_0, self.i_0, self.r_0)\n",
        "        df = pd.DataFrame({'Infected data': extended_actual, 'Recovered data': extended_recovered, 'Death data': extended_death, 'Susceptible': prediction.y[0], 'Infected': prediction.y[1], 'Recovered': prediction.y[2]}, index=new_index)\n",
        "        df.to_csv(f\"{self.country}.csv\")\n",
        "        fig, ax = plt.subplots(figsize=(15, 10))\n",
        "        ax.set_title(self.country)\n",
        "        df.plot(ax=ax)\n",
        "        print(f\"country={self.country}, beta={beta:.8f}, gamma={gamma:.8f}, r_0:{(beta/gamma):.8f}\")\n",
        "        fig.savefig(f\"{self.country}.png\")\n",
        "        \n",
        "        return df, fig"
      ],
      "execution_count": 0,
      "outputs": []
    },
    {
      "cell_type": "code",
      "metadata": {
        "id": "vYb3Mt2WhTJ1",
        "colab_type": "code",
        "colab": {}
      },
      "source": [
        "def loss(point, data, recovered, s_0, i_0, r_0):\n",
        "    size = len(data)\n",
        "    beta, gamma = point\n",
        "    def SIR(t, y):\n",
        "        S = y[0]\n",
        "        I = y[1]\n",
        "        R = y[2]\n",
        "        return [-beta*S*I, beta*S*I-gamma*I, gamma*I]\n",
        "    solution = solve_ivp(SIR, [0, size], [s_0,i_0,r_0], t_eval=np.arange(0, size, 1), vectorized=True)\n",
        "    l1 = np.sqrt(np.mean((solution.y[1] - data)**2))\n",
        "    l2 = np.sqrt(np.mean((solution.y[2] - recovered)**2))\n",
        "    alpha = 0.1\n",
        "    return alpha * l1 + (1 - alpha) * l2"
      ],
      "execution_count": 0,
      "outputs": []
    },
    {
      "cell_type": "code",
      "metadata": {
        "id": "_6lDTdIshai8",
        "colab_type": "code",
        "colab": {}
      },
      "source": [
        "italy_learner = Learner(country=\"Italy\", loss= loss )"
      ],
      "execution_count": 0,
      "outputs": []
    },
    {
      "cell_type": "code",
      "metadata": {
        "id": "OZ53--ghhgi0",
        "colab_type": "code",
        "colab": {}
      },
      "source": [
        "italy_df, italy_fig = italy_learner.train()"
      ],
      "execution_count": 0,
      "outputs": []
    },
    {
      "cell_type": "code",
      "metadata": {
        "id": "LIc6kLTgjVNx",
        "colab_type": "code",
        "colab": {}
      },
      "source": [
        "# SIR Model for India\n",
        "india_learner = Learner(country=\"India\", loss= loss, i_0= 3)"
      ],
      "execution_count": 0,
      "outputs": []
    },
    {
      "cell_type": "code",
      "metadata": {
        "id": "jMESMztzjhUc",
        "colab_type": "code",
        "colab": {
          "base_uri": "https://localhost:8080/",
          "height": 791
        },
        "outputId": "5ddc51ca-cf27-4fe7-9443-9e3ab5b695b3"
      },
      "source": [
        "india_sir , india_sir_fig = india_learner.train()"
      ],
      "execution_count": 73,
      "outputs": [
        {
          "output_type": "stream",
          "text": [
            "      fun: 19706.177943906016\n",
            " hess_inv: <2x2 LbfgsInvHessProduct with dtype=float64>\n",
            "      jac: array([ 1.49012037e+09, -4.33231398e+03])\n",
            "  message: b'CONVERGENCE: REL_REDUCTION_OF_F_<=_FACTR*EPSMCH'\n",
            "     nfev: 291\n",
            "      nit: 18\n",
            "   status: 0\n",
            "  success: True\n",
            "        x: array([1.50177545e-06, 4.30578542e-02])\n",
            "country=India, beta=0.00000150, gamma=0.04305785, r_0:0.00003488\n"
          ],
          "name": "stdout"
        },
        {
          "output_type": "display_data",
          "data": {
            "image/png": "[encoded data removed]",
            "text/plain": [
              "<Figure size 1080x720 with 1 Axes>"
            ]
          },
          "metadata": {
            "tags": [],
            "needs_background": "light"
          }
        }
      ]
    },
    {
      "cell_type": "code",
      "metadata": {
        "id": "BaYXeShvjiJ8",
        "colab_type": "code",
        "colab": {}
      },
      "source": [
        "india_sir = india_sir[:]"
      ],
      "execution_count": 0,
      "outputs": []
    },
    {
      "cell_type": "code",
      "metadata": {
        "id": "N3YiIrAvotVl",
        "colab_type": "code",
        "colab": {}
      },
      "source": [
        "def plot_sir_prediction(title, df_sir, remove_series=[],yaxis_type=\"\", yaxis_title=\"\"):\n",
        "    fig = go.Figure()\n",
        "    title = title\n",
        "    labels = ['Infected data','Recovered data', 'Death data', 'Susceptible','Infected','Recovered']\n",
        "    colors = [color_arr[0], color_arr[8], color_arr[2], color_arr[3],color_arr[7], color_arr[16]]\n",
        "    line_size = [2, 2, 2, 2, 2, 2]\n",
        "    \n",
        "    for index, data_series in enumerate(labels):\n",
        "        if data_series not in remove_series:\n",
        "            fig.add_trace(go.Scatter(x=df_sir.index, \n",
        "                                           y = df_sir[data_series], \n",
        "                                           name = labels[index],\n",
        "                                           line=dict(\n",
        "                                               color=colors[index], \n",
        "                                               width=line_size[index]),\n",
        "                                           connectgaps=True,))\n",
        "    xaxis= dict(\n",
        "        title = \"Date\",\n",
        "        showline=True,\n",
        "        showgrid=True,\n",
        "        showticklabels=True,\n",
        "        linecolor='rgb(204, 204, 204)',\n",
        "        linewidth=2,\n",
        "        ticks='outside',\n",
        "        tickangle = 280,\n",
        "        tickfont=dict(\n",
        "            family='Arial',\n",
        "            size=12,\n",
        "            color='rgb(82, 82, 82)',),)\n",
        "    yaxis = dict(\n",
        "        title = \"Case Count\",\n",
        "        showline = True,\n",
        "        showgrid = True,\n",
        "        showticklabels=True,\n",
        "        linecolor='rgb(204, 204, 204)',\n",
        "        linewidth=2,)\n",
        "    \n",
        "    if yaxis_type!=\"\":\n",
        "        yaxis['type'] = yaxis_type\n",
        "    \n",
        "    if yaxis_title !=\"\":\n",
        "        yaxis['title'] = yaxis_title\n",
        "    \n",
        "    fig.update_layout(\n",
        "        xaxis = xaxis,\n",
        "        yaxis = yaxis,\n",
        "        autosize=True,\n",
        "        margin=dict(autoexpand=True,l=100,r=20,t=110,),\n",
        "        showlegend=True)\n",
        "\n",
        "    annotations = []\n",
        "\n",
        "    # Title\n",
        "    annotations.append(dict(xref='paper', yref='paper', x=0.0, y=1.05,\n",
        "                              xanchor='left', yanchor='bottom',\n",
        "                              text=title,\n",
        "                              font=dict(family='Arial',\n",
        "                                        size=16,\n",
        "                                        color='rgb(37,37,37)'),\n",
        "                              showarrow=False))\n",
        "\n",
        "    fig.update_layout(annotations=annotations)\n",
        "    return fig"
      ],
      "execution_count": 0,
      "outputs": []
    },
    {
      "cell_type": "code",
      "metadata": {
        "id": "EqRhx64eo6V9",
        "colab_type": "code",
        "colab": {
          "base_uri": "https://localhost:8080/",
          "height": 542
        },
        "outputId": "62d037fa-ff8c-45ba-a575-42b62a7d71ff"
      },
      "source": [
        "fig_8 = plot_sir_prediction(title=\"SIR Model --  Covid-19 Transmission -- Prediction -- INDIA\", df_sir= india_sir)\n",
        "fig_8.show()"
      ],
      "execution_count": 78,
      "outputs": [
        {
          "output_type": "display_data",
          "data": {
            "text/html": [
              "<html>\n",
              "<head><meta charset=\"utf-8\" /></head>\n",
              "<body>\n",
              "    <div>\n",
              "            <script src=\"https://cdnjs.cloudflare.com/ajax/libs/mathjax/2.7.5/MathJax.js?config=TeX-AMS-MML_SVG\"></script><script type=\"text/javascript\">if (window.MathJax) {MathJax.Hub.Config({SVG: {font: \"STIX-Web\"}});}</script>\n",
              "                <script type=\"text/javascript\">window.PlotlyConfig = {MathJaxConfig: 'local'};</script>\n",
              "        <script src=\"https://cdn.plot.ly/plotly-latest.min.js\"></script>    \n",
              "            <div id=\"028ea878-e7c9-4d9f-a127-04a6f6f0a687\" class=\"plotly-graph-div\" style=\"height:525px; width:100%;\"></div>\n",
              "            <script type=\"text/javascript\">\n",
              "                \n",
              "                    window.PLOTLYENV=window.PLOTLYENV || {};\n",
              "                    \n",
              "                if (document.getElementById(\"028ea878-e7c9-4d9f-a127-04a6f6f0a687\")) {\n",
              "                    Plotly.newPlot(\n",
              "                        '028ea878-e7c9-4d9f-a127-04a6f6f0a687',\n",
              "                        [{\"connectgaps\": true, \"line\": {\"color\": \"#2E91E5\", \"width\": 2}, \"name\": \"Infected data\", \"type\": \"scatter\", \"x\": [\"1/22/20\", \"1/23/20\", \"1/24/20\", \"1/25/20\", \"1/26/20\", \"1/27/20\", \"1/28/20\", \"1/29/20\", \"1/30/20\", \"1/31/20\", \"2/1/20\", \"2/2/20\", \"2/3/20\", \"2/4/20\", \"2/5/20\", \"2/6/20\", \"2/7/20\", \"2/8/20\", \"2/9/20\", \"2/10/20\", \"2/11/20\", \"2/12/20\", \"2/13/20\", \"2/14/20\", \"2/15/20\", \"2/16/20\", \"2/17/20\", \"2/18/20\", \"2/19/20\", \"2/20/20\", \"2/21/20\", \"2/22/20\", \"2/23/20\", \"2/24/20\", \"2/25/20\", \"2/26/20\", \"2/27/20\", \"2/28/20\", \"2/29/20\", \"3/1/20\", \"3/2/20\", \"3/3/20\", \"3/4/20\", \"3/5/20\", \"3/6/20\", \"3/7/20\", \"3/8/20\", \"3/9/20\", \"3/10/20\", \"3/11/20\", \"3/12/20\", \"3/13/20\", \"3/14/20\", \"3/15/20\", \"3/16/20\", \"3/17/20\", \"3/18/20\", \"3/19/20\", \"3/20/20\", \"3/21/20\", \"3/22/20\", \"3/23/20\", \"3/24/20\", \"3/25/20\", \"3/26/20\", \"3/27/20\", \"3/28/20\", \"3/29/20\", \"3/30/20\", \"3/31/20\", \"4/1/20\", \"4/2/20\", \"4/3/20\", \"4/4/20\", \"4/5/20\", \"4/6/20\", \"4/7/20\", \"4/8/20\", \"4/9/20\", \"4/10/20\", \"4/11/20\", \"4/12/20\", \"4/13/20\", \"4/14/20\", \"4/15/20\", \"4/16/20\", \"4/17/20\", \"4/18/20\", \"4/19/20\", \"4/20/20\", \"4/21/20\", \"4/22/20\", \"4/23/20\", \"4/24/20\", \"4/25/20\", \"4/26/20\", \"4/27/20\", \"4/28/20\", \"4/29/20\", \"4/30/20\", \"5/1/20\", \"5/2/20\", \"5/3/20\", \"5/4/20\", \"5/5/20\", \"5/6/20\", \"5/7/20\", \"5/8/20\", \"5/9/20\", \"5/10/20\", \"5/11/20\", \"5/12/20\", \"5/13/20\", \"5/14/20\", \"5/15/20\", \"5/16/20\", \"5/17/20\", \"5/18/20\", \"5/19/20\", \"5/20/20\", \"5/21/20\", \"5/22/20\", \"5/23/20\", \"5/24/20\", \"5/25/20\", \"5/26/20\", \"5/27/20\", \"5/28/20\", \"5/29/20\", \"5/30/20\", \"5/31/20\", \"6/1/20\", \"6/2/20\", \"6/3/20\", \"6/4/20\", \"6/5/20\", \"6/6/20\", \"6/7/20\", \"6/8/20\", \"6/9/20\", \"6/10/20\", \"6/11/20\", \"6/12/20\", \"6/13/20\", \"06/14/20\", \"06/15/20\", \"06/16/20\", \"06/17/20\", \"06/18/20\", \"06/19/20\"], \"y\": [0, 0, 0, 0, 0, 0, 0, 0, 1, 1, 1, 2, 3, 3, 3, 3, 3, 3, 3, 3, 3, 3, 3, 3, 3, 0, 0, 0, 0, 0, 0, 0, 0, 0, 0, 0, 0, 0, 0, 0, 2, 2, 25, 27, 28, 31, 36, 40, 52, 57, 68, 76, 96, 98, 104, 125, 139, 175, 219, 303, 362, 462, 486, 602, 662, 794, 879, 902, 1117, 1239, 1792, 2280, 2303, 2767, 3260, 4267, 4740, 5232, 5879, 6578, 7189, 7794, 8914, 9735, 10485, 11214, 11825, 12738, 14202, 14674, 15460, 16319, 17344, 18252, 19519, 20486, 21375, 22569, 23546, 24641, 26027, 27557, 29339, 32024, 33565, 35871, 37686, 39823, 41406, 43980, 45925, 47457, 49104, 51379, 52773, 53553, 55878, 57939, 60864, 63172, 66089, 69244, 73170, 76820, 80072, 82172, 85803, 89755, 85884, 89706, 93349, 97008, 101077, 106665, 111900, 116302, 120981, 126431, 129360, 133726, 142901, 141842, 141842, 145779, null, null, null, null, null, null]}, {\"connectgaps\": true, \"line\": {\"color\": \"#EB663B\", \"width\": 2}, \"name\": \"Recovered data\", \"type\": \"scatter\", \"x\": [\"1/22/20\", \"1/23/20\", \"1/24/20\", \"1/25/20\", \"1/26/20\", \"1/27/20\", \"1/28/20\", \"1/29/20\", \"1/30/20\", \"1/31/20\", \"2/1/20\", \"2/2/20\", \"2/3/20\", \"2/4/20\", \"2/5/20\", \"2/6/20\", \"2/7/20\", \"2/8/20\", \"2/9/20\", \"2/10/20\", \"2/11/20\", \"2/12/20\", \"2/13/20\", \"2/14/20\", \"2/15/20\", \"2/16/20\", \"2/17/20\", \"2/18/20\", \"2/19/20\", \"2/20/20\", \"2/21/20\", \"2/22/20\", \"2/23/20\", \"2/24/20\", \"2/25/20\", \"2/26/20\", \"2/27/20\", \"2/28/20\", \"2/29/20\", \"3/1/20\", \"3/2/20\", \"3/3/20\", \"3/4/20\", \"3/5/20\", \"3/6/20\", \"3/7/20\", \"3/8/20\", \"3/9/20\", \"3/10/20\", \"3/11/20\", \"3/12/20\", \"3/13/20\", \"3/14/20\", \"3/15/20\", \"3/16/20\", \"3/17/20\", \"3/18/20\", \"3/19/20\", \"3/20/20\", \"3/21/20\", \"3/22/20\", \"3/23/20\", \"3/24/20\", \"3/25/20\", \"3/26/20\", \"3/27/20\", \"3/28/20\", \"3/29/20\", \"3/30/20\", \"3/31/20\", \"4/1/20\", \"4/2/20\", \"4/3/20\", \"4/4/20\", \"4/5/20\", \"4/6/20\", \"4/7/20\", \"4/8/20\", \"4/9/20\", \"4/10/20\", \"4/11/20\", \"4/12/20\", \"4/13/20\", \"4/14/20\", \"4/15/20\", \"4/16/20\", \"4/17/20\", \"4/18/20\", \"4/19/20\", \"4/20/20\", \"4/21/20\", \"4/22/20\", \"4/23/20\", \"4/24/20\", \"4/25/20\", \"4/26/20\", \"4/27/20\", \"4/28/20\", \"4/29/20\", \"4/30/20\", \"5/1/20\", \"5/2/20\", \"5/3/20\", \"5/4/20\", \"5/5/20\", \"5/6/20\", \"5/7/20\", \"5/8/20\", \"5/9/20\", \"5/10/20\", \"5/11/20\", \"5/12/20\", \"5/13/20\", \"5/14/20\", \"5/15/20\", \"5/16/20\", \"5/17/20\", \"5/18/20\", \"5/19/20\", \"5/20/20\", \"5/21/20\", \"5/22/20\", \"5/23/20\", \"5/24/20\", \"5/25/20\", \"5/26/20\", \"5/27/20\", \"5/28/20\", \"5/29/20\", \"5/30/20\", \"5/31/20\", \"6/1/20\", \"6/2/20\", \"6/3/20\", \"6/4/20\", \"6/5/20\", \"6/6/20\", \"6/7/20\", \"6/8/20\", \"6/9/20\", \"6/10/20\", \"6/11/20\", \"6/12/20\", \"6/13/20\", \"06/14/20\", \"06/15/20\", \"06/16/20\", \"06/17/20\", \"06/18/20\", \"06/19/20\"], \"y\": [0, 0, 0, 0, 0, 0, 0, 0, 0, 0, 0, 0, 0, 0, 0, 0, 0, 0, 0, 0, 0, 0, 0, 0, 0, 3, 3, 3, 3, 3, 3, 3, 3, 3, 3, 3, 3, 3, 3, 3, 3, 3, 3, 3, 3, 3, 3, 3, 4, 4, 4, 4, 4, 13, 13, 14, 14, 15, 20, 23, 27, 27, 40, 43, 45, 73, 84, 95, 102, 123, 148, 191, 192, 229, 229, 375, 421, 506, 620, 774, 969, 1080, 1181, 1359, 1432, 1768, 2041, 2463, 2854, 3273, 3975, 4370, 5012, 5498, 5939, 6523, 7137, 7747, 8437, 9068, 10007, 10819, 11775, 12847, 14142, 15331, 16776, 17887, 19301, 20969, 22549, 24420, 26400, 27969, 30258, 34224, 36795, 39233, 42309, 45422, 48553, 51824, 54385, 57692, 60706, 64277, 67749, 70920, 82627, 86936, 91852, 95754, 100285, 104071, 108450, 113233, 118695, 123848, 129095, 134670, 135206, 147195, 147195, 154330, null, null, null, null, null, null]}, {\"connectgaps\": true, \"line\": {\"color\": \"#1CA71C\", \"width\": 2}, \"name\": \"Death data\", \"type\": \"scatter\", \"x\": [\"1/22/20\", \"1/23/20\", \"1/24/20\", \"1/25/20\", \"1/26/20\", \"1/27/20\", \"1/28/20\", \"1/29/20\", \"1/30/20\", \"1/31/20\", \"2/1/20\", \"2/2/20\", \"2/3/20\", \"2/4/20\", \"2/5/20\", \"2/6/20\", \"2/7/20\", \"2/8/20\", \"2/9/20\", \"2/10/20\", \"2/11/20\", \"2/12/20\", \"2/13/20\", \"2/14/20\", \"2/15/20\", \"2/16/20\", \"2/17/20\", \"2/18/20\", \"2/19/20\", \"2/20/20\", \"2/21/20\", \"2/22/20\", \"2/23/20\", \"2/24/20\", \"2/25/20\", \"2/26/20\", \"2/27/20\", \"2/28/20\", \"2/29/20\", \"3/1/20\", \"3/2/20\", \"3/3/20\", \"3/4/20\", \"3/5/20\", \"3/6/20\", \"3/7/20\", \"3/8/20\", \"3/9/20\", \"3/10/20\", \"3/11/20\", \"3/12/20\", \"3/13/20\", \"3/14/20\", \"3/15/20\", \"3/16/20\", \"3/17/20\", \"3/18/20\", \"3/19/20\", \"3/20/20\", \"3/21/20\", \"3/22/20\", \"3/23/20\", \"3/24/20\", \"3/25/20\", \"3/26/20\", \"3/27/20\", \"3/28/20\", \"3/29/20\", \"3/30/20\", \"3/31/20\", \"4/1/20\", \"4/2/20\", \"4/3/20\", \"4/4/20\", \"4/5/20\", \"4/6/20\", \"4/7/20\", \"4/8/20\", \"4/9/20\", \"4/10/20\", \"4/11/20\", \"4/12/20\", \"4/13/20\", \"4/14/20\", \"4/15/20\", \"4/16/20\", \"4/17/20\", \"4/18/20\", \"4/19/20\", \"4/20/20\", \"4/21/20\", \"4/22/20\", \"4/23/20\", \"4/24/20\", \"4/25/20\", \"4/26/20\", \"4/27/20\", \"4/28/20\", \"4/29/20\", \"4/30/20\", \"5/1/20\", \"5/2/20\", \"5/3/20\", \"5/4/20\", \"5/5/20\", \"5/6/20\", \"5/7/20\", \"5/8/20\", \"5/9/20\", \"5/10/20\", \"5/11/20\", \"5/12/20\", \"5/13/20\", \"5/14/20\", \"5/15/20\", \"5/16/20\", \"5/17/20\", \"5/18/20\", \"5/19/20\", \"5/20/20\", \"5/21/20\", \"5/22/20\", \"5/23/20\", \"5/24/20\", \"5/25/20\", \"5/26/20\", \"5/27/20\", \"5/28/20\", \"5/29/20\", \"5/30/20\", \"5/31/20\", \"6/1/20\", \"6/2/20\", \"6/3/20\", \"6/4/20\", \"6/5/20\", \"6/6/20\", \"6/7/20\", \"6/8/20\", \"6/9/20\", \"6/10/20\", \"6/11/20\", \"6/12/20\", \"6/13/20\", \"06/14/20\", \"06/15/20\", \"06/16/20\", \"06/17/20\", \"06/18/20\", \"06/19/20\"], \"y\": [0, 0, 0, 0, 0, 0, 0, 0, 0, 0, 0, 0, 0, 0, 0, 0, 0, 0, 0, 0, 0, 0, 0, 0, 0, 0, 0, 0, 0, 0, 0, 0, 0, 0, 0, 0, 0, 0, 0, 0, 0, 0, 0, 0, 0, 0, 0, 0, 0, 1, 1, 2, 2, 2, 2, 3, 3, 4, 5, 4, 7, 10, 10, 12, 20, 20, 24, 27, 32, 35, 58, 72, 72, 86, 99, 136, 150, 178, 226, 246, 288, 331, 358, 393, 405, 448, 486, 521, 559, 592, 645, 681, 721, 780, 825, 881, 939, 1008, 1079, 1154, 1223, 1323, 1391, 1566, 1693, 1785, 1889, 1985, 2101, 2212, 2294, 2415, 2551, 2649, 2753, 2871, 3025, 3156, 3302, 3434, 3584, 3726, 3868, 4024, 4172, 4344, 4534, 4711, 4980, 5185, 5408, 5608, 5829, 6088, 6363, 6649, 6946, 7207, 7473, 7750, 8498, 8498, 8498, 8884, null, null, null, null, null, null]}, {\"connectgaps\": true, \"line\": {\"color\": \"#FB0D0D\", \"width\": 2}, \"name\": \"Susceptible\", \"type\": \"scatter\", \"x\": [\"1/22/20\", \"1/23/20\", \"1/24/20\", \"1/25/20\", \"1/26/20\", \"1/27/20\", \"1/28/20\", \"1/29/20\", \"1/30/20\", \"1/31/20\", \"2/1/20\", \"2/2/20\", \"2/3/20\", \"2/4/20\", \"2/5/20\", \"2/6/20\", \"2/7/20\", \"2/8/20\", \"2/9/20\", \"2/10/20\", \"2/11/20\", \"2/12/20\", \"2/13/20\", \"2/14/20\", \"2/15/20\", \"2/16/20\", \"2/17/20\", \"2/18/20\", \"2/19/20\", \"2/20/20\", \"2/21/20\", \"2/22/20\", \"2/23/20\", \"2/24/20\", \"2/25/20\", \"2/26/20\", \"2/27/20\", \"2/28/20\", \"2/29/20\", \"3/1/20\", \"3/2/20\", \"3/3/20\", \"3/4/20\", \"3/5/20\", \"3/6/20\", \"3/7/20\", \"3/8/20\", \"3/9/20\", \"3/10/20\", \"3/11/20\", \"3/12/20\", \"3/13/20\", \"3/14/20\", \"3/15/20\", \"3/16/20\", \"3/17/20\", \"3/18/20\", \"3/19/20\", \"3/20/20\", \"3/21/20\", \"3/22/20\", \"3/23/20\", \"3/24/20\", \"3/25/20\", \"3/26/20\", \"3/27/20\", \"3/28/20\", \"3/29/20\", \"3/30/20\", \"3/31/20\", \"4/1/20\", \"4/2/20\", \"4/3/20\", \"4/4/20\", \"4/5/20\", \"4/6/20\", \"4/7/20\", \"4/8/20\", \"4/9/20\", \"4/10/20\", \"4/11/20\", \"4/12/20\", \"4/13/20\", \"4/14/20\", \"4/15/20\", \"4/16/20\", \"4/17/20\", \"4/18/20\", \"4/19/20\", \"4/20/20\", \"4/21/20\", \"4/22/20\", \"4/23/20\", \"4/24/20\", \"4/25/20\", \"4/26/20\", \"4/27/20\", \"4/28/20\", \"4/29/20\", \"4/30/20\", \"5/1/20\", \"5/2/20\", \"5/3/20\", \"5/4/20\", \"5/5/20\", \"5/6/20\", \"5/7/20\", \"5/8/20\", \"5/9/20\", \"5/10/20\", \"5/11/20\", \"5/12/20\", \"5/13/20\", \"5/14/20\", \"5/15/20\", \"5/16/20\", \"5/17/20\", \"5/18/20\", \"5/19/20\", \"5/20/20\", \"5/21/20\", \"5/22/20\", \"5/23/20\", \"5/24/20\", \"5/25/20\", \"5/26/20\", \"5/27/20\", \"5/28/20\", \"5/29/20\", \"5/30/20\", \"5/31/20\", \"6/1/20\", \"6/2/20\", \"6/3/20\", \"6/4/20\", \"6/5/20\", \"6/6/20\", \"6/7/20\", \"6/8/20\", \"6/9/20\", \"6/10/20\", \"6/11/20\", \"6/12/20\", \"6/13/20\", \"06/14/20\", \"06/15/20\", \"06/16/20\", \"06/17/20\", \"06/18/20\", \"06/19/20\"], \"y\": [100000.0, 99999.52445268398, 99998.99513728711, 99998.40571495153, 99997.7497022023, 99997.01991820727, 99996.20801306238, 99995.30446779176, 99994.29859434768, 99993.17853561058, 99991.931265389, 99990.54258841966, 99988.99714036744, 99987.27661839302, 99985.36053212934, 99983.22980965965, 99980.86143263814, 99978.22828796403, 99975.29916778147, 99972.03876947967, 99968.40769569277, 99964.36245429992, 99959.85545842524, 99954.83502643788, 99949.24538195191, 99943.02665382646, 99936.11049700314, 99928.406204475, 99919.83813696289, 99910.3179937616, 99899.74003606552, 99887.98108696866, 99874.90053146463, 99860.34031644664, 99844.1249507075, 99826.06150493961, 99805.93961173498, 99783.53146558523, 99758.59182288154, 99730.85800191476, 99700.04401102255, 99665.75920297194, 99627.64772229055, 99585.32121002598, 99538.31970165021, 99486.1116270597, 99428.09381057533, 99363.59147094244, 99291.8582213308, 99212.07606933462, 99123.35541697255, 99024.7350606877, 98915.1821913476, 98793.59239424423, 98658.78964909403, 98509.48218820443, 98344.11937535393, 98160.95546409531, 97958.0694828916, 97733.36519121328, 97484.57107953833, 97209.24036935224, 96904.75101314796, 96568.30569442597, 96196.9318276942, 95787.48155846808, 95336.63176327053, 94840.88404963196, 94296.5647560903, 93700.36120945115, 93050.46883969038, 92340.85111919774, 91565.39691114315, 90718.63451610028, 89795.73167204652, 88792.495554363, 87705.37277583462, 86531.44938664995, 85268.45087440136, 83914.7421640849, 82469.32761810042, 80931.85103625146, 79302.5956557453, 77582.48415119296, 75772.41286628657, 73868.9377294568, 71880.11298092113, 69816.95277172387, 67690.3172713135, 65510.91266754265, 63289.29116666815, 61035.85099335095, 58760.836390656215, 56474.33762005327, 54186.290961415594, 51906.47871302084, 49644.52919155084, 47409.91673209157, 45211.96168813322, 43059.830431570095, 40962.5353527007, 38928.934860227724, 36967.73338125798, 35087.45488220105, 33293.06628418934, 31583.591836292275, 29957.491369658328, 28413.110178850624, 26948.679021846896, 25562.314120039497, 24252.01715823539, 23015.675284656187, 21851.06111093808, 20755.832712131913, 19727.533626703123, 18763.592856531795, 17861.324866912604, 17017.92958655487, 16230.492407582515, 15495.984185534086, 14811.26123936276, 14173.065351436304, 13578.023767537143, 13022.649196862287, 12503.339812023394, 12016.379249046717, 11557.93660737315, 11124.066449858183, 10711.643410671519, 10324.217863691487, 9961.200756869881, 9620.812663399953, 9301.3755871927, 9001.312962876864, 8719.149655798927, 8453.51196202312, 8203.127608331408, 7966.825752223511, 7743.536981916881, 7532.293316346722, 7332.228205165979, 7142.576528745337, 6962.674598173227, 6791.960155255826, 6629.972372517048, 6476.351853198557, 6330.840631259756, 6193.282171377795, 6063.621368947561, 5941.90455008169]}, {\"connectgaps\": true, \"line\": {\"color\": \"#750D86\", \"width\": 2}, \"name\": \"Infected\", \"type\": \"scatter\", \"x\": [\"1/22/20\", \"1/23/20\", \"1/24/20\", \"1/25/20\", \"1/26/20\", \"1/27/20\", \"1/28/20\", \"1/29/20\", \"1/30/20\", \"1/31/20\", \"2/1/20\", \"2/2/20\", \"2/3/20\", \"2/4/20\", \"2/5/20\", \"2/6/20\", \"2/7/20\", \"2/8/20\", \"2/9/20\", \"2/10/20\", \"2/11/20\", \"2/12/20\", \"2/13/20\", \"2/14/20\", \"2/15/20\", \"2/16/20\", \"2/17/20\", \"2/18/20\", \"2/19/20\", \"2/20/20\", \"2/21/20\", \"2/22/20\", \"2/23/20\", \"2/24/20\", \"2/25/20\", \"2/26/20\", \"2/27/20\", \"2/28/20\", \"2/29/20\", \"3/1/20\", \"3/2/20\", \"3/3/20\", \"3/4/20\", \"3/5/20\", \"3/6/20\", \"3/7/20\", \"3/8/20\", \"3/9/20\", \"3/10/20\", \"3/11/20\", \"3/12/20\", \"3/13/20\", \"3/14/20\", \"3/15/20\", \"3/16/20\", \"3/17/20\", \"3/18/20\", \"3/19/20\", \"3/20/20\", \"3/21/20\", \"3/22/20\", \"3/23/20\", \"3/24/20\", \"3/25/20\", \"3/26/20\", \"3/27/20\", \"3/28/20\", \"3/29/20\", \"3/30/20\", \"3/31/20\", \"4/1/20\", \"4/2/20\", \"4/3/20\", \"4/4/20\", \"4/5/20\", \"4/6/20\", \"4/7/20\", \"4/8/20\", \"4/9/20\", \"4/10/20\", \"4/11/20\", \"4/12/20\", \"4/13/20\", \"4/14/20\", \"4/15/20\", \"4/16/20\", \"4/17/20\", \"4/18/20\", \"4/19/20\", \"4/20/20\", \"4/21/20\", \"4/22/20\", \"4/23/20\", \"4/24/20\", \"4/25/20\", \"4/26/20\", \"4/27/20\", \"4/28/20\", \"4/29/20\", \"4/30/20\", \"5/1/20\", \"5/2/20\", \"5/3/20\", \"5/4/20\", \"5/5/20\", \"5/6/20\", \"5/7/20\", \"5/8/20\", \"5/9/20\", \"5/10/20\", \"5/11/20\", \"5/12/20\", \"5/13/20\", \"5/14/20\", \"5/15/20\", \"5/16/20\", \"5/17/20\", \"5/18/20\", \"5/19/20\", \"5/20/20\", \"5/21/20\", \"5/22/20\", \"5/23/20\", \"5/24/20\", \"5/25/20\", \"5/26/20\", \"5/27/20\", \"5/28/20\", \"5/29/20\", \"5/30/20\", \"5/31/20\", \"6/1/20\", \"6/2/20\", \"6/3/20\", \"6/4/20\", \"6/5/20\", \"6/6/20\", \"6/7/20\", \"6/8/20\", \"6/9/20\", \"6/10/20\", \"6/11/20\", \"6/12/20\", \"6/13/20\", \"06/14/20\", \"06/15/20\", \"06/16/20\", \"06/17/20\", \"06/18/20\", \"06/19/20\"], \"y\": [3.0, 3.3392013950526227, 3.716754062334829, 4.137178943260188, 4.605100387760665, 5.125640195381238, 5.704753782702885, 6.349230183342579, 7.066692047953293, 7.865595644223992, 8.755230856879647, 9.745721187681218, 10.848023755425668, 12.07518766626683, 13.441822004143319, 14.961532890184742, 16.650738067381774, 18.52877236786714, 20.617887712915618, 22.943253112944046, 25.53295466751131, 28.41799556531836, 31.632296084208193, 35.21269359116586, 39.19894254231847, 43.633714482935204, 48.56568345978332, 54.059350840682555, 60.168720917786004, 66.95680363208375, 74.4989767832016, 82.88298602940111, 92.20894488757955, 102.58933473326991, 114.149004800641, 127.02517218249722, 141.3674218302788, 157.3377065540617, 175.1103470225576, 194.87203176311388, 216.825731779772, 241.2457014741927, 268.3860215757693, 298.52452756359384, 331.98869358487275, 369.15563245492706, 410.45209565719233, 456.3544733432184, 507.38879433267, 564.130726113326, 627.2055748410797, 697.2882853399394, 775.1034411020277, 861.425264287581, 957.0776157249514, 1062.9225786979348, 1180.0273307106634, 1309.6535078433399, 1453.1629873353868, 1612.0177007308712, 1787.7796338785026, 1982.110826931636, 2196.773374348269, 2433.6294248910444, 2694.6411816272475, 2981.8709019288085, 3297.4808974722996, 3643.733534238942, 4022.9912325145947, 4437.241496165758, 4887.005115379772, 5376.358128588451, 5909.344146449996, 6489.349916845897, 7119.1053248809385, 7800.683392883195, 8535.50028040403, 9324.315284218108, 10167.230838323365, 11063.692513941045, 12012.48901951568, 13011.75220071509, 14058.957040430389, 15150.921658775971, 16284.49695652508, 17461.38035324837, 18672.248408148225, 19905.14409153428, 21148.632355959522, 22391.80013622031, 23624.256349356365, 24836.131894650756, 26018.07965362993, 27161.274490063697, 28257.41324996521, 29298.71476159101, 30277.91983544098, 31188.291264258376, 32023.613823029802, 32778.194268985244, 33446.86134159805, 34024.9657625849, 34508.38023590587, 34893.496301683306, 35178.96262012062, 35369.2401654425, 35469.782313609, 35485.95393738392, 35423.03140633476, 35286.20258683274, 35080.56684205282, 34811.13503197368, 34482.82951337771, 34100.48413985102, 33668.844261783466, 33192.56672636861, 32676.21987760375, 32124.283556289884, 31541.149100031747, 30931.119343237806, 30298.408617120233, 29647.14274969493, 28981.359065781522, 28305.00638700336, 27621.945031787516, 26935.946815364776, 26250.695049769667, 25569.78454384042, 24896.001801263435, 24226.745865670575, 23562.38656101112, 22904.176093039605, 22253.268098141798, 21610.71764333468, 20977.481226266453, 20354.41677521655, 19742.28364909561, 19141.74263744551, 18553.355960439338, 17977.5872688814, 17414.80164420724, 16865.2655984836, 16329.14707440846, 15806.515445311017, 15297.34151515169, 14801.49751852212, 14318.757120645163, 13848.795417374902, 13391.18893519664, 12945.41563122691]}, {\"connectgaps\": true, \"line\": {\"color\": \"#862A16\", \"width\": 2}, \"name\": \"Recovered\", \"type\": \"scatter\", \"x\": [\"1/22/20\", \"1/23/20\", \"1/24/20\", \"1/25/20\", \"1/26/20\", \"1/27/20\", \"1/28/20\", \"1/29/20\", \"1/30/20\", \"1/31/20\", \"2/1/20\", \"2/2/20\", \"2/3/20\", \"2/4/20\", \"2/5/20\", \"2/6/20\", \"2/7/20\", \"2/8/20\", \"2/9/20\", \"2/10/20\", \"2/11/20\", \"2/12/20\", \"2/13/20\", \"2/14/20\", \"2/15/20\", \"2/16/20\", \"2/17/20\", \"2/18/20\", \"2/19/20\", \"2/20/20\", \"2/21/20\", \"2/22/20\", \"2/23/20\", \"2/24/20\", \"2/25/20\", \"2/26/20\", \"2/27/20\", \"2/28/20\", \"2/29/20\", \"3/1/20\", \"3/2/20\", \"3/3/20\", \"3/4/20\", \"3/5/20\", \"3/6/20\", \"3/7/20\", \"3/8/20\", \"3/9/20\", \"3/10/20\", \"3/11/20\", \"3/12/20\", \"3/13/20\", \"3/14/20\", \"3/15/20\", \"3/16/20\", \"3/17/20\", \"3/18/20\", \"3/19/20\", \"3/20/20\", \"3/21/20\", \"3/22/20\", \"3/23/20\", \"3/24/20\", \"3/25/20\", \"3/26/20\", \"3/27/20\", \"3/28/20\", \"3/29/20\", \"3/30/20\", \"3/31/20\", \"4/1/20\", \"4/2/20\", \"4/3/20\", \"4/4/20\", \"4/5/20\", \"4/6/20\", \"4/7/20\", \"4/8/20\", \"4/9/20\", \"4/10/20\", \"4/11/20\", \"4/12/20\", \"4/13/20\", \"4/14/20\", \"4/15/20\", \"4/16/20\", \"4/17/20\", \"4/18/20\", \"4/19/20\", \"4/20/20\", \"4/21/20\", \"4/22/20\", \"4/23/20\", \"4/24/20\", \"4/25/20\", \"4/26/20\", \"4/27/20\", \"4/28/20\", \"4/29/20\", \"4/30/20\", \"5/1/20\", \"5/2/20\", \"5/3/20\", \"5/4/20\", \"5/5/20\", \"5/6/20\", \"5/7/20\", \"5/8/20\", \"5/9/20\", \"5/10/20\", \"5/11/20\", \"5/12/20\", \"5/13/20\", \"5/14/20\", \"5/15/20\", \"5/16/20\", \"5/17/20\", \"5/18/20\", \"5/19/20\", \"5/20/20\", \"5/21/20\", \"5/22/20\", \"5/23/20\", \"5/24/20\", \"5/25/20\", \"5/26/20\", \"5/27/20\", \"5/28/20\", \"5/29/20\", \"5/30/20\", \"5/31/20\", \"6/1/20\", \"6/2/20\", \"6/3/20\", \"6/4/20\", \"6/5/20\", \"6/6/20\", \"6/7/20\", \"6/8/20\", \"6/9/20\", \"6/10/20\", \"6/11/20\", \"6/12/20\", \"6/13/20\", \"06/14/20\", \"06/15/20\", \"06/16/20\", \"06/17/20\", \"06/18/20\", \"06/19/20\"], \"y\": [10.0, 10.136345920969532, 10.288108650554298, 10.457106105216884, 10.645197409941805, 10.85444159736327, 11.087233154929995, 11.346302024905219, 11.63471360436669, 11.955868745206674, 12.313503754131954, 12.711690392663826, 13.1548358771381, 13.648193940709277, 14.197645866509308, 14.80865745016542, 15.487829294476178, 16.24293966811109, 17.08294450561061, 18.017977407386127, 19.059349639719972, 20.219550134765427, 21.51224549054671, 22.952279970958976, 24.55567550576834, 26.33963169061184, 28.323819537081892, 30.534444684315176, 32.99314211932923, 35.72520260633161, 38.76098715129313, 42.135927001947934, 45.89052364779346, 50.07034882009037, 54.72604449186273, 59.91332287789779, 65.69296643474614, 72.13082786072167, 79.29783009590156, 87.26996632212622, 96.13025719768171, 105.99509555387658, 116.96625613367814, 129.15426241042977, 142.6916047649188, 157.73274048537655, 174.45409376747835, 193.05405571434338, 213.752984336535, 236.79320455206044, 262.4390081863708, 290.9766539723614, 322.71436755037143, 357.98234146818385, 397.132735181026, 440.59523309762943, 488.8532939354043, 542.3910280613418, 601.7675297730121, 667.6171080558522, 740.6492865831653, 821.6488037161217, 911.4756125037582, 1011.0648806829774, 1121.4269906785503, 1243.6475396031128, 1378.8873392571677, 1528.382416129086, 1693.4440113951034, 1875.3972943831025, 2075.526044929852, 2295.790752213812, 2538.2589424068556, 2805.015567053827, 3098.1630030725446, 3419.8210527537985, 3772.126943761353, 4157.235329131944, 4577.3182872752795, 5034.565321974043, 5531.18336238389, 6069.396763033446, 6651.447303824315, 7279.594190031065, 7956.09017718836, 8682.681917294842, 9460.638610930651, 10290.903136741854, 11174.050372726982, 12110.28719623704, 13099.452483975496, 14141.017111998297, 15234.083955713846, 16377.38788988303, 17569.29578861919, 18807.806525388143, 20090.55097300818, 21414.79200365005, 22777.424488836976, 24174.975299444654, 25603.603305701246, 27059.099377187376, 28536.88638283615, 30032.04881611565, 31540.97109569004, 33060.167998265235, 34585.726316732675, 36113.93588376546, 37641.28957181834, 39164.48329312776, 40680.41599971178, 42186.18968337014, 43679.10937568422, 45156.68314801707, 46616.62211151341, 48056.84041709959, 49475.45525548364, 50870.786857155246, 52241.35849238574, 53585.89647122811, 54903.330143517014, 56192.79189886876, 57453.61716668134, 58685.34441613435, 59887.71515618909, 61060.67393558849, 62204.36834285717, 63319.14900630138, 64405.354788065044, 65462.03627063794, 66489.412682119, 67488.01124356044, 68458.3563146655, 69400.96939378846, 70316.36911793462, 71205.07126276034, 72067.58874257297, 72904.43161033098, 73716.10705764378, 74503.11941477188, 75265.97015062679, 76005.15787277106, 76721.17832741831, 77414.52439943315, 78085.68611233127, 78735.15062827933, 79363.40224809508, 79970.9224112473, 80558.1896958558, 81125.6798186914]}],\n",
              "                        {\"annotations\": [{\"font\": {\"color\": \"rgb(37,37,37)\", \"family\": \"Arial\", \"size\": 16}, \"showarrow\": false, \"text\": \"SIR Model --  Covid-19 Transmission -- Prediction -- INDIA\", \"x\": 0.0, \"xanchor\": \"left\", \"xref\": \"paper\", \"y\": 1.05, \"yanchor\": \"bottom\", \"yref\": \"paper\"}], \"autosize\": true, \"margin\": {\"autoexpand\": true, \"l\": 100, \"r\": 20, \"t\": 110}, \"showlegend\": true, \"template\": {\"data\": {\"bar\": [{\"error_x\": {\"color\": \"#2a3f5f\"}, \"error_y\": {\"color\": \"#2a3f5f\"}, \"marker\": {\"line\": {\"color\": \"#E5ECF6\", \"width\": 0.5}}, \"type\": \"bar\"}], \"barpolar\": [{\"marker\": {\"line\": {\"color\": \"#E5ECF6\", \"width\": 0.5}}, \"type\": \"barpolar\"}], \"carpet\": [{\"aaxis\": {\"endlinecolor\": \"#2a3f5f\", \"gridcolor\": \"white\", \"linecolor\": \"white\", \"minorgridcolor\": \"white\", \"startlinecolor\": \"#2a3f5f\"}, \"baxis\": {\"endlinecolor\": \"#2a3f5f\", \"gridcolor\": \"white\", \"linecolor\": \"white\", \"minorgridcolor\": \"white\", \"startlinecolor\": \"#2a3f5f\"}, \"type\": \"carpet\"}], \"choropleth\": [{\"colorbar\": {\"outlinewidth\": 0, \"ticks\": \"\"}, \"type\": \"choropleth\"}], \"contour\": [{\"colorbar\": {\"outlinewidth\": 0, \"ticks\": \"\"}, \"colorscale\": [[0.0, \"#0d0887\"], [0.1111111111111111, \"#46039f\"], [0.2222222222222222, \"#7201a8\"], [0.3333333333333333, \"#9c179e\"], [0.4444444444444444, \"#bd3786\"], [0.5555555555555556, \"#d8576b\"], [0.6666666666666666, \"#ed7953\"], [0.7777777777777778, \"#fb9f3a\"], [0.8888888888888888, \"#fdca26\"], [1.0, \"#f0f921\"]], \"type\": \"contour\"}], \"contourcarpet\": [{\"colorbar\": {\"outlinewidth\": 0, \"ticks\": \"\"}, \"type\": \"contourcarpet\"}], \"heatmap\": [{\"colorbar\": {\"outlinewidth\": 0, \"ticks\": \"\"}, \"colorscale\": [[0.0, \"#0d0887\"], [0.1111111111111111, \"#46039f\"], [0.2222222222222222, \"#7201a8\"], [0.3333333333333333, \"#9c179e\"], [0.4444444444444444, \"#bd3786\"], [0.5555555555555556, \"#d8576b\"], [0.6666666666666666, \"#ed7953\"], [0.7777777777777778, \"#fb9f3a\"], [0.8888888888888888, \"#fdca26\"], [1.0, \"#f0f921\"]], \"type\": \"heatmap\"}], \"heatmapgl\": [{\"colorbar\": {\"outlinewidth\": 0, \"ticks\": \"\"}, \"colorscale\": [[0.0, \"#0d0887\"], [0.1111111111111111, \"#46039f\"], [0.2222222222222222, \"#7201a8\"], [0.3333333333333333, \"#9c179e\"], [0.4444444444444444, \"#bd3786\"], [0.5555555555555556, \"#d8576b\"], [0.6666666666666666, \"#ed7953\"], [0.7777777777777778, \"#fb9f3a\"], [0.8888888888888888, \"#fdca26\"], [1.0, \"#f0f921\"]], \"type\": \"heatmapgl\"}], \"histogram\": [{\"marker\": {\"colorbar\": {\"outlinewidth\": 0, \"ticks\": \"\"}}, \"type\": \"histogram\"}], \"histogram2d\": [{\"colorbar\": {\"outlinewidth\": 0, \"ticks\": \"\"}, \"colorscale\": [[0.0, \"#0d0887\"], [0.1111111111111111, \"#46039f\"], [0.2222222222222222, \"#7201a8\"], [0.3333333333333333, \"#9c179e\"], [0.4444444444444444, \"#bd3786\"], [0.5555555555555556, \"#d8576b\"], [0.6666666666666666, \"#ed7953\"], [0.7777777777777778, \"#fb9f3a\"], [0.8888888888888888, \"#fdca26\"], [1.0, \"#f0f921\"]], \"type\": \"histogram2d\"}], \"histogram2dcontour\": [{\"colorbar\": {\"outlinewidth\": 0, \"ticks\": \"\"}, \"colorscale\": [[0.0, \"#0d0887\"], [0.1111111111111111, \"#46039f\"], [0.2222222222222222, \"#7201a8\"], [0.3333333333333333, \"#9c179e\"], [0.4444444444444444, \"#bd3786\"], [0.5555555555555556, \"#d8576b\"], [0.6666666666666666, \"#ed7953\"], [0.7777777777777778, \"#fb9f3a\"], [0.8888888888888888, \"#fdca26\"], [1.0, \"#f0f921\"]], \"type\": \"histogram2dcontour\"}], \"mesh3d\": [{\"colorbar\": {\"outlinewidth\": 0, \"ticks\": \"\"}, \"type\": \"mesh3d\"}], \"parcoords\": [{\"line\": {\"colorbar\": {\"outlinewidth\": 0, \"ticks\": \"\"}}, \"type\": \"parcoords\"}], \"pie\": [{\"automargin\": true, \"type\": \"pie\"}], \"scatter\": [{\"marker\": {\"colorbar\": {\"outlinewidth\": 0, \"ticks\": \"\"}}, \"type\": \"scatter\"}], \"scatter3d\": [{\"line\": {\"colorbar\": {\"outlinewidth\": 0, \"ticks\": \"\"}}, \"marker\": {\"colorbar\": {\"outlinewidth\": 0, \"ticks\": \"\"}}, \"type\": \"scatter3d\"}], \"scattercarpet\": [{\"marker\": {\"colorbar\": {\"outlinewidth\": 0, \"ticks\": \"\"}}, \"type\": \"scattercarpet\"}], \"scattergeo\": [{\"marker\": {\"colorbar\": {\"outlinewidth\": 0, \"ticks\": \"\"}}, \"type\": \"scattergeo\"}], \"scattergl\": [{\"marker\": {\"colorbar\": {\"outlinewidth\": 0, \"ticks\": \"\"}}, \"type\": \"scattergl\"}], \"scattermapbox\": [{\"marker\": {\"colorbar\": {\"outlinewidth\": 0, \"ticks\": \"\"}}, \"type\": \"scattermapbox\"}], \"scatterpolar\": [{\"marker\": {\"colorbar\": {\"outlinewidth\": 0, \"ticks\": \"\"}}, \"type\": \"scatterpolar\"}], \"scatterpolargl\": [{\"marker\": {\"colorbar\": {\"outlinewidth\": 0, \"ticks\": \"\"}}, \"type\": \"scatterpolargl\"}], \"scatterternary\": [{\"marker\": {\"colorbar\": {\"outlinewidth\": 0, \"ticks\": \"\"}}, \"type\": \"scatterternary\"}], \"surface\": [{\"colorbar\": {\"outlinewidth\": 0, \"ticks\": \"\"}, \"colorscale\": [[0.0, \"#0d0887\"], [0.1111111111111111, \"#46039f\"], [0.2222222222222222, \"#7201a8\"], [0.3333333333333333, \"#9c179e\"], [0.4444444444444444, \"#bd3786\"], [0.5555555555555556, \"#d8576b\"], [0.6666666666666666, \"#ed7953\"], [0.7777777777777778, \"#fb9f3a\"], [0.8888888888888888, \"#fdca26\"], [1.0, \"#f0f921\"]], \"type\": \"surface\"}], \"table\": [{\"cells\": {\"fill\": {\"color\": \"#EBF0F8\"}, \"line\": {\"color\": \"white\"}}, \"header\": {\"fill\": {\"color\": \"#C8D4E3\"}, \"line\": {\"color\": \"white\"}}, \"type\": \"table\"}]}, \"layout\": {\"annotationdefaults\": {\"arrowcolor\": \"#2a3f5f\", \"arrowhead\": 0, \"arrowwidth\": 1}, \"coloraxis\": {\"colorbar\": {\"outlinewidth\": 0, \"ticks\": \"\"}}, \"colorscale\": {\"diverging\": [[0, \"#8e0152\"], [0.1, \"#c51b7d\"], [0.2, \"#de77ae\"], [0.3, \"#f1b6da\"], [0.4, \"#fde0ef\"], [0.5, \"#f7f7f7\"], [0.6, \"#e6f5d0\"], [0.7, \"#b8e186\"], [0.8, \"#7fbc41\"], [0.9, \"#4d9221\"], [1, \"#276419\"]], \"sequential\": [[0.0, \"#0d0887\"], [0.1111111111111111, \"#46039f\"], [0.2222222222222222, \"#7201a8\"], [0.3333333333333333, \"#9c179e\"], [0.4444444444444444, \"#bd3786\"], [0.5555555555555556, \"#d8576b\"], [0.6666666666666666, \"#ed7953\"], [0.7777777777777778, \"#fb9f3a\"], [0.8888888888888888, \"#fdca26\"], [1.0, \"#f0f921\"]], \"sequentialminus\": [[0.0, \"#0d0887\"], [0.1111111111111111, \"#46039f\"], [0.2222222222222222, \"#7201a8\"], [0.3333333333333333, \"#9c179e\"], [0.4444444444444444, \"#bd3786\"], [0.5555555555555556, \"#d8576b\"], [0.6666666666666666, \"#ed7953\"], [0.7777777777777778, \"#fb9f3a\"], [0.8888888888888888, \"#fdca26\"], [1.0, \"#f0f921\"]]}, \"colorway\": [\"#636efa\", \"#EF553B\", \"#00cc96\", \"#ab63fa\", \"#FFA15A\", \"#19d3f3\", \"#FF6692\", \"#B6E880\", \"#FF97FF\", \"#FECB52\"], \"font\": {\"color\": \"#2a3f5f\"}, \"geo\": {\"bgcolor\": \"white\", \"lakecolor\": \"white\", \"landcolor\": \"#E5ECF6\", \"showlakes\": true, \"showland\": true, \"subunitcolor\": \"white\"}, \"hoverlabel\": {\"align\": \"left\"}, \"hovermode\": \"closest\", \"mapbox\": {\"style\": \"light\"}, \"paper_bgcolor\": \"white\", \"plot_bgcolor\": \"#E5ECF6\", \"polar\": {\"angularaxis\": {\"gridcolor\": \"white\", \"linecolor\": \"white\", \"ticks\": \"\"}, \"bgcolor\": \"#E5ECF6\", \"radialaxis\": {\"gridcolor\": \"white\", \"linecolor\": \"white\", \"ticks\": \"\"}}, \"scene\": {\"xaxis\": {\"backgroundcolor\": \"#E5ECF6\", \"gridcolor\": \"white\", \"gridwidth\": 2, \"linecolor\": \"white\", \"showbackground\": true, \"ticks\": \"\", \"zerolinecolor\": \"white\"}, \"yaxis\": {\"backgroundcolor\": \"#E5ECF6\", \"gridcolor\": \"white\", \"gridwidth\": 2, \"linecolor\": \"white\", \"showbackground\": true, \"ticks\": \"\", \"zerolinecolor\": \"white\"}, \"zaxis\": {\"backgroundcolor\": \"#E5ECF6\", \"gridcolor\": \"white\", \"gridwidth\": 2, \"linecolor\": \"white\", \"showbackground\": true, \"ticks\": \"\", \"zerolinecolor\": \"white\"}}, \"shapedefaults\": {\"line\": {\"color\": \"#2a3f5f\"}}, \"ternary\": {\"aaxis\": {\"gridcolor\": \"white\", \"linecolor\": \"white\", \"ticks\": \"\"}, \"baxis\": {\"gridcolor\": \"white\", \"linecolor\": \"white\", \"ticks\": \"\"}, \"bgcolor\": \"#E5ECF6\", \"caxis\": {\"gridcolor\": \"white\", \"linecolor\": \"white\", \"ticks\": \"\"}}, \"title\": {\"x\": 0.05}, \"xaxis\": {\"automargin\": true, \"gridcolor\": \"white\", \"linecolor\": \"white\", \"ticks\": \"\", \"title\": {\"standoff\": 15}, \"zerolinecolor\": \"white\", \"zerolinewidth\": 2}, \"yaxis\": {\"automargin\": true, \"gridcolor\": \"white\", \"linecolor\": \"white\", \"ticks\": \"\", \"title\": {\"standoff\": 15}, \"zerolinecolor\": \"white\", \"zerolinewidth\": 2}}}, \"xaxis\": {\"linecolor\": \"rgb(204, 204, 204)\", \"linewidth\": 2, \"showgrid\": true, \"showline\": true, \"showticklabels\": true, \"tickangle\": -80, \"tickfont\": {\"color\": \"rgb(82, 82, 82)\", \"family\": \"Arial\", \"size\": 12}, \"ticks\": \"outside\", \"title\": {\"text\": \"Date\"}}, \"yaxis\": {\"linecolor\": \"rgb(204, 204, 204)\", \"linewidth\": 2, \"showgrid\": true, \"showline\": true, \"showticklabels\": true, \"title\": {\"text\": \"Case Count\"}}},\n",
              "                        {\"responsive\": true}\n",
              "                    ).then(function(){\n",
              "                            \n",
              "var gd = document.getElementById('028ea878-e7c9-4d9f-a127-04a6f6f0a687');\n",
              "var x = new MutationObserver(function (mutations, observer) {{\n",
              "        var display = window.getComputedStyle(gd).display;\n",
              "        if (!display || display === 'none') {{\n",
              "            console.log([gd, 'removed!']);\n",
              "            Plotly.purge(gd);\n",
              "            observer.disconnect();\n",
              "        }}\n",
              "}});\n",
              "\n",
              "// Listen for the removal of the full notebook cells\n",
              "var notebookContainer = gd.closest('#notebook-container');\n",
              "if (notebookContainer) {{\n",
              "    x.observe(notebookContainer, {childList: true});\n",
              "}}\n",
              "\n",
              "// Listen for the clearing of the current output cell\n",
              "var outputEl = gd.closest('.output');\n",
              "if (outputEl) {{\n",
              "    x.observe(outputEl, {childList: true});\n",
              "}}\n",
              "\n",
              "                        })\n",
              "                };\n",
              "                \n",
              "            </script>\n",
              "        </div>\n",
              "</body>\n",
              "</html>"
            ]
          },
          "metadata": {
            "tags": []
          }
        }
      ]
    },
    {
      "cell_type": "code",
      "metadata": {
        "id": "uc1t4KTlpXiM",
        "colab_type": "code",
        "colab": {
          "base_uri": "https://localhost:8080/",
          "height": 542
        },
        "outputId": "a37b2f9c-1ddb-4075-f5cf-592e18eceb44"
      },
      "source": [
        "fig_8 = plot_sir_prediction(\n",
        "    title=\"SIR Model --  Covid-19 Transmission -- Prediction -- INDIA\", \n",
        "    df_sir= india_sir,\n",
        "    remove_series=['Susceptible'])\n",
        "\n",
        "fig_8.show()"
      ],
      "execution_count": 76,
      "outputs": [
        {
          "output_type": "display_data",
          "data": {
            "text/html": [
              "<html>\n",
              "<head><meta charset=\"utf-8\" /></head>\n",
              "<body>\n",
              "    <div>\n",
              "            <script src=\"https://cdnjs.cloudflare.com/ajax/libs/mathjax/2.7.5/MathJax.js?config=TeX-AMS-MML_SVG\"></script><script type=\"text/javascript\">if (window.MathJax) {MathJax.Hub.Config({SVG: {font: \"STIX-Web\"}});}</script>\n",
              "                <script type=\"text/javascript\">window.PlotlyConfig = {MathJaxConfig: 'local'};</script>\n",
              "        <script src=\"https://cdn.plot.ly/plotly-latest.min.js\"></script>    \n",
              "            <div id=\"c91f8544-2a37-489e-9baa-97f8e5c077cc\" class=\"plotly-graph-div\" style=\"height:525px; width:100%;\"></div>\n",
              "            <script type=\"text/javascript\">\n",
              "                \n",
              "                    window.PLOTLYENV=window.PLOTLYENV || {};\n",
              "                    \n",
              "                if (document.getElementById(\"c91f8544-2a37-489e-9baa-97f8e5c077cc\")) {\n",
              "                    Plotly.newPlot(\n",
              "                        'c91f8544-2a37-489e-9baa-97f8e5c077cc',\n",
              "                        [{\"connectgaps\": true, \"line\": {\"color\": \"#2E91E5\", \"width\": 2}, \"name\": \"Infected data\", \"type\": \"scatter\", \"x\": [\"1/22/20\", \"1/23/20\", \"1/24/20\", \"1/25/20\", \"1/26/20\", \"1/27/20\", \"1/28/20\", \"1/29/20\", \"1/30/20\", \"1/31/20\", \"2/1/20\", \"2/2/20\", \"2/3/20\", \"2/4/20\", \"2/5/20\", \"2/6/20\", \"2/7/20\", \"2/8/20\", \"2/9/20\", \"2/10/20\", \"2/11/20\", \"2/12/20\", \"2/13/20\", \"2/14/20\", \"2/15/20\", \"2/16/20\", \"2/17/20\", \"2/18/20\", \"2/19/20\", \"2/20/20\", \"2/21/20\", \"2/22/20\", \"2/23/20\", \"2/24/20\", \"2/25/20\", \"2/26/20\", \"2/27/20\", \"2/28/20\", \"2/29/20\", \"3/1/20\", \"3/2/20\", \"3/3/20\", \"3/4/20\", \"3/5/20\", \"3/6/20\", \"3/7/20\", \"3/8/20\", \"3/9/20\", \"3/10/20\", \"3/11/20\", \"3/12/20\", \"3/13/20\", \"3/14/20\", \"3/15/20\", \"3/16/20\", \"3/17/20\", \"3/18/20\", \"3/19/20\", \"3/20/20\", \"3/21/20\", \"3/22/20\", \"3/23/20\", \"3/24/20\", \"3/25/20\", \"3/26/20\", \"3/27/20\", \"3/28/20\", \"3/29/20\", \"3/30/20\", \"3/31/20\", \"4/1/20\", \"4/2/20\", \"4/3/20\", \"4/4/20\", \"4/5/20\", \"4/6/20\", \"4/7/20\", \"4/8/20\", \"4/9/20\", \"4/10/20\", \"4/11/20\", \"4/12/20\", \"4/13/20\", \"4/14/20\", \"4/15/20\", \"4/16/20\", \"4/17/20\", \"4/18/20\", \"4/19/20\", \"4/20/20\", \"4/21/20\", \"4/22/20\", \"4/23/20\", \"4/24/20\", \"4/25/20\", \"4/26/20\", \"4/27/20\", \"4/28/20\", \"4/29/20\", \"4/30/20\", \"5/1/20\", \"5/2/20\", \"5/3/20\", \"5/4/20\", \"5/5/20\", \"5/6/20\", \"5/7/20\", \"5/8/20\", \"5/9/20\", \"5/10/20\", \"5/11/20\", \"5/12/20\", \"5/13/20\", \"5/14/20\", \"5/15/20\", \"5/16/20\", \"5/17/20\", \"5/18/20\", \"5/19/20\", \"5/20/20\", \"5/21/20\", \"5/22/20\", \"5/23/20\", \"5/24/20\", \"5/25/20\", \"5/26/20\", \"5/27/20\", \"5/28/20\", \"5/29/20\", \"5/30/20\", \"5/31/20\", \"6/1/20\", \"6/2/20\", \"6/3/20\", \"6/4/20\", \"6/5/20\", \"6/6/20\", \"6/7/20\", \"6/8/20\", \"6/9/20\", \"6/10/20\", \"6/11/20\", \"6/12/20\", \"6/13/20\", \"06/14/20\", \"06/15/20\", \"06/16/20\", \"06/17/20\", \"06/18/20\", \"06/19/20\"], \"y\": [0, 0, 0, 0, 0, 0, 0, 0, 1, 1, 1, 2, 3, 3, 3, 3, 3, 3, 3, 3, 3, 3, 3, 3, 3, 0, 0, 0, 0, 0, 0, 0, 0, 0, 0, 0, 0, 0, 0, 0, 2, 2, 25, 27, 28, 31, 36, 40, 52, 57, 68, 76, 96, 98, 104, 125, 139, 175, 219, 303, 362, 462, 486, 602, 662, 794, 879, 902, 1117, 1239, 1792, 2280, 2303, 2767, 3260, 4267, 4740, 5232, 5879, 6578, 7189, 7794, 8914, 9735, 10485, 11214, 11825, 12738, 14202, 14674, 15460, 16319, 17344, 18252, 19519, 20486, 21375, 22569, 23546, 24641, 26027, 27557, 29339, 32024, 33565, 35871, 37686, 39823, 41406, 43980, 45925, 47457, 49104, 51379, 52773, 53553, 55878, 57939, 60864, 63172, 66089, 69244, 73170, 76820, 80072, 82172, 85803, 89755, 85884, 89706, 93349, 97008, 101077, 106665, 111900, 116302, 120981, 126431, 129360, 133726, 142901, 141842, 141842, 145779, null, null, null, null, null, null]}, {\"connectgaps\": true, \"line\": {\"color\": \"#EB663B\", \"width\": 2}, \"name\": \"Recovered data\", \"type\": \"scatter\", \"x\": [\"1/22/20\", \"1/23/20\", \"1/24/20\", \"1/25/20\", \"1/26/20\", \"1/27/20\", \"1/28/20\", \"1/29/20\", \"1/30/20\", \"1/31/20\", \"2/1/20\", \"2/2/20\", \"2/3/20\", \"2/4/20\", \"2/5/20\", \"2/6/20\", \"2/7/20\", \"2/8/20\", \"2/9/20\", \"2/10/20\", \"2/11/20\", \"2/12/20\", \"2/13/20\", \"2/14/20\", \"2/15/20\", \"2/16/20\", \"2/17/20\", \"2/18/20\", \"2/19/20\", \"2/20/20\", \"2/21/20\", \"2/22/20\", \"2/23/20\", \"2/24/20\", \"2/25/20\", \"2/26/20\", \"2/27/20\", \"2/28/20\", \"2/29/20\", \"3/1/20\", \"3/2/20\", \"3/3/20\", \"3/4/20\", \"3/5/20\", \"3/6/20\", \"3/7/20\", \"3/8/20\", \"3/9/20\", \"3/10/20\", \"3/11/20\", \"3/12/20\", \"3/13/20\", \"3/14/20\", \"3/15/20\", \"3/16/20\", \"3/17/20\", \"3/18/20\", \"3/19/20\", \"3/20/20\", \"3/21/20\", \"3/22/20\", \"3/23/20\", \"3/24/20\", \"3/25/20\", \"3/26/20\", \"3/27/20\", \"3/28/20\", \"3/29/20\", \"3/30/20\", \"3/31/20\", \"4/1/20\", \"4/2/20\", \"4/3/20\", \"4/4/20\", \"4/5/20\", \"4/6/20\", \"4/7/20\", \"4/8/20\", \"4/9/20\", \"4/10/20\", \"4/11/20\", \"4/12/20\", \"4/13/20\", \"4/14/20\", \"4/15/20\", \"4/16/20\", \"4/17/20\", \"4/18/20\", \"4/19/20\", \"4/20/20\", \"4/21/20\", \"4/22/20\", \"4/23/20\", \"4/24/20\", \"4/25/20\", \"4/26/20\", \"4/27/20\", \"4/28/20\", \"4/29/20\", \"4/30/20\", \"5/1/20\", \"5/2/20\", \"5/3/20\", \"5/4/20\", \"5/5/20\", \"5/6/20\", \"5/7/20\", \"5/8/20\", \"5/9/20\", \"5/10/20\", \"5/11/20\", \"5/12/20\", \"5/13/20\", \"5/14/20\", \"5/15/20\", \"5/16/20\", \"5/17/20\", \"5/18/20\", \"5/19/20\", \"5/20/20\", \"5/21/20\", \"5/22/20\", \"5/23/20\", \"5/24/20\", \"5/25/20\", \"5/26/20\", \"5/27/20\", \"5/28/20\", \"5/29/20\", \"5/30/20\", \"5/31/20\", \"6/1/20\", \"6/2/20\", \"6/3/20\", \"6/4/20\", \"6/5/20\", \"6/6/20\", \"6/7/20\", \"6/8/20\", \"6/9/20\", \"6/10/20\", \"6/11/20\", \"6/12/20\", \"6/13/20\", \"06/14/20\", \"06/15/20\", \"06/16/20\", \"06/17/20\", \"06/18/20\", \"06/19/20\"], \"y\": [0, 0, 0, 0, 0, 0, 0, 0, 0, 0, 0, 0, 0, 0, 0, 0, 0, 0, 0, 0, 0, 0, 0, 0, 0, 3, 3, 3, 3, 3, 3, 3, 3, 3, 3, 3, 3, 3, 3, 3, 3, 3, 3, 3, 3, 3, 3, 3, 4, 4, 4, 4, 4, 13, 13, 14, 14, 15, 20, 23, 27, 27, 40, 43, 45, 73, 84, 95, 102, 123, 148, 191, 192, 229, 229, 375, 421, 506, 620, 774, 969, 1080, 1181, 1359, 1432, 1768, 2041, 2463, 2854, 3273, 3975, 4370, 5012, 5498, 5939, 6523, 7137, 7747, 8437, 9068, 10007, 10819, 11775, 12847, 14142, 15331, 16776, 17887, 19301, 20969, 22549, 24420, 26400, 27969, 30258, 34224, 36795, 39233, 42309, 45422, 48553, 51824, 54385, 57692, 60706, 64277, 67749, 70920, 82627, 86936, 91852, 95754, 100285, 104071, 108450, 113233, 118695, 123848, 129095, 134670, 135206, 147195, 147195, 154330, null, null, null, null, null, null]}, {\"connectgaps\": true, \"line\": {\"color\": \"#1CA71C\", \"width\": 2}, \"name\": \"Death data\", \"type\": \"scatter\", \"x\": [\"1/22/20\", \"1/23/20\", \"1/24/20\", \"1/25/20\", \"1/26/20\", \"1/27/20\", \"1/28/20\", \"1/29/20\", \"1/30/20\", \"1/31/20\", \"2/1/20\", \"2/2/20\", \"2/3/20\", \"2/4/20\", \"2/5/20\", \"2/6/20\", \"2/7/20\", \"2/8/20\", \"2/9/20\", \"2/10/20\", \"2/11/20\", \"2/12/20\", \"2/13/20\", \"2/14/20\", \"2/15/20\", \"2/16/20\", \"2/17/20\", \"2/18/20\", \"2/19/20\", \"2/20/20\", \"2/21/20\", \"2/22/20\", \"2/23/20\", \"2/24/20\", \"2/25/20\", \"2/26/20\", \"2/27/20\", \"2/28/20\", \"2/29/20\", \"3/1/20\", \"3/2/20\", \"3/3/20\", \"3/4/20\", \"3/5/20\", \"3/6/20\", \"3/7/20\", \"3/8/20\", \"3/9/20\", \"3/10/20\", \"3/11/20\", \"3/12/20\", \"3/13/20\", \"3/14/20\", \"3/15/20\", \"3/16/20\", \"3/17/20\", \"3/18/20\", \"3/19/20\", \"3/20/20\", \"3/21/20\", \"3/22/20\", \"3/23/20\", \"3/24/20\", \"3/25/20\", \"3/26/20\", \"3/27/20\", \"3/28/20\", \"3/29/20\", \"3/30/20\", \"3/31/20\", \"4/1/20\", \"4/2/20\", \"4/3/20\", \"4/4/20\", \"4/5/20\", \"4/6/20\", \"4/7/20\", \"4/8/20\", \"4/9/20\", \"4/10/20\", \"4/11/20\", \"4/12/20\", \"4/13/20\", \"4/14/20\", \"4/15/20\", \"4/16/20\", \"4/17/20\", \"4/18/20\", \"4/19/20\", \"4/20/20\", \"4/21/20\", \"4/22/20\", \"4/23/20\", \"4/24/20\", \"4/25/20\", \"4/26/20\", \"4/27/20\", \"4/28/20\", \"4/29/20\", \"4/30/20\", \"5/1/20\", \"5/2/20\", \"5/3/20\", \"5/4/20\", \"5/5/20\", \"5/6/20\", \"5/7/20\", \"5/8/20\", \"5/9/20\", \"5/10/20\", \"5/11/20\", \"5/12/20\", \"5/13/20\", \"5/14/20\", \"5/15/20\", \"5/16/20\", \"5/17/20\", \"5/18/20\", \"5/19/20\", \"5/20/20\", \"5/21/20\", \"5/22/20\", \"5/23/20\", \"5/24/20\", \"5/25/20\", \"5/26/20\", \"5/27/20\", \"5/28/20\", \"5/29/20\", \"5/30/20\", \"5/31/20\", \"6/1/20\", \"6/2/20\", \"6/3/20\", \"6/4/20\", \"6/5/20\", \"6/6/20\", \"6/7/20\", \"6/8/20\", \"6/9/20\", \"6/10/20\", \"6/11/20\", \"6/12/20\", \"6/13/20\", \"06/14/20\", \"06/15/20\", \"06/16/20\", \"06/17/20\", \"06/18/20\", \"06/19/20\"], \"y\": [0, 0, 0, 0, 0, 0, 0, 0, 0, 0, 0, 0, 0, 0, 0, 0, 0, 0, 0, 0, 0, 0, 0, 0, 0, 0, 0, 0, 0, 0, 0, 0, 0, 0, 0, 0, 0, 0, 0, 0, 0, 0, 0, 0, 0, 0, 0, 0, 0, 1, 1, 2, 2, 2, 2, 3, 3, 4, 5, 4, 7, 10, 10, 12, 20, 20, 24, 27, 32, 35, 58, 72, 72, 86, 99, 136, 150, 178, 226, 246, 288, 331, 358, 393, 405, 448, 486, 521, 559, 592, 645, 681, 721, 780, 825, 881, 939, 1008, 1079, 1154, 1223, 1323, 1391, 1566, 1693, 1785, 1889, 1985, 2101, 2212, 2294, 2415, 2551, 2649, 2753, 2871, 3025, 3156, 3302, 3434, 3584, 3726, 3868, 4024, 4172, 4344, 4534, 4711, 4980, 5185, 5408, 5608, 5829, 6088, 6363, 6649, 6946, 7207, 7473, 7750, 8498, 8498, 8498, 8884, null, null, null, null, null, null]}, {\"connectgaps\": true, \"line\": {\"color\": \"#750D86\", \"width\": 2}, \"name\": \"Infected\", \"type\": \"scatter\", \"x\": [\"1/22/20\", \"1/23/20\", \"1/24/20\", \"1/25/20\", \"1/26/20\", \"1/27/20\", \"1/28/20\", \"1/29/20\", \"1/30/20\", \"1/31/20\", \"2/1/20\", \"2/2/20\", \"2/3/20\", \"2/4/20\", \"2/5/20\", \"2/6/20\", \"2/7/20\", \"2/8/20\", \"2/9/20\", \"2/10/20\", \"2/11/20\", \"2/12/20\", \"2/13/20\", \"2/14/20\", \"2/15/20\", \"2/16/20\", \"2/17/20\", \"2/18/20\", \"2/19/20\", \"2/20/20\", \"2/21/20\", \"2/22/20\", \"2/23/20\", \"2/24/20\", \"2/25/20\", \"2/26/20\", \"2/27/20\", \"2/28/20\", \"2/29/20\", \"3/1/20\", \"3/2/20\", \"3/3/20\", \"3/4/20\", \"3/5/20\", \"3/6/20\", \"3/7/20\", \"3/8/20\", \"3/9/20\", \"3/10/20\", \"3/11/20\", \"3/12/20\", \"3/13/20\", \"3/14/20\", \"3/15/20\", \"3/16/20\", \"3/17/20\", \"3/18/20\", \"3/19/20\", \"3/20/20\", \"3/21/20\", \"3/22/20\", \"3/23/20\", \"3/24/20\", \"3/25/20\", \"3/26/20\", \"3/27/20\", \"3/28/20\", \"3/29/20\", \"3/30/20\", \"3/31/20\", \"4/1/20\", \"4/2/20\", \"4/3/20\", \"4/4/20\", \"4/5/20\", \"4/6/20\", \"4/7/20\", \"4/8/20\", \"4/9/20\", \"4/10/20\", \"4/11/20\", \"4/12/20\", \"4/13/20\", \"4/14/20\", \"4/15/20\", \"4/16/20\", \"4/17/20\", \"4/18/20\", \"4/19/20\", \"4/20/20\", \"4/21/20\", \"4/22/20\", \"4/23/20\", \"4/24/20\", \"4/25/20\", \"4/26/20\", \"4/27/20\", \"4/28/20\", \"4/29/20\", \"4/30/20\", \"5/1/20\", \"5/2/20\", \"5/3/20\", \"5/4/20\", \"5/5/20\", \"5/6/20\", \"5/7/20\", \"5/8/20\", \"5/9/20\", \"5/10/20\", \"5/11/20\", \"5/12/20\", \"5/13/20\", \"5/14/20\", \"5/15/20\", \"5/16/20\", \"5/17/20\", \"5/18/20\", \"5/19/20\", \"5/20/20\", \"5/21/20\", \"5/22/20\", \"5/23/20\", \"5/24/20\", \"5/25/20\", \"5/26/20\", \"5/27/20\", \"5/28/20\", \"5/29/20\", \"5/30/20\", \"5/31/20\", \"6/1/20\", \"6/2/20\", \"6/3/20\", \"6/4/20\", \"6/5/20\", \"6/6/20\", \"6/7/20\", \"6/8/20\", \"6/9/20\", \"6/10/20\", \"6/11/20\", \"6/12/20\", \"6/13/20\", \"06/14/20\", \"06/15/20\", \"06/16/20\", \"06/17/20\", \"06/18/20\", \"06/19/20\"], \"y\": [3.0, 3.3392013950526227, 3.716754062334829, 4.137178943260188, 4.605100387760665, 5.125640195381238, 5.704753782702885, 6.349230183342579, 7.066692047953293, 7.865595644223992, 8.755230856879647, 9.745721187681218, 10.848023755425668, 12.07518766626683, 13.441822004143319, 14.961532890184742, 16.650738067381774, 18.52877236786714, 20.617887712915618, 22.943253112944046, 25.53295466751131, 28.41799556531836, 31.632296084208193, 35.21269359116586, 39.19894254231847, 43.633714482935204, 48.56568345978332, 54.059350840682555, 60.168720917786004, 66.95680363208375, 74.4989767832016, 82.88298602940111, 92.20894488757955, 102.58933473326991, 114.149004800641, 127.02517218249722, 141.3674218302788, 157.3377065540617, 175.1103470225576, 194.87203176311388, 216.825731779772, 241.2457014741927, 268.3860215757693, 298.52452756359384, 331.98869358487275, 369.15563245492706, 410.45209565719233, 456.3544733432184, 507.38879433267, 564.130726113326, 627.2055748410797, 697.2882853399394, 775.1034411020277, 861.425264287581, 957.0776157249514, 1062.9225786979348, 1180.0273307106634, 1309.6535078433399, 1453.1629873353868, 1612.0177007308712, 1787.7796338785026, 1982.110826931636, 2196.773374348269, 2433.6294248910444, 2694.6411816272475, 2981.8709019288085, 3297.4808974722996, 3643.733534238942, 4022.9912325145947, 4437.241496165758, 4887.005115379772, 5376.358128588451, 5909.344146449996, 6489.349916845897, 7119.1053248809385, 7800.683392883195, 8535.50028040403, 9324.315284218108, 10167.230838323365, 11063.692513941045, 12012.48901951568, 13011.75220071509, 14058.957040430389, 15150.921658775971, 16284.49695652508, 17461.38035324837, 18672.248408148225, 19905.14409153428, 21148.632355959522, 22391.80013622031, 23624.256349356365, 24836.131894650756, 26018.07965362993, 27161.274490063697, 28257.41324996521, 29298.71476159101, 30277.91983544098, 31188.291264258376, 32023.613823029802, 32778.194268985244, 33446.86134159805, 34024.9657625849, 34508.38023590587, 34893.496301683306, 35178.96262012062, 35369.2401654425, 35469.782313609, 35485.95393738392, 35423.03140633476, 35286.20258683274, 35080.56684205282, 34811.13503197368, 34482.82951337771, 34100.48413985102, 33668.844261783466, 33192.56672636861, 32676.21987760375, 32124.283556289884, 31541.149100031747, 30931.119343237806, 30298.408617120233, 29647.14274969493, 28981.359065781522, 28305.00638700336, 27621.945031787516, 26935.946815364776, 26250.695049769667, 25569.78454384042, 24896.001801263435, 24226.745865670575, 23562.38656101112, 22904.176093039605, 22253.268098141798, 21610.71764333468, 20977.481226266453, 20354.41677521655, 19742.28364909561, 19141.74263744551, 18553.355960439338, 17977.5872688814, 17414.80164420724, 16865.2655984836, 16329.14707440846, 15806.515445311017, 15297.34151515169, 14801.49751852212, 14318.757120645163, 13848.795417374902, 13391.18893519664, 12945.41563122691]}, {\"connectgaps\": true, \"line\": {\"color\": \"#862A16\", \"width\": 2}, \"name\": \"Recovered\", \"type\": \"scatter\", \"x\": [\"1/22/20\", \"1/23/20\", \"1/24/20\", \"1/25/20\", \"1/26/20\", \"1/27/20\", \"1/28/20\", \"1/29/20\", \"1/30/20\", \"1/31/20\", \"2/1/20\", \"2/2/20\", \"2/3/20\", \"2/4/20\", \"2/5/20\", \"2/6/20\", \"2/7/20\", \"2/8/20\", \"2/9/20\", \"2/10/20\", \"2/11/20\", \"2/12/20\", \"2/13/20\", \"2/14/20\", \"2/15/20\", \"2/16/20\", \"2/17/20\", \"2/18/20\", \"2/19/20\", \"2/20/20\", \"2/21/20\", \"2/22/20\", \"2/23/20\", \"2/24/20\", \"2/25/20\", \"2/26/20\", \"2/27/20\", \"2/28/20\", \"2/29/20\", \"3/1/20\", \"3/2/20\", \"3/3/20\", \"3/4/20\", \"3/5/20\", \"3/6/20\", \"3/7/20\", \"3/8/20\", \"3/9/20\", \"3/10/20\", \"3/11/20\", \"3/12/20\", \"3/13/20\", \"3/14/20\", \"3/15/20\", \"3/16/20\", \"3/17/20\", \"3/18/20\", \"3/19/20\", \"3/20/20\", \"3/21/20\", \"3/22/20\", \"3/23/20\", \"3/24/20\", \"3/25/20\", \"3/26/20\", \"3/27/20\", \"3/28/20\", \"3/29/20\", \"3/30/20\", \"3/31/20\", \"4/1/20\", \"4/2/20\", \"4/3/20\", \"4/4/20\", \"4/5/20\", \"4/6/20\", \"4/7/20\", \"4/8/20\", \"4/9/20\", \"4/10/20\", \"4/11/20\", \"4/12/20\", \"4/13/20\", \"4/14/20\", \"4/15/20\", \"4/16/20\", \"4/17/20\", \"4/18/20\", \"4/19/20\", \"4/20/20\", \"4/21/20\", \"4/22/20\", \"4/23/20\", \"4/24/20\", \"4/25/20\", \"4/26/20\", \"4/27/20\", \"4/28/20\", \"4/29/20\", \"4/30/20\", \"5/1/20\", \"5/2/20\", \"5/3/20\", \"5/4/20\", \"5/5/20\", \"5/6/20\", \"5/7/20\", \"5/8/20\", \"5/9/20\", \"5/10/20\", \"5/11/20\", \"5/12/20\", \"5/13/20\", \"5/14/20\", \"5/15/20\", \"5/16/20\", \"5/17/20\", \"5/18/20\", \"5/19/20\", \"5/20/20\", \"5/21/20\", \"5/22/20\", \"5/23/20\", \"5/24/20\", \"5/25/20\", \"5/26/20\", \"5/27/20\", \"5/28/20\", \"5/29/20\", \"5/30/20\", \"5/31/20\", \"6/1/20\", \"6/2/20\", \"6/3/20\", \"6/4/20\", \"6/5/20\", \"6/6/20\", \"6/7/20\", \"6/8/20\", \"6/9/20\", \"6/10/20\", \"6/11/20\", \"6/12/20\", \"6/13/20\", \"06/14/20\", \"06/15/20\", \"06/16/20\", \"06/17/20\", \"06/18/20\", \"06/19/20\"], \"y\": [10.0, 10.136345920969532, 10.288108650554298, 10.457106105216884, 10.645197409941805, 10.85444159736327, 11.087233154929995, 11.346302024905219, 11.63471360436669, 11.955868745206674, 12.313503754131954, 12.711690392663826, 13.1548358771381, 13.648193940709277, 14.197645866509308, 14.80865745016542, 15.487829294476178, 16.24293966811109, 17.08294450561061, 18.017977407386127, 19.059349639719972, 20.219550134765427, 21.51224549054671, 22.952279970958976, 24.55567550576834, 26.33963169061184, 28.323819537081892, 30.534444684315176, 32.99314211932923, 35.72520260633161, 38.76098715129313, 42.135927001947934, 45.89052364779346, 50.07034882009037, 54.72604449186273, 59.91332287789779, 65.69296643474614, 72.13082786072167, 79.29783009590156, 87.26996632212622, 96.13025719768171, 105.99509555387658, 116.96625613367814, 129.15426241042977, 142.6916047649188, 157.73274048537655, 174.45409376747835, 193.05405571434338, 213.752984336535, 236.79320455206044, 262.4390081863708, 290.9766539723614, 322.71436755037143, 357.98234146818385, 397.132735181026, 440.59523309762943, 488.8532939354043, 542.3910280613418, 601.7675297730121, 667.6171080558522, 740.6492865831653, 821.6488037161217, 911.4756125037582, 1011.0648806829774, 1121.4269906785503, 1243.6475396031128, 1378.8873392571677, 1528.382416129086, 1693.4440113951034, 1875.3972943831025, 2075.526044929852, 2295.790752213812, 2538.2589424068556, 2805.015567053827, 3098.1630030725446, 3419.8210527537985, 3772.126943761353, 4157.235329131944, 4577.3182872752795, 5034.565321974043, 5531.18336238389, 6069.396763033446, 6651.447303824315, 7279.594190031065, 7956.09017718836, 8682.681917294842, 9460.638610930651, 10290.903136741854, 11174.050372726982, 12110.28719623704, 13099.452483975496, 14141.017111998297, 15234.083955713846, 16377.38788988303, 17569.29578861919, 18807.806525388143, 20090.55097300818, 21414.79200365005, 22777.424488836976, 24174.975299444654, 25603.603305701246, 27059.099377187376, 28536.88638283615, 30032.04881611565, 31540.97109569004, 33060.167998265235, 34585.726316732675, 36113.93588376546, 37641.28957181834, 39164.48329312776, 40680.41599971178, 42186.18968337014, 43679.10937568422, 45156.68314801707, 46616.62211151341, 48056.84041709959, 49475.45525548364, 50870.786857155246, 52241.35849238574, 53585.89647122811, 54903.330143517014, 56192.79189886876, 57453.61716668134, 58685.34441613435, 59887.71515618909, 61060.67393558849, 62204.36834285717, 63319.14900630138, 64405.354788065044, 65462.03627063794, 66489.412682119, 67488.01124356044, 68458.3563146655, 69400.96939378846, 70316.36911793462, 71205.07126276034, 72067.58874257297, 72904.43161033098, 73716.10705764378, 74503.11941477188, 75265.97015062679, 76005.15787277106, 76721.17832741831, 77414.52439943315, 78085.68611233127, 78735.15062827933, 79363.40224809508, 79970.9224112473, 80558.1896958558, 81125.6798186914]}],\n",
              "                        {\"annotations\": [{\"font\": {\"color\": \"rgb(37,37,37)\", \"family\": \"Arial\", \"size\": 16}, \"showarrow\": false, \"text\": \"SIR Model --  Covid-19 Transmission -- Prediction -- INDIA\", \"x\": 0.0, \"xanchor\": \"left\", \"xref\": \"paper\", \"y\": 1.05, \"yanchor\": \"bottom\", \"yref\": \"paper\"}], \"autosize\": true, \"margin\": {\"autoexpand\": true, \"l\": 100, \"r\": 20, \"t\": 110}, \"showlegend\": true, \"template\": {\"data\": {\"bar\": [{\"error_x\": {\"color\": \"#2a3f5f\"}, \"error_y\": {\"color\": \"#2a3f5f\"}, \"marker\": {\"line\": {\"color\": \"#E5ECF6\", \"width\": 0.5}}, \"type\": \"bar\"}], \"barpolar\": [{\"marker\": {\"line\": {\"color\": \"#E5ECF6\", \"width\": 0.5}}, \"type\": \"barpolar\"}], \"carpet\": [{\"aaxis\": {\"endlinecolor\": \"#2a3f5f\", \"gridcolor\": \"white\", \"linecolor\": \"white\", \"minorgridcolor\": \"white\", \"startlinecolor\": \"#2a3f5f\"}, \"baxis\": {\"endlinecolor\": \"#2a3f5f\", \"gridcolor\": \"white\", \"linecolor\": \"white\", \"minorgridcolor\": \"white\", \"startlinecolor\": \"#2a3f5f\"}, \"type\": \"carpet\"}], \"choropleth\": [{\"colorbar\": {\"outlinewidth\": 0, \"ticks\": \"\"}, \"type\": \"choropleth\"}], \"contour\": [{\"colorbar\": {\"outlinewidth\": 0, \"ticks\": \"\"}, \"colorscale\": [[0.0, \"#0d0887\"], [0.1111111111111111, \"#46039f\"], [0.2222222222222222, \"#7201a8\"], [0.3333333333333333, \"#9c179e\"], [0.4444444444444444, \"#bd3786\"], [0.5555555555555556, \"#d8576b\"], [0.6666666666666666, \"#ed7953\"], [0.7777777777777778, \"#fb9f3a\"], [0.8888888888888888, \"#fdca26\"], [1.0, \"#f0f921\"]], \"type\": \"contour\"}], \"contourcarpet\": [{\"colorbar\": {\"outlinewidth\": 0, \"ticks\": \"\"}, \"type\": \"contourcarpet\"}], \"heatmap\": [{\"colorbar\": {\"outlinewidth\": 0, \"ticks\": \"\"}, \"colorscale\": [[0.0, \"#0d0887\"], [0.1111111111111111, \"#46039f\"], [0.2222222222222222, \"#7201a8\"], [0.3333333333333333, \"#9c179e\"], [0.4444444444444444, \"#bd3786\"], [0.5555555555555556, \"#d8576b\"], [0.6666666666666666, \"#ed7953\"], [0.7777777777777778, \"#fb9f3a\"], [0.8888888888888888, \"#fdca26\"], [1.0, \"#f0f921\"]], \"type\": \"heatmap\"}], \"heatmapgl\": [{\"colorbar\": {\"outlinewidth\": 0, \"ticks\": \"\"}, \"colorscale\": [[0.0, \"#0d0887\"], [0.1111111111111111, \"#46039f\"], [0.2222222222222222, \"#7201a8\"], [0.3333333333333333, \"#9c179e\"], [0.4444444444444444, \"#bd3786\"], [0.5555555555555556, \"#d8576b\"], [0.6666666666666666, \"#ed7953\"], [0.7777777777777778, \"#fb9f3a\"], [0.8888888888888888, \"#fdca26\"], [1.0, \"#f0f921\"]], \"type\": \"heatmapgl\"}], \"histogram\": [{\"marker\": {\"colorbar\": {\"outlinewidth\": 0, \"ticks\": \"\"}}, \"type\": \"histogram\"}], \"histogram2d\": [{\"colorbar\": {\"outlinewidth\": 0, \"ticks\": \"\"}, \"colorscale\": [[0.0, \"#0d0887\"], [0.1111111111111111, \"#46039f\"], [0.2222222222222222, \"#7201a8\"], [0.3333333333333333, \"#9c179e\"], [0.4444444444444444, \"#bd3786\"], [0.5555555555555556, \"#d8576b\"], [0.6666666666666666, \"#ed7953\"], [0.7777777777777778, \"#fb9f3a\"], [0.8888888888888888, \"#fdca26\"], [1.0, \"#f0f921\"]], \"type\": \"histogram2d\"}], \"histogram2dcontour\": [{\"colorbar\": {\"outlinewidth\": 0, \"ticks\": \"\"}, \"colorscale\": [[0.0, \"#0d0887\"], [0.1111111111111111, \"#46039f\"], [0.2222222222222222, \"#7201a8\"], [0.3333333333333333, \"#9c179e\"], [0.4444444444444444, \"#bd3786\"], [0.5555555555555556, \"#d8576b\"], [0.6666666666666666, \"#ed7953\"], [0.7777777777777778, \"#fb9f3a\"], [0.8888888888888888, \"#fdca26\"], [1.0, \"#f0f921\"]], \"type\": \"histogram2dcontour\"}], \"mesh3d\": [{\"colorbar\": {\"outlinewidth\": 0, \"ticks\": \"\"}, \"type\": \"mesh3d\"}], \"parcoords\": [{\"line\": {\"colorbar\": {\"outlinewidth\": 0, \"ticks\": \"\"}}, \"type\": \"parcoords\"}], \"pie\": [{\"automargin\": true, \"type\": \"pie\"}], \"scatter\": [{\"marker\": {\"colorbar\": {\"outlinewidth\": 0, \"ticks\": \"\"}}, \"type\": \"scatter\"}], \"scatter3d\": [{\"line\": {\"colorbar\": {\"outlinewidth\": 0, \"ticks\": \"\"}}, \"marker\": {\"colorbar\": {\"outlinewidth\": 0, \"ticks\": \"\"}}, \"type\": \"scatter3d\"}], \"scattercarpet\": [{\"marker\": {\"colorbar\": {\"outlinewidth\": 0, \"ticks\": \"\"}}, \"type\": \"scattercarpet\"}], \"scattergeo\": [{\"marker\": {\"colorbar\": {\"outlinewidth\": 0, \"ticks\": \"\"}}, \"type\": \"scattergeo\"}], \"scattergl\": [{\"marker\": {\"colorbar\": {\"outlinewidth\": 0, \"ticks\": \"\"}}, \"type\": \"scattergl\"}], \"scattermapbox\": [{\"marker\": {\"colorbar\": {\"outlinewidth\": 0, \"ticks\": \"\"}}, \"type\": \"scattermapbox\"}], \"scatterpolar\": [{\"marker\": {\"colorbar\": {\"outlinewidth\": 0, \"ticks\": \"\"}}, \"type\": \"scatterpolar\"}], \"scatterpolargl\": [{\"marker\": {\"colorbar\": {\"outlinewidth\": 0, \"ticks\": \"\"}}, \"type\": \"scatterpolargl\"}], \"scatterternary\": [{\"marker\": {\"colorbar\": {\"outlinewidth\": 0, \"ticks\": \"\"}}, \"type\": \"scatterternary\"}], \"surface\": [{\"colorbar\": {\"outlinewidth\": 0, \"ticks\": \"\"}, \"colorscale\": [[0.0, \"#0d0887\"], [0.1111111111111111, \"#46039f\"], [0.2222222222222222, \"#7201a8\"], [0.3333333333333333, \"#9c179e\"], [0.4444444444444444, \"#bd3786\"], [0.5555555555555556, \"#d8576b\"], [0.6666666666666666, \"#ed7953\"], [0.7777777777777778, \"#fb9f3a\"], [0.8888888888888888, \"#fdca26\"], [1.0, \"#f0f921\"]], \"type\": \"surface\"}], \"table\": [{\"cells\": {\"fill\": {\"color\": \"#EBF0F8\"}, \"line\": {\"color\": \"white\"}}, \"header\": {\"fill\": {\"color\": \"#C8D4E3\"}, \"line\": {\"color\": \"white\"}}, \"type\": \"table\"}]}, \"layout\": {\"annotationdefaults\": {\"arrowcolor\": \"#2a3f5f\", \"arrowhead\": 0, \"arrowwidth\": 1}, \"coloraxis\": {\"colorbar\": {\"outlinewidth\": 0, \"ticks\": \"\"}}, \"colorscale\": {\"diverging\": [[0, \"#8e0152\"], [0.1, \"#c51b7d\"], [0.2, \"#de77ae\"], [0.3, \"#f1b6da\"], [0.4, \"#fde0ef\"], [0.5, \"#f7f7f7\"], [0.6, \"#e6f5d0\"], [0.7, \"#b8e186\"], [0.8, \"#7fbc41\"], [0.9, \"#4d9221\"], [1, \"#276419\"]], \"sequential\": [[0.0, \"#0d0887\"], [0.1111111111111111, \"#46039f\"], [0.2222222222222222, \"#7201a8\"], [0.3333333333333333, \"#9c179e\"], [0.4444444444444444, \"#bd3786\"], [0.5555555555555556, \"#d8576b\"], [0.6666666666666666, \"#ed7953\"], [0.7777777777777778, \"#fb9f3a\"], [0.8888888888888888, \"#fdca26\"], [1.0, \"#f0f921\"]], \"sequentialminus\": [[0.0, \"#0d0887\"], [0.1111111111111111, \"#46039f\"], [0.2222222222222222, \"#7201a8\"], [0.3333333333333333, \"#9c179e\"], [0.4444444444444444, \"#bd3786\"], [0.5555555555555556, \"#d8576b\"], [0.6666666666666666, \"#ed7953\"], [0.7777777777777778, \"#fb9f3a\"], [0.8888888888888888, \"#fdca26\"], [1.0, \"#f0f921\"]]}, \"colorway\": [\"#636efa\", \"#EF553B\", \"#00cc96\", \"#ab63fa\", \"#FFA15A\", \"#19d3f3\", \"#FF6692\", \"#B6E880\", \"#FF97FF\", \"#FECB52\"], \"font\": {\"color\": \"#2a3f5f\"}, \"geo\": {\"bgcolor\": \"white\", \"lakecolor\": \"white\", \"landcolor\": \"#E5ECF6\", \"showlakes\": true, \"showland\": true, \"subunitcolor\": \"white\"}, \"hoverlabel\": {\"align\": \"left\"}, \"hovermode\": \"closest\", \"mapbox\": {\"style\": \"light\"}, \"paper_bgcolor\": \"white\", \"plot_bgcolor\": \"#E5ECF6\", \"polar\": {\"angularaxis\": {\"gridcolor\": \"white\", \"linecolor\": \"white\", \"ticks\": \"\"}, \"bgcolor\": \"#E5ECF6\", \"radialaxis\": {\"gridcolor\": \"white\", \"linecolor\": \"white\", \"ticks\": \"\"}}, \"scene\": {\"xaxis\": {\"backgroundcolor\": \"#E5ECF6\", \"gridcolor\": \"white\", \"gridwidth\": 2, \"linecolor\": \"white\", \"showbackground\": true, \"ticks\": \"\", \"zerolinecolor\": \"white\"}, \"yaxis\": {\"backgroundcolor\": \"#E5ECF6\", \"gridcolor\": \"white\", \"gridwidth\": 2, \"linecolor\": \"white\", \"showbackground\": true, \"ticks\": \"\", \"zerolinecolor\": \"white\"}, \"zaxis\": {\"backgroundcolor\": \"#E5ECF6\", \"gridcolor\": \"white\", \"gridwidth\": 2, \"linecolor\": \"white\", \"showbackground\": true, \"ticks\": \"\", \"zerolinecolor\": \"white\"}}, \"shapedefaults\": {\"line\": {\"color\": \"#2a3f5f\"}}, \"ternary\": {\"aaxis\": {\"gridcolor\": \"white\", \"linecolor\": \"white\", \"ticks\": \"\"}, \"baxis\": {\"gridcolor\": \"white\", \"linecolor\": \"white\", \"ticks\": \"\"}, \"bgcolor\": \"#E5ECF6\", \"caxis\": {\"gridcolor\": \"white\", \"linecolor\": \"white\", \"ticks\": \"\"}}, \"title\": {\"x\": 0.05}, \"xaxis\": {\"automargin\": true, \"gridcolor\": \"white\", \"linecolor\": \"white\", \"ticks\": \"\", \"title\": {\"standoff\": 15}, \"zerolinecolor\": \"white\", \"zerolinewidth\": 2}, \"yaxis\": {\"automargin\": true, \"gridcolor\": \"white\", \"linecolor\": \"white\", \"ticks\": \"\", \"title\": {\"standoff\": 15}, \"zerolinecolor\": \"white\", \"zerolinewidth\": 2}}}, \"xaxis\": {\"linecolor\": \"rgb(204, 204, 204)\", \"linewidth\": 2, \"showgrid\": true, \"showline\": true, \"showticklabels\": true, \"tickangle\": -80, \"tickfont\": {\"color\": \"rgb(82, 82, 82)\", \"family\": \"Arial\", \"size\": 12}, \"ticks\": \"outside\", \"title\": {\"text\": \"Date\"}}, \"yaxis\": {\"linecolor\": \"rgb(204, 204, 204)\", \"linewidth\": 2, \"showgrid\": true, \"showline\": true, \"showticklabels\": true, \"title\": {\"text\": \"Case Count\"}}},\n",
              "                        {\"responsive\": true}\n",
              "                    ).then(function(){\n",
              "                            \n",
              "var gd = document.getElementById('c91f8544-2a37-489e-9baa-97f8e5c077cc');\n",
              "var x = new MutationObserver(function (mutations, observer) {{\n",
              "        var display = window.getComputedStyle(gd).display;\n",
              "        if (!display || display === 'none') {{\n",
              "            console.log([gd, 'removed!']);\n",
              "            Plotly.purge(gd);\n",
              "            observer.disconnect();\n",
              "        }}\n",
              "}});\n",
              "\n",
              "// Listen for the removal of the full notebook cells\n",
              "var notebookContainer = gd.closest('#notebook-container');\n",
              "if (notebookContainer) {{\n",
              "    x.observe(notebookContainer, {childList: true});\n",
              "}}\n",
              "\n",
              "// Listen for the clearing of the current output cell\n",
              "var outputEl = gd.closest('.output');\n",
              "if (outputEl) {{\n",
              "    x.observe(outputEl, {childList: true});\n",
              "}}\n",
              "\n",
              "                        })\n",
              "                };\n",
              "                \n",
              "            </script>\n",
              "        </div>\n",
              "</body>\n",
              "</html>"
            ]
          },
          "metadata": {
            "tags": []
          }
        }
      ]
    },
    {
      "cell_type": "code",
      "metadata": {
        "id": "5gfuphCvpegV",
        "colab_type": "code",
        "colab": {
          "base_uri": "https://localhost:8080/",
          "height": 542
        },
        "outputId": "44fc6824-b1d5-4be6-f2dc-a40ce54a75e5"
      },
      "source": [
        "#Log Scale\n",
        "fig_9 = plot_sir_prediction(\n",
        "    title=\"SIR Model --  Covid-19 Transmission -- Prediction -- INDIA\", \n",
        "    df_sir= india_sir,\n",
        "    remove_series=['Susceptible'],\n",
        "    yaxis_type=\"log\",\n",
        "    yaxis_title=\"Case Count (Log Scale)\")\n",
        "\n",
        "fig_9.show()"
      ],
      "execution_count": 77,
      "outputs": [
        {
          "output_type": "display_data",
          "data": {
            "text/html": [
              "<html>\n",
              "<head><meta charset=\"utf-8\" /></head>\n",
              "<body>\n",
              "    <div>\n",
              "            <script src=\"https://cdnjs.cloudflare.com/ajax/libs/mathjax/2.7.5/MathJax.js?config=TeX-AMS-MML_SVG\"></script><script type=\"text/javascript\">if (window.MathJax) {MathJax.Hub.Config({SVG: {font: \"STIX-Web\"}});}</script>\n",
              "                <script type=\"text/javascript\">window.PlotlyConfig = {MathJaxConfig: 'local'};</script>\n",
              "        <script src=\"https://cdn.plot.ly/plotly-latest.min.js\"></script>    \n",
              "            <div id=\"15ab954b-14e0-4791-a296-825beb9218e5\" class=\"plotly-graph-div\" style=\"height:525px; width:100%;\"></div>\n",
              "            <script type=\"text/javascript\">\n",
              "                \n",
              "                    window.PLOTLYENV=window.PLOTLYENV || {};\n",
              "                    \n",
              "                if (document.getElementById(\"15ab954b-14e0-4791-a296-825beb9218e5\")) {\n",
              "                    Plotly.newPlot(\n",
              "                        '15ab954b-14e0-4791-a296-825beb9218e5',\n",
              "                        [{\"connectgaps\": true, \"line\": {\"color\": \"#2E91E5\", \"width\": 2}, \"name\": \"Infected data\", \"type\": \"scatter\", \"x\": [\"1/22/20\", \"1/23/20\", \"1/24/20\", \"1/25/20\", \"1/26/20\", \"1/27/20\", \"1/28/20\", \"1/29/20\", \"1/30/20\", \"1/31/20\", \"2/1/20\", \"2/2/20\", \"2/3/20\", \"2/4/20\", \"2/5/20\", \"2/6/20\", \"2/7/20\", \"2/8/20\", \"2/9/20\", \"2/10/20\", \"2/11/20\", \"2/12/20\", \"2/13/20\", \"2/14/20\", \"2/15/20\", \"2/16/20\", \"2/17/20\", \"2/18/20\", \"2/19/20\", \"2/20/20\", \"2/21/20\", \"2/22/20\", \"2/23/20\", \"2/24/20\", \"2/25/20\", \"2/26/20\", \"2/27/20\", \"2/28/20\", \"2/29/20\", \"3/1/20\", \"3/2/20\", \"3/3/20\", \"3/4/20\", \"3/5/20\", \"3/6/20\", \"3/7/20\", \"3/8/20\", \"3/9/20\", \"3/10/20\", \"3/11/20\", \"3/12/20\", \"3/13/20\", \"3/14/20\", \"3/15/20\", \"3/16/20\", \"3/17/20\", \"3/18/20\", \"3/19/20\", \"3/20/20\", \"3/21/20\", \"3/22/20\", \"3/23/20\", \"3/24/20\", \"3/25/20\", \"3/26/20\", \"3/27/20\", \"3/28/20\", \"3/29/20\", \"3/30/20\", \"3/31/20\", \"4/1/20\", \"4/2/20\", \"4/3/20\", \"4/4/20\", \"4/5/20\", \"4/6/20\", \"4/7/20\", \"4/8/20\", \"4/9/20\", \"4/10/20\", \"4/11/20\", \"4/12/20\", \"4/13/20\", \"4/14/20\", \"4/15/20\", \"4/16/20\", \"4/17/20\", \"4/18/20\", \"4/19/20\", \"4/20/20\", \"4/21/20\", \"4/22/20\", \"4/23/20\", \"4/24/20\", \"4/25/20\", \"4/26/20\", \"4/27/20\", \"4/28/20\", \"4/29/20\", \"4/30/20\", \"5/1/20\", \"5/2/20\", \"5/3/20\", \"5/4/20\", \"5/5/20\", \"5/6/20\", \"5/7/20\", \"5/8/20\", \"5/9/20\", \"5/10/20\", \"5/11/20\", \"5/12/20\", \"5/13/20\", \"5/14/20\", \"5/15/20\", \"5/16/20\", \"5/17/20\", \"5/18/20\", \"5/19/20\", \"5/20/20\", \"5/21/20\", \"5/22/20\", \"5/23/20\", \"5/24/20\", \"5/25/20\", \"5/26/20\", \"5/27/20\", \"5/28/20\", \"5/29/20\", \"5/30/20\", \"5/31/20\", \"6/1/20\", \"6/2/20\", \"6/3/20\", \"6/4/20\", \"6/5/20\", \"6/6/20\", \"6/7/20\", \"6/8/20\", \"6/9/20\", \"6/10/20\", \"6/11/20\", \"6/12/20\", \"6/13/20\", \"06/14/20\", \"06/15/20\", \"06/16/20\", \"06/17/20\", \"06/18/20\", \"06/19/20\"], \"y\": [0, 0, 0, 0, 0, 0, 0, 0, 1, 1, 1, 2, 3, 3, 3, 3, 3, 3, 3, 3, 3, 3, 3, 3, 3, 0, 0, 0, 0, 0, 0, 0, 0, 0, 0, 0, 0, 0, 0, 0, 2, 2, 25, 27, 28, 31, 36, 40, 52, 57, 68, 76, 96, 98, 104, 125, 139, 175, 219, 303, 362, 462, 486, 602, 662, 794, 879, 902, 1117, 1239, 1792, 2280, 2303, 2767, 3260, 4267, 4740, 5232, 5879, 6578, 7189, 7794, 8914, 9735, 10485, 11214, 11825, 12738, 14202, 14674, 15460, 16319, 17344, 18252, 19519, 20486, 21375, 22569, 23546, 24641, 26027, 27557, 29339, 32024, 33565, 35871, 37686, 39823, 41406, 43980, 45925, 47457, 49104, 51379, 52773, 53553, 55878, 57939, 60864, 63172, 66089, 69244, 73170, 76820, 80072, 82172, 85803, 89755, 85884, 89706, 93349, 97008, 101077, 106665, 111900, 116302, 120981, 126431, 129360, 133726, 142901, 141842, 141842, 145779, null, null, null, null, null, null]}, {\"connectgaps\": true, \"line\": {\"color\": \"#EB663B\", \"width\": 2}, \"name\": \"Recovered data\", \"type\": \"scatter\", \"x\": [\"1/22/20\", \"1/23/20\", \"1/24/20\", \"1/25/20\", \"1/26/20\", \"1/27/20\", \"1/28/20\", \"1/29/20\", \"1/30/20\", \"1/31/20\", \"2/1/20\", \"2/2/20\", \"2/3/20\", \"2/4/20\", \"2/5/20\", \"2/6/20\", \"2/7/20\", \"2/8/20\", \"2/9/20\", \"2/10/20\", \"2/11/20\", \"2/12/20\", \"2/13/20\", \"2/14/20\", \"2/15/20\", \"2/16/20\", \"2/17/20\", \"2/18/20\", \"2/19/20\", \"2/20/20\", \"2/21/20\", \"2/22/20\", \"2/23/20\", \"2/24/20\", \"2/25/20\", \"2/26/20\", \"2/27/20\", \"2/28/20\", \"2/29/20\", \"3/1/20\", \"3/2/20\", \"3/3/20\", \"3/4/20\", \"3/5/20\", \"3/6/20\", \"3/7/20\", \"3/8/20\", \"3/9/20\", \"3/10/20\", \"3/11/20\", \"3/12/20\", \"3/13/20\", \"3/14/20\", \"3/15/20\", \"3/16/20\", \"3/17/20\", \"3/18/20\", \"3/19/20\", \"3/20/20\", \"3/21/20\", \"3/22/20\", \"3/23/20\", \"3/24/20\", \"3/25/20\", \"3/26/20\", \"3/27/20\", \"3/28/20\", \"3/29/20\", \"3/30/20\", \"3/31/20\", \"4/1/20\", \"4/2/20\", \"4/3/20\", \"4/4/20\", \"4/5/20\", \"4/6/20\", \"4/7/20\", \"4/8/20\", \"4/9/20\", \"4/10/20\", \"4/11/20\", \"4/12/20\", \"4/13/20\", \"4/14/20\", \"4/15/20\", \"4/16/20\", \"4/17/20\", \"4/18/20\", \"4/19/20\", \"4/20/20\", \"4/21/20\", \"4/22/20\", \"4/23/20\", \"4/24/20\", \"4/25/20\", \"4/26/20\", \"4/27/20\", \"4/28/20\", \"4/29/20\", \"4/30/20\", \"5/1/20\", \"5/2/20\", \"5/3/20\", \"5/4/20\", \"5/5/20\", \"5/6/20\", \"5/7/20\", \"5/8/20\", \"5/9/20\", \"5/10/20\", \"5/11/20\", \"5/12/20\", \"5/13/20\", \"5/14/20\", \"5/15/20\", \"5/16/20\", \"5/17/20\", \"5/18/20\", \"5/19/20\", \"5/20/20\", \"5/21/20\", \"5/22/20\", \"5/23/20\", \"5/24/20\", \"5/25/20\", \"5/26/20\", \"5/27/20\", \"5/28/20\", \"5/29/20\", \"5/30/20\", \"5/31/20\", \"6/1/20\", \"6/2/20\", \"6/3/20\", \"6/4/20\", \"6/5/20\", \"6/6/20\", \"6/7/20\", \"6/8/20\", \"6/9/20\", \"6/10/20\", \"6/11/20\", \"6/12/20\", \"6/13/20\", \"06/14/20\", \"06/15/20\", \"06/16/20\", \"06/17/20\", \"06/18/20\", \"06/19/20\"], \"y\": [0, 0, 0, 0, 0, 0, 0, 0, 0, 0, 0, 0, 0, 0, 0, 0, 0, 0, 0, 0, 0, 0, 0, 0, 0, 3, 3, 3, 3, 3, 3, 3, 3, 3, 3, 3, 3, 3, 3, 3, 3, 3, 3, 3, 3, 3, 3, 3, 4, 4, 4, 4, 4, 13, 13, 14, 14, 15, 20, 23, 27, 27, 40, 43, 45, 73, 84, 95, 102, 123, 148, 191, 192, 229, 229, 375, 421, 506, 620, 774, 969, 1080, 1181, 1359, 1432, 1768, 2041, 2463, 2854, 3273, 3975, 4370, 5012, 5498, 5939, 6523, 7137, 7747, 8437, 9068, 10007, 10819, 11775, 12847, 14142, 15331, 16776, 17887, 19301, 20969, 22549, 24420, 26400, 27969, 30258, 34224, 36795, 39233, 42309, 45422, 48553, 51824, 54385, 57692, 60706, 64277, 67749, 70920, 82627, 86936, 91852, 95754, 100285, 104071, 108450, 113233, 118695, 123848, 129095, 134670, 135206, 147195, 147195, 154330, null, null, null, null, null, null]}, {\"connectgaps\": true, \"line\": {\"color\": \"#1CA71C\", \"width\": 2}, \"name\": \"Death data\", \"type\": \"scatter\", \"x\": [\"1/22/20\", \"1/23/20\", \"1/24/20\", \"1/25/20\", \"1/26/20\", \"1/27/20\", \"1/28/20\", \"1/29/20\", \"1/30/20\", \"1/31/20\", \"2/1/20\", \"2/2/20\", \"2/3/20\", \"2/4/20\", \"2/5/20\", \"2/6/20\", \"2/7/20\", \"2/8/20\", \"2/9/20\", \"2/10/20\", \"2/11/20\", \"2/12/20\", \"2/13/20\", \"2/14/20\", \"2/15/20\", \"2/16/20\", \"2/17/20\", \"2/18/20\", \"2/19/20\", \"2/20/20\", \"2/21/20\", \"2/22/20\", \"2/23/20\", \"2/24/20\", \"2/25/20\", \"2/26/20\", \"2/27/20\", \"2/28/20\", \"2/29/20\", \"3/1/20\", \"3/2/20\", \"3/3/20\", \"3/4/20\", \"3/5/20\", \"3/6/20\", \"3/7/20\", \"3/8/20\", \"3/9/20\", \"3/10/20\", \"3/11/20\", \"3/12/20\", \"3/13/20\", \"3/14/20\", \"3/15/20\", \"3/16/20\", \"3/17/20\", \"3/18/20\", \"3/19/20\", \"3/20/20\", \"3/21/20\", \"3/22/20\", \"3/23/20\", \"3/24/20\", \"3/25/20\", \"3/26/20\", \"3/27/20\", \"3/28/20\", \"3/29/20\", \"3/30/20\", \"3/31/20\", \"4/1/20\", \"4/2/20\", \"4/3/20\", \"4/4/20\", \"4/5/20\", \"4/6/20\", \"4/7/20\", \"4/8/20\", \"4/9/20\", \"4/10/20\", \"4/11/20\", \"4/12/20\", \"4/13/20\", \"4/14/20\", \"4/15/20\", \"4/16/20\", \"4/17/20\", \"4/18/20\", \"4/19/20\", \"4/20/20\", \"4/21/20\", \"4/22/20\", \"4/23/20\", \"4/24/20\", \"4/25/20\", \"4/26/20\", \"4/27/20\", \"4/28/20\", \"4/29/20\", \"4/30/20\", \"5/1/20\", \"5/2/20\", \"5/3/20\", \"5/4/20\", \"5/5/20\", \"5/6/20\", \"5/7/20\", \"5/8/20\", \"5/9/20\", \"5/10/20\", \"5/11/20\", \"5/12/20\", \"5/13/20\", \"5/14/20\", \"5/15/20\", \"5/16/20\", \"5/17/20\", \"5/18/20\", \"5/19/20\", \"5/20/20\", \"5/21/20\", \"5/22/20\", \"5/23/20\", \"5/24/20\", \"5/25/20\", \"5/26/20\", \"5/27/20\", \"5/28/20\", \"5/29/20\", \"5/30/20\", \"5/31/20\", \"6/1/20\", \"6/2/20\", \"6/3/20\", \"6/4/20\", \"6/5/20\", \"6/6/20\", \"6/7/20\", \"6/8/20\", \"6/9/20\", \"6/10/20\", \"6/11/20\", \"6/12/20\", \"6/13/20\", \"06/14/20\", \"06/15/20\", \"06/16/20\", \"06/17/20\", \"06/18/20\", \"06/19/20\"], \"y\": [0, 0, 0, 0, 0, 0, 0, 0, 0, 0, 0, 0, 0, 0, 0, 0, 0, 0, 0, 0, 0, 0, 0, 0, 0, 0, 0, 0, 0, 0, 0, 0, 0, 0, 0, 0, 0, 0, 0, 0, 0, 0, 0, 0, 0, 0, 0, 0, 0, 1, 1, 2, 2, 2, 2, 3, 3, 4, 5, 4, 7, 10, 10, 12, 20, 20, 24, 27, 32, 35, 58, 72, 72, 86, 99, 136, 150, 178, 226, 246, 288, 331, 358, 393, 405, 448, 486, 521, 559, 592, 645, 681, 721, 780, 825, 881, 939, 1008, 1079, 1154, 1223, 1323, 1391, 1566, 1693, 1785, 1889, 1985, 2101, 2212, 2294, 2415, 2551, 2649, 2753, 2871, 3025, 3156, 3302, 3434, 3584, 3726, 3868, 4024, 4172, 4344, 4534, 4711, 4980, 5185, 5408, 5608, 5829, 6088, 6363, 6649, 6946, 7207, 7473, 7750, 8498, 8498, 8498, 8884, null, null, null, null, null, null]}, {\"connectgaps\": true, \"line\": {\"color\": \"#750D86\", \"width\": 2}, \"name\": \"Infected\", \"type\": \"scatter\", \"x\": [\"1/22/20\", \"1/23/20\", \"1/24/20\", \"1/25/20\", \"1/26/20\", \"1/27/20\", \"1/28/20\", \"1/29/20\", \"1/30/20\", \"1/31/20\", \"2/1/20\", \"2/2/20\", \"2/3/20\", \"2/4/20\", \"2/5/20\", \"2/6/20\", \"2/7/20\", \"2/8/20\", \"2/9/20\", \"2/10/20\", \"2/11/20\", \"2/12/20\", \"2/13/20\", \"2/14/20\", \"2/15/20\", \"2/16/20\", \"2/17/20\", \"2/18/20\", \"2/19/20\", \"2/20/20\", \"2/21/20\", \"2/22/20\", \"2/23/20\", \"2/24/20\", \"2/25/20\", \"2/26/20\", \"2/27/20\", \"2/28/20\", \"2/29/20\", \"3/1/20\", \"3/2/20\", \"3/3/20\", \"3/4/20\", \"3/5/20\", \"3/6/20\", \"3/7/20\", \"3/8/20\", \"3/9/20\", \"3/10/20\", \"3/11/20\", \"3/12/20\", \"3/13/20\", \"3/14/20\", \"3/15/20\", \"3/16/20\", \"3/17/20\", \"3/18/20\", \"3/19/20\", \"3/20/20\", \"3/21/20\", \"3/22/20\", \"3/23/20\", \"3/24/20\", \"3/25/20\", \"3/26/20\", \"3/27/20\", \"3/28/20\", \"3/29/20\", \"3/30/20\", \"3/31/20\", \"4/1/20\", \"4/2/20\", \"4/3/20\", \"4/4/20\", \"4/5/20\", \"4/6/20\", \"4/7/20\", \"4/8/20\", \"4/9/20\", \"4/10/20\", \"4/11/20\", \"4/12/20\", \"4/13/20\", \"4/14/20\", \"4/15/20\", \"4/16/20\", \"4/17/20\", \"4/18/20\", \"4/19/20\", \"4/20/20\", \"4/21/20\", \"4/22/20\", \"4/23/20\", \"4/24/20\", \"4/25/20\", \"4/26/20\", \"4/27/20\", \"4/28/20\", \"4/29/20\", \"4/30/20\", \"5/1/20\", \"5/2/20\", \"5/3/20\", \"5/4/20\", \"5/5/20\", \"5/6/20\", \"5/7/20\", \"5/8/20\", \"5/9/20\", \"5/10/20\", \"5/11/20\", \"5/12/20\", \"5/13/20\", \"5/14/20\", \"5/15/20\", \"5/16/20\", \"5/17/20\", \"5/18/20\", \"5/19/20\", \"5/20/20\", \"5/21/20\", \"5/22/20\", \"5/23/20\", \"5/24/20\", \"5/25/20\", \"5/26/20\", \"5/27/20\", \"5/28/20\", \"5/29/20\", \"5/30/20\", \"5/31/20\", \"6/1/20\", \"6/2/20\", \"6/3/20\", \"6/4/20\", \"6/5/20\", \"6/6/20\", \"6/7/20\", \"6/8/20\", \"6/9/20\", \"6/10/20\", \"6/11/20\", \"6/12/20\", \"6/13/20\", \"06/14/20\", \"06/15/20\", \"06/16/20\", \"06/17/20\", \"06/18/20\", \"06/19/20\"], \"y\": [3.0, 3.3392013950526227, 3.716754062334829, 4.137178943260188, 4.605100387760665, 5.125640195381238, 5.704753782702885, 6.349230183342579, 7.066692047953293, 7.865595644223992, 8.755230856879647, 9.745721187681218, 10.848023755425668, 12.07518766626683, 13.441822004143319, 14.961532890184742, 16.650738067381774, 18.52877236786714, 20.617887712915618, 22.943253112944046, 25.53295466751131, 28.41799556531836, 31.632296084208193, 35.21269359116586, 39.19894254231847, 43.633714482935204, 48.56568345978332, 54.059350840682555, 60.168720917786004, 66.95680363208375, 74.4989767832016, 82.88298602940111, 92.20894488757955, 102.58933473326991, 114.149004800641, 127.02517218249722, 141.3674218302788, 157.3377065540617, 175.1103470225576, 194.87203176311388, 216.825731779772, 241.2457014741927, 268.3860215757693, 298.52452756359384, 331.98869358487275, 369.15563245492706, 410.45209565719233, 456.3544733432184, 507.38879433267, 564.130726113326, 627.2055748410797, 697.2882853399394, 775.1034411020277, 861.425264287581, 957.0776157249514, 1062.9225786979348, 1180.0273307106634, 1309.6535078433399, 1453.1629873353868, 1612.0177007308712, 1787.7796338785026, 1982.110826931636, 2196.773374348269, 2433.6294248910444, 2694.6411816272475, 2981.8709019288085, 3297.4808974722996, 3643.733534238942, 4022.9912325145947, 4437.241496165758, 4887.005115379772, 5376.358128588451, 5909.344146449996, 6489.349916845897, 7119.1053248809385, 7800.683392883195, 8535.50028040403, 9324.315284218108, 10167.230838323365, 11063.692513941045, 12012.48901951568, 13011.75220071509, 14058.957040430389, 15150.921658775971, 16284.49695652508, 17461.38035324837, 18672.248408148225, 19905.14409153428, 21148.632355959522, 22391.80013622031, 23624.256349356365, 24836.131894650756, 26018.07965362993, 27161.274490063697, 28257.41324996521, 29298.71476159101, 30277.91983544098, 31188.291264258376, 32023.613823029802, 32778.194268985244, 33446.86134159805, 34024.9657625849, 34508.38023590587, 34893.496301683306, 35178.96262012062, 35369.2401654425, 35469.782313609, 35485.95393738392, 35423.03140633476, 35286.20258683274, 35080.56684205282, 34811.13503197368, 34482.82951337771, 34100.48413985102, 33668.844261783466, 33192.56672636861, 32676.21987760375, 32124.283556289884, 31541.149100031747, 30931.119343237806, 30298.408617120233, 29647.14274969493, 28981.359065781522, 28305.00638700336, 27621.945031787516, 26935.946815364776, 26250.695049769667, 25569.78454384042, 24896.001801263435, 24226.745865670575, 23562.38656101112, 22904.176093039605, 22253.268098141798, 21610.71764333468, 20977.481226266453, 20354.41677521655, 19742.28364909561, 19141.74263744551, 18553.355960439338, 17977.5872688814, 17414.80164420724, 16865.2655984836, 16329.14707440846, 15806.515445311017, 15297.34151515169, 14801.49751852212, 14318.757120645163, 13848.795417374902, 13391.18893519664, 12945.41563122691]}, {\"connectgaps\": true, \"line\": {\"color\": \"#862A16\", \"width\": 2}, \"name\": \"Recovered\", \"type\": \"scatter\", \"x\": [\"1/22/20\", \"1/23/20\", \"1/24/20\", \"1/25/20\", \"1/26/20\", \"1/27/20\", \"1/28/20\", \"1/29/20\", \"1/30/20\", \"1/31/20\", \"2/1/20\", \"2/2/20\", \"2/3/20\", \"2/4/20\", \"2/5/20\", \"2/6/20\", \"2/7/20\", \"2/8/20\", \"2/9/20\", \"2/10/20\", \"2/11/20\", \"2/12/20\", \"2/13/20\", \"2/14/20\", \"2/15/20\", \"2/16/20\", \"2/17/20\", \"2/18/20\", \"2/19/20\", \"2/20/20\", \"2/21/20\", \"2/22/20\", \"2/23/20\", \"2/24/20\", \"2/25/20\", \"2/26/20\", \"2/27/20\", \"2/28/20\", \"2/29/20\", \"3/1/20\", \"3/2/20\", \"3/3/20\", \"3/4/20\", \"3/5/20\", \"3/6/20\", \"3/7/20\", \"3/8/20\", \"3/9/20\", \"3/10/20\", \"3/11/20\", \"3/12/20\", \"3/13/20\", \"3/14/20\", \"3/15/20\", \"3/16/20\", \"3/17/20\", \"3/18/20\", \"3/19/20\", \"3/20/20\", \"3/21/20\", \"3/22/20\", \"3/23/20\", \"3/24/20\", \"3/25/20\", \"3/26/20\", \"3/27/20\", \"3/28/20\", \"3/29/20\", \"3/30/20\", \"3/31/20\", \"4/1/20\", \"4/2/20\", \"4/3/20\", \"4/4/20\", \"4/5/20\", \"4/6/20\", \"4/7/20\", \"4/8/20\", \"4/9/20\", \"4/10/20\", \"4/11/20\", \"4/12/20\", \"4/13/20\", \"4/14/20\", \"4/15/20\", \"4/16/20\", \"4/17/20\", \"4/18/20\", \"4/19/20\", \"4/20/20\", \"4/21/20\", \"4/22/20\", \"4/23/20\", \"4/24/20\", \"4/25/20\", \"4/26/20\", \"4/27/20\", \"4/28/20\", \"4/29/20\", \"4/30/20\", \"5/1/20\", \"5/2/20\", \"5/3/20\", \"5/4/20\", \"5/5/20\", \"5/6/20\", \"5/7/20\", \"5/8/20\", \"5/9/20\", \"5/10/20\", \"5/11/20\", \"5/12/20\", \"5/13/20\", \"5/14/20\", \"5/15/20\", \"5/16/20\", \"5/17/20\", \"5/18/20\", \"5/19/20\", \"5/20/20\", \"5/21/20\", \"5/22/20\", \"5/23/20\", \"5/24/20\", \"5/25/20\", \"5/26/20\", \"5/27/20\", \"5/28/20\", \"5/29/20\", \"5/30/20\", \"5/31/20\", \"6/1/20\", \"6/2/20\", \"6/3/20\", \"6/4/20\", \"6/5/20\", \"6/6/20\", \"6/7/20\", \"6/8/20\", \"6/9/20\", \"6/10/20\", \"6/11/20\", \"6/12/20\", \"6/13/20\", \"06/14/20\", \"06/15/20\", \"06/16/20\", \"06/17/20\", \"06/18/20\", \"06/19/20\"], \"y\": [10.0, 10.136345920969532, 10.288108650554298, 10.457106105216884, 10.645197409941805, 10.85444159736327, 11.087233154929995, 11.346302024905219, 11.63471360436669, 11.955868745206674, 12.313503754131954, 12.711690392663826, 13.1548358771381, 13.648193940709277, 14.197645866509308, 14.80865745016542, 15.487829294476178, 16.24293966811109, 17.08294450561061, 18.017977407386127, 19.059349639719972, 20.219550134765427, 21.51224549054671, 22.952279970958976, 24.55567550576834, 26.33963169061184, 28.323819537081892, 30.534444684315176, 32.99314211932923, 35.72520260633161, 38.76098715129313, 42.135927001947934, 45.89052364779346, 50.07034882009037, 54.72604449186273, 59.91332287789779, 65.69296643474614, 72.13082786072167, 79.29783009590156, 87.26996632212622, 96.13025719768171, 105.99509555387658, 116.96625613367814, 129.15426241042977, 142.6916047649188, 157.73274048537655, 174.45409376747835, 193.05405571434338, 213.752984336535, 236.79320455206044, 262.4390081863708, 290.9766539723614, 322.71436755037143, 357.98234146818385, 397.132735181026, 440.59523309762943, 488.8532939354043, 542.3910280613418, 601.7675297730121, 667.6171080558522, 740.6492865831653, 821.6488037161217, 911.4756125037582, 1011.0648806829774, 1121.4269906785503, 1243.6475396031128, 1378.8873392571677, 1528.382416129086, 1693.4440113951034, 1875.3972943831025, 2075.526044929852, 2295.790752213812, 2538.2589424068556, 2805.015567053827, 3098.1630030725446, 3419.8210527537985, 3772.126943761353, 4157.235329131944, 4577.3182872752795, 5034.565321974043, 5531.18336238389, 6069.396763033446, 6651.447303824315, 7279.594190031065, 7956.09017718836, 8682.681917294842, 9460.638610930651, 10290.903136741854, 11174.050372726982, 12110.28719623704, 13099.452483975496, 14141.017111998297, 15234.083955713846, 16377.38788988303, 17569.29578861919, 18807.806525388143, 20090.55097300818, 21414.79200365005, 22777.424488836976, 24174.975299444654, 25603.603305701246, 27059.099377187376, 28536.88638283615, 30032.04881611565, 31540.97109569004, 33060.167998265235, 34585.726316732675, 36113.93588376546, 37641.28957181834, 39164.48329312776, 40680.41599971178, 42186.18968337014, 43679.10937568422, 45156.68314801707, 46616.62211151341, 48056.84041709959, 49475.45525548364, 50870.786857155246, 52241.35849238574, 53585.89647122811, 54903.330143517014, 56192.79189886876, 57453.61716668134, 58685.34441613435, 59887.71515618909, 61060.67393558849, 62204.36834285717, 63319.14900630138, 64405.354788065044, 65462.03627063794, 66489.412682119, 67488.01124356044, 68458.3563146655, 69400.96939378846, 70316.36911793462, 71205.07126276034, 72067.58874257297, 72904.43161033098, 73716.10705764378, 74503.11941477188, 75265.97015062679, 76005.15787277106, 76721.17832741831, 77414.52439943315, 78085.68611233127, 78735.15062827933, 79363.40224809508, 79970.9224112473, 80558.1896958558, 81125.6798186914]}],\n",
              "                        {\"annotations\": [{\"font\": {\"color\": \"rgb(37,37,37)\", \"family\": \"Arial\", \"size\": 16}, \"showarrow\": false, \"text\": \"SIR Model --  Covid-19 Transmission -- Prediction -- INDIA\", \"x\": 0.0, \"xanchor\": \"left\", \"xref\": \"paper\", \"y\": 1.05, \"yanchor\": \"bottom\", \"yref\": \"paper\"}], \"autosize\": true, \"margin\": {\"autoexpand\": true, \"l\": 100, \"r\": 20, \"t\": 110}, \"showlegend\": true, \"template\": {\"data\": {\"bar\": [{\"error_x\": {\"color\": \"#2a3f5f\"}, \"error_y\": {\"color\": \"#2a3f5f\"}, \"marker\": {\"line\": {\"color\": \"#E5ECF6\", \"width\": 0.5}}, \"type\": \"bar\"}], \"barpolar\": [{\"marker\": {\"line\": {\"color\": \"#E5ECF6\", \"width\": 0.5}}, \"type\": \"barpolar\"}], \"carpet\": [{\"aaxis\": {\"endlinecolor\": \"#2a3f5f\", \"gridcolor\": \"white\", \"linecolor\": \"white\", \"minorgridcolor\": \"white\", \"startlinecolor\": \"#2a3f5f\"}, \"baxis\": {\"endlinecolor\": \"#2a3f5f\", \"gridcolor\": \"white\", \"linecolor\": \"white\", \"minorgridcolor\": \"white\", \"startlinecolor\": \"#2a3f5f\"}, \"type\": \"carpet\"}], \"choropleth\": [{\"colorbar\": {\"outlinewidth\": 0, \"ticks\": \"\"}, \"type\": \"choropleth\"}], \"contour\": [{\"colorbar\": {\"outlinewidth\": 0, \"ticks\": \"\"}, \"colorscale\": [[0.0, \"#0d0887\"], [0.1111111111111111, \"#46039f\"], [0.2222222222222222, \"#7201a8\"], [0.3333333333333333, \"#9c179e\"], [0.4444444444444444, \"#bd3786\"], [0.5555555555555556, \"#d8576b\"], [0.6666666666666666, \"#ed7953\"], [0.7777777777777778, \"#fb9f3a\"], [0.8888888888888888, \"#fdca26\"], [1.0, \"#f0f921\"]], \"type\": \"contour\"}], \"contourcarpet\": [{\"colorbar\": {\"outlinewidth\": 0, \"ticks\": \"\"}, \"type\": \"contourcarpet\"}], \"heatmap\": [{\"colorbar\": {\"outlinewidth\": 0, \"ticks\": \"\"}, \"colorscale\": [[0.0, \"#0d0887\"], [0.1111111111111111, \"#46039f\"], [0.2222222222222222, \"#7201a8\"], [0.3333333333333333, \"#9c179e\"], [0.4444444444444444, \"#bd3786\"], [0.5555555555555556, \"#d8576b\"], [0.6666666666666666, \"#ed7953\"], [0.7777777777777778, \"#fb9f3a\"], [0.8888888888888888, \"#fdca26\"], [1.0, \"#f0f921\"]], \"type\": \"heatmap\"}], \"heatmapgl\": [{\"colorbar\": {\"outlinewidth\": 0, \"ticks\": \"\"}, \"colorscale\": [[0.0, \"#0d0887\"], [0.1111111111111111, \"#46039f\"], [0.2222222222222222, \"#7201a8\"], [0.3333333333333333, \"#9c179e\"], [0.4444444444444444, \"#bd3786\"], [0.5555555555555556, \"#d8576b\"], [0.6666666666666666, \"#ed7953\"], [0.7777777777777778, \"#fb9f3a\"], [0.8888888888888888, \"#fdca26\"], [1.0, \"#f0f921\"]], \"type\": \"heatmapgl\"}], \"histogram\": [{\"marker\": {\"colorbar\": {\"outlinewidth\": 0, \"ticks\": \"\"}}, \"type\": \"histogram\"}], \"histogram2d\": [{\"colorbar\": {\"outlinewidth\": 0, \"ticks\": \"\"}, \"colorscale\": [[0.0, \"#0d0887\"], [0.1111111111111111, \"#46039f\"], [0.2222222222222222, \"#7201a8\"], [0.3333333333333333, \"#9c179e\"], [0.4444444444444444, \"#bd3786\"], [0.5555555555555556, \"#d8576b\"], [0.6666666666666666, \"#ed7953\"], [0.7777777777777778, \"#fb9f3a\"], [0.8888888888888888, \"#fdca26\"], [1.0, \"#f0f921\"]], \"type\": \"histogram2d\"}], \"histogram2dcontour\": [{\"colorbar\": {\"outlinewidth\": 0, \"ticks\": \"\"}, \"colorscale\": [[0.0, \"#0d0887\"], [0.1111111111111111, \"#46039f\"], [0.2222222222222222, \"#7201a8\"], [0.3333333333333333, \"#9c179e\"], [0.4444444444444444, \"#bd3786\"], [0.5555555555555556, \"#d8576b\"], [0.6666666666666666, \"#ed7953\"], [0.7777777777777778, \"#fb9f3a\"], [0.8888888888888888, \"#fdca26\"], [1.0, \"#f0f921\"]], \"type\": \"histogram2dcontour\"}], \"mesh3d\": [{\"colorbar\": {\"outlinewidth\": 0, \"ticks\": \"\"}, \"type\": \"mesh3d\"}], \"parcoords\": [{\"line\": {\"colorbar\": {\"outlinewidth\": 0, \"ticks\": \"\"}}, \"type\": \"parcoords\"}], \"pie\": [{\"automargin\": true, \"type\": \"pie\"}], \"scatter\": [{\"marker\": {\"colorbar\": {\"outlinewidth\": 0, \"ticks\": \"\"}}, \"type\": \"scatter\"}], \"scatter3d\": [{\"line\": {\"colorbar\": {\"outlinewidth\": 0, \"ticks\": \"\"}}, \"marker\": {\"colorbar\": {\"outlinewidth\": 0, \"ticks\": \"\"}}, \"type\": \"scatter3d\"}], \"scattercarpet\": [{\"marker\": {\"colorbar\": {\"outlinewidth\": 0, \"ticks\": \"\"}}, \"type\": \"scattercarpet\"}], \"scattergeo\": [{\"marker\": {\"colorbar\": {\"outlinewidth\": 0, \"ticks\": \"\"}}, \"type\": \"scattergeo\"}], \"scattergl\": [{\"marker\": {\"colorbar\": {\"outlinewidth\": 0, \"ticks\": \"\"}}, \"type\": \"scattergl\"}], \"scattermapbox\": [{\"marker\": {\"colorbar\": {\"outlinewidth\": 0, \"ticks\": \"\"}}, \"type\": \"scattermapbox\"}], \"scatterpolar\": [{\"marker\": {\"colorbar\": {\"outlinewidth\": 0, \"ticks\": \"\"}}, \"type\": \"scatterpolar\"}], \"scatterpolargl\": [{\"marker\": {\"colorbar\": {\"outlinewidth\": 0, \"ticks\": \"\"}}, \"type\": \"scatterpolargl\"}], \"scatterternary\": [{\"marker\": {\"colorbar\": {\"outlinewidth\": 0, \"ticks\": \"\"}}, \"type\": \"scatterternary\"}], \"surface\": [{\"colorbar\": {\"outlinewidth\": 0, \"ticks\": \"\"}, \"colorscale\": [[0.0, \"#0d0887\"], [0.1111111111111111, \"#46039f\"], [0.2222222222222222, \"#7201a8\"], [0.3333333333333333, \"#9c179e\"], [0.4444444444444444, \"#bd3786\"], [0.5555555555555556, \"#d8576b\"], [0.6666666666666666, \"#ed7953\"], [0.7777777777777778, \"#fb9f3a\"], [0.8888888888888888, \"#fdca26\"], [1.0, \"#f0f921\"]], \"type\": \"surface\"}], \"table\": [{\"cells\": {\"fill\": {\"color\": \"#EBF0F8\"}, \"line\": {\"color\": \"white\"}}, \"header\": {\"fill\": {\"color\": \"#C8D4E3\"}, \"line\": {\"color\": \"white\"}}, \"type\": \"table\"}]}, \"layout\": {\"annotationdefaults\": {\"arrowcolor\": \"#2a3f5f\", \"arrowhead\": 0, \"arrowwidth\": 1}, \"coloraxis\": {\"colorbar\": {\"outlinewidth\": 0, \"ticks\": \"\"}}, \"colorscale\": {\"diverging\": [[0, \"#8e0152\"], [0.1, \"#c51b7d\"], [0.2, \"#de77ae\"], [0.3, \"#f1b6da\"], [0.4, \"#fde0ef\"], [0.5, \"#f7f7f7\"], [0.6, \"#e6f5d0\"], [0.7, \"#b8e186\"], [0.8, \"#7fbc41\"], [0.9, \"#4d9221\"], [1, \"#276419\"]], \"sequential\": [[0.0, \"#0d0887\"], [0.1111111111111111, \"#46039f\"], [0.2222222222222222, \"#7201a8\"], [0.3333333333333333, \"#9c179e\"], [0.4444444444444444, \"#bd3786\"], [0.5555555555555556, \"#d8576b\"], [0.6666666666666666, \"#ed7953\"], [0.7777777777777778, \"#fb9f3a\"], [0.8888888888888888, \"#fdca26\"], [1.0, \"#f0f921\"]], \"sequentialminus\": [[0.0, \"#0d0887\"], [0.1111111111111111, \"#46039f\"], [0.2222222222222222, \"#7201a8\"], [0.3333333333333333, \"#9c179e\"], [0.4444444444444444, \"#bd3786\"], [0.5555555555555556, \"#d8576b\"], [0.6666666666666666, \"#ed7953\"], [0.7777777777777778, \"#fb9f3a\"], [0.8888888888888888, \"#fdca26\"], [1.0, \"#f0f921\"]]}, \"colorway\": [\"#636efa\", \"#EF553B\", \"#00cc96\", \"#ab63fa\", \"#FFA15A\", \"#19d3f3\", \"#FF6692\", \"#B6E880\", \"#FF97FF\", \"#FECB52\"], \"font\": {\"color\": \"#2a3f5f\"}, \"geo\": {\"bgcolor\": \"white\", \"lakecolor\": \"white\", \"landcolor\": \"#E5ECF6\", \"showlakes\": true, \"showland\": true, \"subunitcolor\": \"white\"}, \"hoverlabel\": {\"align\": \"left\"}, \"hovermode\": \"closest\", \"mapbox\": {\"style\": \"light\"}, \"paper_bgcolor\": \"white\", \"plot_bgcolor\": \"#E5ECF6\", \"polar\": {\"angularaxis\": {\"gridcolor\": \"white\", \"linecolor\": \"white\", \"ticks\": \"\"}, \"bgcolor\": \"#E5ECF6\", \"radialaxis\": {\"gridcolor\": \"white\", \"linecolor\": \"white\", \"ticks\": \"\"}}, \"scene\": {\"xaxis\": {\"backgroundcolor\": \"#E5ECF6\", \"gridcolor\": \"white\", \"gridwidth\": 2, \"linecolor\": \"white\", \"showbackground\": true, \"ticks\": \"\", \"zerolinecolor\": \"white\"}, \"yaxis\": {\"backgroundcolor\": \"#E5ECF6\", \"gridcolor\": \"white\", \"gridwidth\": 2, \"linecolor\": \"white\", \"showbackground\": true, \"ticks\": \"\", \"zerolinecolor\": \"white\"}, \"zaxis\": {\"backgroundcolor\": \"#E5ECF6\", \"gridcolor\": \"white\", \"gridwidth\": 2, \"linecolor\": \"white\", \"showbackground\": true, \"ticks\": \"\", \"zerolinecolor\": \"white\"}}, \"shapedefaults\": {\"line\": {\"color\": \"#2a3f5f\"}}, \"ternary\": {\"aaxis\": {\"gridcolor\": \"white\", \"linecolor\": \"white\", \"ticks\": \"\"}, \"baxis\": {\"gridcolor\": \"white\", \"linecolor\": \"white\", \"ticks\": \"\"}, \"bgcolor\": \"#E5ECF6\", \"caxis\": {\"gridcolor\": \"white\", \"linecolor\": \"white\", \"ticks\": \"\"}}, \"title\": {\"x\": 0.05}, \"xaxis\": {\"automargin\": true, \"gridcolor\": \"white\", \"linecolor\": \"white\", \"ticks\": \"\", \"title\": {\"standoff\": 15}, \"zerolinecolor\": \"white\", \"zerolinewidth\": 2}, \"yaxis\": {\"automargin\": true, \"gridcolor\": \"white\", \"linecolor\": \"white\", \"ticks\": \"\", \"title\": {\"standoff\": 15}, \"zerolinecolor\": \"white\", \"zerolinewidth\": 2}}}, \"xaxis\": {\"linecolor\": \"rgb(204, 204, 204)\", \"linewidth\": 2, \"showgrid\": true, \"showline\": true, \"showticklabels\": true, \"tickangle\": -80, \"tickfont\": {\"color\": \"rgb(82, 82, 82)\", \"family\": \"Arial\", \"size\": 12}, \"ticks\": \"outside\", \"title\": {\"text\": \"Date\"}}, \"yaxis\": {\"linecolor\": \"rgb(204, 204, 204)\", \"linewidth\": 2, \"showgrid\": true, \"showline\": true, \"showticklabels\": true, \"title\": {\"text\": \"Case Count (Log Scale)\"}, \"type\": \"log\"}},\n",
              "                        {\"responsive\": true}\n",
              "                    ).then(function(){\n",
              "                            \n",
              "var gd = document.getElementById('15ab954b-14e0-4791-a296-825beb9218e5');\n",
              "var x = new MutationObserver(function (mutations, observer) {{\n",
              "        var display = window.getComputedStyle(gd).display;\n",
              "        if (!display || display === 'none') {{\n",
              "            console.log([gd, 'removed!']);\n",
              "            Plotly.purge(gd);\n",
              "            observer.disconnect();\n",
              "        }}\n",
              "}});\n",
              "\n",
              "// Listen for the removal of the full notebook cells\n",
              "var notebookContainer = gd.closest('#notebook-container');\n",
              "if (notebookContainer) {{\n",
              "    x.observe(notebookContainer, {childList: true});\n",
              "}}\n",
              "\n",
              "// Listen for the clearing of the current output cell\n",
              "var outputEl = gd.closest('.output');\n",
              "if (outputEl) {{\n",
              "    x.observe(outputEl, {childList: true});\n",
              "}}\n",
              "\n",
              "                        })\n",
              "                };\n",
              "                \n",
              "            </script>\n",
              "        </div>\n",
              "</body>\n",
              "</html>"
            ]
          },
          "metadata": {
            "tags": []
          }
        }
      ]
    },
    {
      "cell_type": "code",
      "metadata": {
        "id": "yYwPoq1cwxhq",
        "colab_type": "code",
        "colab": {}
      },
      "source": [
        ""
      ],
      "execution_count": 0,
      "outputs": []
    }
  ]
}